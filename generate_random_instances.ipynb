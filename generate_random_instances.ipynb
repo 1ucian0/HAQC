{
 "cells": [
  {
   "cell_type": "code",
   "execution_count": 23,
   "metadata": {},
   "outputs": [],
   "source": [
    "from qaoa_vrp.generators.random_instances import *\n",
    "from qaoa_vrp.generators.generator_utils import *\n",
    "import json"
   ]
  },
  {
   "cell_type": "code",
   "execution_count": 24,
   "metadata": {},
   "outputs": [],
   "source": [
    "G = generate_random_instance(6, instance_type=\"erdos_renyi\")\n",
    "instance_json = instance_constructor(G, num_vehicles=2, threshold=1, n_max=10,  instance_type=\"erdos_renyi\")"
   ]
  },
  {
   "cell_type": "code",
   "execution_count": 25,
   "metadata": {},
   "outputs": [
    {
     "name": "stdout",
     "output_type": "stream",
     "text": [
      "{\n",
      "  \"graph\": {\n",
      "    \"nodes\": [\n",
      "      {\n",
      "        \"tag\": \"\",\n",
      "        \"id\": 0\n",
      "      },\n",
      "      {\n",
      "        \"tag\": \"\",\n",
      "        \"id\": 1\n",
      "      },\n",
      "      {\n",
      "        \"tag\": \"Depot\",\n",
      "        \"id\": 2\n",
      "      },\n",
      "      {\n",
      "        \"tag\": \"\",\n",
      "        \"id\": 3\n",
      "      },\n",
      "      {\n",
      "        \"tag\": \"\",\n",
      "        \"id\": 4\n",
      "      },\n",
      "      {\n",
      "        \"tag\": \"\",\n",
      "        \"id\": 5\n",
      "      }\n",
      "    ],\n",
      "    \"edges\": [\n",
      "      {\n",
      "        \"cost\": 1.14,\n",
      "        \"id\": \"2070cad0278d474c9df4ba088eac31b0\",\n",
      "        \"source\": 0,\n",
      "        \"target\": 2\n",
      "      },\n",
      "      {\n",
      "        \"cost\": 6.4,\n",
      "        \"id\": \"948b032f318444c88bf8fcb708b2769b\",\n",
      "        \"source\": 0,\n",
      "        \"target\": 4\n",
      "      },\n",
      "      {\n",
      "        \"cost\": 4.58,\n",
      "        \"id\": \"e22867cbbb2f45078a132e77ca04ed05\",\n",
      "        \"source\": 0,\n",
      "        \"target\": 5\n",
      "      },\n",
      "      {\n",
      "        \"cost\": 1.54,\n",
      "        \"id\": \"734427b7790c4038869315c18982c2be\",\n",
      "        \"source\": 1,\n",
      "        \"target\": 2\n",
      "      },\n",
      "      {\n",
      "        \"cost\": 6.68,\n",
      "        \"id\": \"651c089970014a3f8dadd348fffddb9d\",\n",
      "        \"source\": 1,\n",
      "        \"target\": 4\n",
      "      },\n",
      "      {\n",
      "        \"cost\": 3.71,\n",
      "        \"id\": \"28ae3a098c584d198a5332a211cea08a\",\n",
      "        \"source\": 1,\n",
      "        \"target\": 5\n",
      "      },\n",
      "      {\n",
      "        \"cost\": 9.4,\n",
      "        \"id\": \"9ae327e015e743b982c3ab71e130f33c\",\n",
      "        \"source\": 2,\n",
      "        \"target\": 3\n",
      "      },\n",
      "      {\n",
      "        \"cost\": 1.93,\n",
      "        \"id\": \"52fedc4c7f914558bb83614b4c1cea3a\",\n",
      "        \"source\": 3,\n",
      "        \"target\": 5\n",
      "      },\n",
      "      {\n",
      "        \"cost\": 6.97,\n",
      "        \"id\": \"6caff60f4c3d449ea07adfcf874e2367\",\n",
      "        \"source\": 4,\n",
      "        \"target\": 5\n",
      "      }\n",
      "    ]\n",
      "  },\n",
      "  \"vehicleCapacity\": 1,\n",
      "  \"numVehicles\": 2,\n",
      "  \"n_max\": 10,\n",
      "  \"threshold\": 1,\n",
      "  \"instance_type\": \"erdos_renyi\"\n",
      "}\n"
     ]
    }
   ],
   "source": [
    "print(json.dumps(instance_json, indent=2, default=np_encoder))"
   ]
  },
  {
   "cell_type": "code",
   "execution_count": 26,
   "metadata": {},
   "outputs": [
    {
     "data": {
      "image/png": "[encoded data removed]",
      "text/plain": [
       "<Figure size 432x288 with 1 Axes>"
      ]
     },
     "metadata": {},
     "output_type": "display_data"
    }
   ],
   "source": [
    "nx.draw(G)"
   ]
  },
  {
   "cell_type": "code",
   "execution_count": 27,
   "metadata": {},
   "outputs": [],
   "source": [
    "with open('data/watts_strogatz_instance.json', 'w') as outfile:\n",
    "    json.dump(instance_json, outfile, default=np_encoder)"
   ]
  },
  {
   "cell_type": "code",
   "execution_count": null,
   "metadata": {},
   "outputs": [],
   "source": []
  }
 ],
 "metadata": {
  "kernelspec": {
   "display_name": "Python 3",
   "language": "python",
   "name": "python3"
  },
  "language_info": {
   "codemirror_mode": {
    "name": "ipython",
    "version": 3
   },
   "file_extension": ".py",
   "mimetype": "text/x-python",
   "name": "python",
   "nbconvert_exporter": "python",
   "pygments_lexer": "ipython3",
   "version": "3.6.12"
  }
 },
 "nbformat": 4,
 "nbformat_minor": 4
}
