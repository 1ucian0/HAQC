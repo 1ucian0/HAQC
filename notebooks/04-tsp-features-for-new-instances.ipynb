{
 "cells": [
  {
   "cell_type": "markdown",
   "id": "6a011e2a",
   "metadata": {},
   "source": [
    "## TSP Features for New Instances\n",
    "\n",
    "In this notebook we implement the new features we're going to be tracking for the new instance graphs we have generated.\n",
    "\n",
    "This will help explore the different kind of instances we're playing with.\n",
    "\n",
    "Currently, on MATILDA all instances just sit on top of this each other. This is because the adjacency (connectivity) matrix features are all dominating the feature set. Since most graphs are complete we're seeing them overlap on the Instance Space.\n",
    "\n",
    "This means either:\n",
    "- Need more dramatic features to capture the variance in instances\n",
    "- Remove the features for connectivity of the networks\n"
   ]
  },
  {
   "cell_type": "code",
   "execution_count": 1,
   "id": "fe6616d9",
   "metadata": {},
   "outputs": [],
   "source": [
    "import qaoa_vrp.generators.random_instances as generators\n",
    "import networkx as nx\n",
    "import numpy as np"
   ]
  },
  {
   "cell_type": "code",
   "execution_count": 14,
   "id": "a520bc90",
   "metadata": {},
   "outputs": [
    {
     "data": {
      "text/plain": [
       "array([[0.        , 0.69676642, 0.8214913 , 0.2478156 ],\n",
       "       [0.69676642, 0.        , 0.16490936, 0.77502853],\n",
       "       [0.8214913 , 0.16490936, 0.        , 0.86128383],\n",
       "       [0.2478156 , 0.77502853, 0.86128383, 0.        ]])"
      ]
     },
     "execution_count": 14,
     "metadata": {},
     "output_type": "execute_result"
    }
   ],
   "source": [
    "num_nodes=4\n",
    "G = generators.generate_random_instance(num_nodes,1,\"euclidean_tsp\", quasi=True)\n",
    "cost_matrix=nx.adjacency_matrix(G, weight=\"cost\")\n",
    "cost_matrix.toarray()"
   ]
  },
  {
   "cell_type": "code",
   "execution_count": 15,
   "id": "98949f23",
   "metadata": {},
   "outputs": [
    {
     "data": {
      "text/plain": [
       "4"
      ]
     },
     "execution_count": 15,
     "metadata": {},
     "output_type": "execute_result"
    }
   ],
   "source": [
    "diff = abs(cost_matrix - cost_matrix.T)\n",
    "diff = diff.toarray()\n",
    "diff.shape[0]"
   ]
  },
  {
   "cell_type": "code",
   "execution_count": 16,
   "id": "0d1e8927",
   "metadata": {},
   "outputs": [
    {
     "data": {
      "text/plain": [
       "0.0"
      ]
     },
     "execution_count": 16,
     "metadata": {},
     "output_type": "execute_result"
    }
   ],
   "source": [
    "np.std(diff[np.triu_indices(4, k=1)])"
   ]
  },
  {
   "cell_type": "code",
   "execution_count": 17,
   "id": "cc8dedae",
   "metadata": {},
   "outputs": [
    {
     "data": {
      "text/plain": [
       "0.0"
      ]
     },
     "execution_count": 17,
     "metadata": {},
     "output_type": "execute_result"
    }
   ],
   "source": [
    "np.mean(diff[np.triu_indices(4, k=1)])"
   ]
  },
  {
   "cell_type": "code",
   "execution_count": null,
   "id": "ce786d72",
   "metadata": {},
   "outputs": [],
   "source": []
  }
 ],
 "metadata": {
  "kernelspec": {
   "display_name": "Python 3",
   "language": "python",
   "name": "python3"
  },
  "language_info": {
   "codemirror_mode": {
    "name": "ipython",
    "version": 3
   },
   "file_extension": ".py",
   "mimetype": "text/x-python",
   "name": "python",
   "nbconvert_exporter": "python",
   "pygments_lexer": "ipython3",
   "version": "3.9.4"
  }
 },
 "nbformat": 4,
 "nbformat_minor": 5
}
