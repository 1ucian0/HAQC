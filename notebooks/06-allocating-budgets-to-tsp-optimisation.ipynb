{
 "cells": [
  {
   "cell_type": "markdown",
   "id": "d29b1bf2",
   "metadata": {},
   "source": [
    "# General Travelling Sales Person\n",
    "\n",
    "In addition to being a notorious NP-hard problem that has drawn the attention of computer scientists and mathematicians for over two centuries, the Traveling Salesman Problem (TSP) has important bearings on finance and marketing, as its name suggests. \n",
    "\n",
    "Colloquially speaking, the traveling salesman is a person that goes from city to city to sell merchandise. The objective in this case is to find the shortest path that would enable the salesman to visit all the cities and return to its hometown, i.e. the city where he started traveling. By doing this, the salesman gets to maximize potential sales in the least amount of time.\n",
    "\n",
    "The problem derives its importance from its “hardness” and ubiquitous equivalence to other relevant combinatorial optimization problems that arise in practice.\n",
    "\n",
    "The mathematical formulation with some early analysis was proposed by W.R. Hamilton in the early 19th century. Mathematically the problem is, as in the case of Max-Cut, best abstracted in terms of network graphs. \n",
    "\n",
    "The TSP on the nodes of a graph asks for the shortest Hamiltonian cycle that can be taken through each of the nodes. A Hamilton cycle is a closed path that uses every vertex of a graph once. The general solution is unknown and an algorithm that finds it efficiently (e.g., in polynomial time) is not expected to exist.\n",
    "\n"
   ]
  },
  {
   "cell_type": "code",
   "execution_count": 49,
   "id": "6f96b503",
   "metadata": {},
   "outputs": [],
   "source": [
    "# Hide warnings\n",
    "import warnings\n",
    "warnings.filterwarnings('ignore')\n",
    "\n",
    "# Standard Libraries\n",
    "import argparse\n",
    "import json\n",
    "import time\n",
    "import networkx as nx\n",
    "import numpy as np\n",
    "from joblib import Parallel, delayed\n",
    "import mlflow\n",
    "import os\n",
    "import numpy as np\n",
    "import matplotlib.pyplot as plt\n",
    "import seaborn as sns\n",
    "import pandas as pd\n",
    "import pylab\n",
    "\n",
    "# Custom Libraries\n",
    "import qaoa_vrp.build_graph\n",
    "import qaoa_vrp.features.graph_features\n",
    "import qaoa_vrp.features.tsp_features\n",
    "import qaoa_vrp.build_circuit\n",
    "import qaoa_vrp.clustering\n",
    "import qaoa_vrp.utils\n",
    "from qaoa_vrp.exp_utils import str2bool, make_temp_directory\n",
    "from qaoa_vrp.quantum_burden import compute_quantum_burden\n",
    "from qaoa_vrp.classical.greedy_tsp import greedy_tsp\n",
    "from qaoa_vrp.plot.draw_euclidean_graphs import draw_euclidean_graph\n",
    "\n",
    "# QISKIT stuff\n",
    "from qiskit import Aer, execute\n",
    "from qiskit.providers.aer import QasmSimulator\n",
    "from qiskit.aqua import QuantumInstance, aqua_globals\n",
    "from qiskit.aqua.algorithms import QAOA, NumPyMinimumEigensolver,VQE\n",
    "from qiskit.circuit.library import TwoLocal\n",
    "from qiskit.algorithms.optimizers import COBYLA, L_BFGS_B, SLSQP, NELDER_MEAD, SPSA\n",
    "from qiskit.circuit import Parameter\n",
    "from qiskit.finance.applications.ising import portfolio\n",
    "from qiskit.optimization import QuadraticProgram\n",
    "from qiskit.optimization.converters import QuadraticProgramToQubo\n",
    "from qiskit.optimization.algorithms import (\n",
    "    MinimumEigenOptimizer,\n",
    "    RecursiveMinimumEigenOptimizer,\n",
    ")\n",
    "from qiskit.optimization.applications.ising.common import sample_most_likely\n",
    "from qiskit.optimization.applications.ising import max_cut, tsp\n",
    "\n",
    "# import logging\n",
    "# logging.basicConfig(level=logging.INFO)\n",
    "# logging.getLogger('qiskit.algorithms.minimum_eigen_solvers.vqe').setLevel(logging.INFO)"
   ]
  },
  {
   "cell_type": "code",
   "execution_count": 50,
   "id": "1f4cd3a6",
   "metadata": {},
   "outputs": [],
   "source": [
    "filename=\"instanceType_euclidean_tsp_numNodes_4_numVehicles_1_87a170c748e240d0b71d5fb7fe7de707.json\"\n",
    "instance_path = \"../data/{}\".format(filename)\n",
    "with open(instance_path) as f:\n",
    "        data = json.load(f)"
   ]
  },
  {
   "cell_type": "code",
   "execution_count": 51,
   "id": "cfce83b6",
   "metadata": {},
   "outputs": [],
   "source": [
    "# Build Graph\n",
    "G, depot_info = qaoa_vrp.build_graph.build_json_graph(data[\"graph\"])\n",
    "num_vehicles = int(data[\"numVehicles\"])\n",
    "threshold = float(data[\"threshold\"])\n",
    "n_max = int(data[\"n_max\"])\n",
    "instance_type = data[\"instance_type\"]\n",
    "p_max = data[\"p_max\"]\n"
   ]
  },
  {
   "cell_type": "code",
   "execution_count": 52,
   "id": "fca5ff78",
   "metadata": {},
   "outputs": [
    {
     "data": {
      "image/png": "[encoded data removed]",
      "text/plain": [
       "<Figure size 432x288 with 1 Axes>"
      ]
     },
     "metadata": {},
     "output_type": "display_data"
    }
   ],
   "source": [
    "nx.draw_networkx(G)"
   ]
  },
  {
   "cell_type": "code",
   "execution_count": 53,
   "id": "44828c46",
   "metadata": {},
   "outputs": [],
   "source": [
    "# Create QAOA parameter dictionary\n",
    "qaoa_dict = qaoa_vrp.utils.create_qaoa_params(threshold, n_max, p_max)"
   ]
  },
  {
   "cell_type": "code",
   "execution_count": 54,
   "id": "6dd8486d",
   "metadata": {},
   "outputs": [],
   "source": [
    "# Build Graph Feature Vector\n",
    "feature_vector = qaoa_vrp.features.graph_features.get_graph_features(G)\n",
    "# Build TSP Feature Vector\n",
    "tsp_feature_vector = qaoa_vrp.features.tsp_features.get_tsp_features(G)\n",
    "# Add num vehicles\n",
    "feature_vector[\"num_vehicles\"] = num_vehicles"
   ]
  },
  {
   "cell_type": "code",
   "execution_count": 55,
   "id": "87975cb9",
   "metadata": {},
   "outputs": [],
   "source": [
    "depot_edges = list(G.edges(depot_info[\"id\"], data=True))\n",
    "depot_node = depot_info[\"id\"]"
   ]
  },
  {
   "cell_type": "code",
   "execution_count": 56,
   "id": "7f10fdba",
   "metadata": {},
   "outputs": [],
   "source": [
    "edge_mat = nx.linalg.graphmatrix.adjacency_matrix(G).toarray()\n",
    "cost_mat = np.array(nx.attr_matrix(G, edge_attr=\"cost\", rc_order=list(G.nodes())))"
   ]
  },
  {
   "cell_type": "code",
   "execution_count": 57,
   "id": "978b23e8",
   "metadata": {},
   "outputs": [],
   "source": [
    "G, cluster_mapping = qaoa_vrp.clustering.create_clusters(\n",
    "    G, num_vehicles, \"spectral-clustering\", edge_mat\n",
    ")\n",
    "\n",
    "subgraphs = qaoa_vrp.clustering.build_sub_graphs(G, depot_node, depot_edges)\n",
    "\n",
    "big_offset = sum(sum(cost_mat))/2 + 1\n",
    "qubos = qaoa_vrp.build_circuit.build_qubos(subgraphs, depot_info,A=big_offset)\n",
    "\n",
    "qubos_solution_data = []\n",
    "\n",
    "cluster_mapping = [i + 1 for i in cluster_mapping]\n",
    "cluster_mapping.insert(0, 0)"
   ]
  },
  {
   "cell_type": "code",
   "execution_count": null,
   "id": "9e6053de",
   "metadata": {},
   "outputs": [],
   "source": []
  },
  {
   "cell_type": "code",
   "execution_count": 58,
   "id": "a1e2303f",
   "metadata": {},
   "outputs": [
    {
     "data": {
      "text/plain": [
       "\\ This file has been generated by DOcplex\n",
       "\\ ENCODING=ISO-8859-1\n",
       "\\Problem name: CPLEX\n",
       "\n",
       "Minimize\n",
       " obj: - 11.802651552078 X11 - 11.932160844816 X12 - 11.802651552078 X13\n",
       "      - 11.477125852685 X21 - 11.932160844816 X22 - 11.477125852685 X23\n",
       "      - 11.762377448228 X31 - 11.932160844816 X32 - 11.762377448228 X33 + [\n",
       "      11.932160844816 X11^2 + 11.932160844816 X11*X12 + 11.932160844816 X11*X13\n",
       "      + 11.932160844816 X11*X21 + 0.656366125546 X11*X22\n",
       "      + 11.932160844816 X11*X31 + 0.573070695708 X11*X32 + 11.932160844816 X12^2\n",
       "      + 11.932160844816 X12*X13 + 0.656366125546 X12*X21\n",
       "      + 11.932160844816 X12*X22 + 0.656366125546 X12*X23\n",
       "      + 0.573070695708 X12*X31 + 11.932160844816 X12*X32\n",
       "      + 0.573070695708 X12*X33 + 11.932160844816 X13^2 + 0.656366125546 X13*X22\n",
       "      + 11.932160844816 X13*X23 + 0.573070695708 X13*X32\n",
       "      + 11.932160844816 X13*X33 + 11.932160844816 X21^2\n",
       "      + 11.932160844816 X21*X22 + 11.932160844816 X21*X23\n",
       "      + 11.932160844816 X21*X31 + 1.227988238243 X21*X32 + 11.932160844816 X22^2\n",
       "      + 11.932160844816 X22*X23 + 1.227988238243 X22*X31\n",
       "      + 11.932160844816 X22*X32 + 1.227988238243 X22*X33 + 11.932160844816 X23^2\n",
       "      + 1.227988238243 X23*X32 + 11.932160844816 X23*X33 + 11.932160844816 X31^2\n",
       "      + 11.932160844816 X31*X32 + 11.932160844816 X31*X33\n",
       "      + 11.932160844816 X32^2 + 11.932160844816 X32*X33 + 11.932160844816 X33^2\n",
       "      ]/2 + 17.898241267223\n",
       "Subject To\n",
       "\n",
       "Bounds\n",
       " 0 <= X11 <= 1\n",
       " 0 <= X12 <= 1\n",
       " 0 <= X13 <= 1\n",
       " 0 <= X21 <= 1\n",
       " 0 <= X22 <= 1\n",
       " 0 <= X23 <= 1\n",
       " 0 <= X31 <= 1\n",
       " 0 <= X32 <= 1\n",
       " 0 <= X33 <= 1\n",
       "\n",
       "Binaries\n",
       " X11 X12 X13 X21 X22 X23 X31 X32 X33\n",
       "End"
      ]
     },
     "execution_count": 58,
     "metadata": {},
     "output_type": "execute_result"
    }
   ],
   "source": [
    "qubo = qubos[0]\n",
    "qubo"
   ]
  },
  {
   "cell_type": "code",
   "execution_count": 59,
   "id": "a7988928",
   "metadata": {},
   "outputs": [],
   "source": [
    "single_qubo_solution_data = {}\n",
    "single_qubo_solution_data[\"qubo_id\"] = 0\n",
    "single_qubo_solution_data[\"cluster\"] = [\n",
    "    index\n",
    "    for index, node in enumerate(cluster_mapping)\n",
    "    if node == 1 or node == 0\n",
    "]\n",
    "num_nodes=len(single_qubo_solution_data['cluster'])"
   ]
  },
  {
   "cell_type": "markdown",
   "id": "d39cb313",
   "metadata": {},
   "source": [
    "# Solving the QAOA"
   ]
  },
  {
   "cell_type": "markdown",
   "id": "c3222c72",
   "metadata": {},
   "source": [
    "Lets write some basic functions to find the solution from the result and also one to compute the cost based on our original graph"
   ]
  },
  {
   "cell_type": "code",
   "execution_count": 60,
   "id": "a09b13df",
   "metadata": {},
   "outputs": [],
   "source": [
    "op, offset = qubo.to_ising()\n",
    "num_qubits = qubo.get_num_vars()"
   ]
  },
  {
   "cell_type": "code",
   "execution_count": 61,
   "id": "4e0ebf92",
   "metadata": {},
   "outputs": [
    {
     "name": "stdout",
     "output_type": "stream",
     "text": [
      "Offset: 19.881281478427255\n",
      "Ising Hamiltonian:\n",
      "IIIIIIIIZ\t(-3.201474460229394+0j)\n",
      "IIIIIIZII\t(-3.201474460229394+0j)\n",
      "IIIIIZIII\t(-3.4461020027427596+0j)\n",
      "IIIZIIIII\t(-3.4461020027427596+0j)\n",
      "IIZIIIIII\t(-3.2930642762414735+0j)\n",
      "ZIIIIIIII\t(-3.293064276241474+0j)\n",
      "IIIIIIIZI\t(-3.2903994165175274+0j)\n",
      "IIIIZIIII\t(-3.454128802151119+0j)\n",
      "IZIIIIIII\t(-3.4333049446916064+0j)\n",
      "IIIIIIIZZ\t(1.4915201056019467+0j)\n",
      "IIIIIIZIZ\t(1.4915201056019467+0j)\n",
      "IIIIIIZZI\t(1.4915201056019467+0j)\n",
      "IIIIIZIIZ\t(1.4915201056019467+0j)\n",
      "IIIIIZIZI\t(0.082045765693287+0j)\n",
      "IIIIZIIIZ\t(0.082045765693287+0j)\n",
      "IIIIZIIZI\t(1.4915201056019467+0j)\n",
      "IIIIZIZII\t(0.082045765693287+0j)\n",
      "IIIIZZIII\t(1.4915201056019467+0j)\n",
      "IIIZIIIZI\t(0.082045765693287+0j)\n",
      "IIIZIIZII\t(1.4915201056019467+0j)\n",
      "IIIZIZIII\t(1.4915201056019467+0j)\n",
      "IIIZZIIII\t(1.4915201056019467+0j)\n",
      "IIZIIIIIZ\t(1.4915201056019467+0j)\n",
      "IIZIIIIZI\t(0.07163383696353035+0j)\n",
      "IIZIIZIII\t(1.4915201056019467+0j)\n",
      "IIZIZIIII\t(0.15349852978032563+0j)\n",
      "IZIIIIIIZ\t(0.07163383696353035+0j)\n",
      "IZIIIIIZI\t(1.4915201056019467+0j)\n",
      "IZIIIIZII\t(0.07163383696353035+0j)\n",
      "IZIIIZIII\t(0.15349852978032563+0j)\n",
      "IZIIZIIII\t(1.4915201056019467+0j)\n",
      "IZIZIIIII\t(0.15349852978032563+0j)\n",
      "IZZIIIIII\t(1.4915201056019467+0j)\n",
      "ZIIIIIIZI\t(0.07163383696353035+0j)\n",
      "ZIIIIIZII\t(1.4915201056019467+0j)\n",
      "ZIIIZIIII\t(0.15349852978032563+0j)\n",
      "ZIIZIIIII\t(1.4915201056019467+0j)\n",
      "ZIZIIIIII\t(1.4915201056019467+0j)\n",
      "ZZIIIIIII\t(1.4915201056019467+0j)\n",
      "\n"
     ]
    }
   ],
   "source": [
    "print('Offset:', offset)\n",
    "print('Ising Hamiltonian:')\n",
    "print(op.print_details())"
   ]
  },
  {
   "cell_type": "code",
   "execution_count": 62,
   "id": "6c3b4a32",
   "metadata": {},
   "outputs": [
    {
     "name": "stdout",
     "output_type": "stream",
     "text": [
      "// This file has been generated by DOcplex\n",
      "// model name is: AnonymousModel\n",
      "// single vars section\n",
      "dvar bool x_0;\n",
      "dvar bool x_1;\n",
      "dvar bool x_2;\n",
      "dvar bool x_3;\n",
      "dvar bool x_4;\n",
      "dvar bool x_5;\n",
      "dvar bool x_6;\n",
      "dvar bool x_7;\n",
      "dvar bool x_8;\n",
      "\n",
      "minimize\n",
      " - 5.836571 x_0 - 5.966080 x_1 - 5.836571 x_2 - 5.511045 x_3 - 5.966080 x_4\n",
      " - 5.511045 x_5 - 5.796297 x_6 - 5.966080 x_7 - 5.796297 x_8 [\n",
      " 5.966080 x_0*x_1 + 5.966080 x_0*x_2 + 5.966080 x_0*x_3 + 0.328183 x_0*x_4\n",
      " + 5.966080 x_0*x_6 + 0.286535 x_0*x_7 + 5.966080 x_1*x_2 + 0.328183 x_1*x_3\n",
      " + 5.966080 x_1*x_4 + 0.328183 x_1*x_5 + 0.286535 x_1*x_6 + 5.966080 x_1*x_7\n",
      " + 0.286535 x_1*x_8 + 0.328183 x_2*x_4 + 5.966080 x_2*x_5 + 0.286535 x_2*x_7\n",
      " + 5.966080 x_2*x_8 + 5.966080 x_3*x_4 + 5.966080 x_3*x_5 + 5.966080 x_3*x_6\n",
      " + 0.613994 x_3*x_7 + 5.966080 x_4*x_5 + 0.613994 x_4*x_6 + 5.966080 x_4*x_7\n",
      " + 0.613994 x_4*x_8 + 0.613994 x_5*x_7 + 5.966080 x_5*x_8 + 5.966080 x_6*x_7\n",
      " + 5.966080 x_6*x_8 + 5.966080 x_7*x_8 ] + 17.898241;\n",
      " \n",
      "subject to {\n",
      "\n",
      "}\n"
     ]
    }
   ],
   "source": [
    "qp = QuadraticProgram()\n",
    "qp.from_ising(op, offset, linear=True)\n",
    "qp.to_docplex().prettyprint()"
   ]
  },
  {
   "cell_type": "code",
   "execution_count": 63,
   "id": "af128ceb",
   "metadata": {},
   "outputs": [
    {
     "name": "stdout",
     "output_type": "stream",
     "text": [
      "optimal function value: 1.2395367993452244\n",
      "optimal value: [0. 1. 0. 0. 0. 1. 1. 0. 0.]\n",
      "status: SUCCESS\n"
     ]
    }
   ],
   "source": [
    "exact = MinimumEigenOptimizer(NumPyMinimumEigensolver())\n",
    "exact_result = exact.solve(qp)\n",
    "print(exact_result)"
   ]
  },
  {
   "cell_type": "code",
   "execution_count": 64,
   "id": "9b20f18a",
   "metadata": {},
   "outputs": [],
   "source": [
    "ee = NumPyMinimumEigensolver(op)\n",
    "exact_result = ee.run()"
   ]
  },
  {
   "cell_type": "code",
   "execution_count": 65,
   "id": "a01c633a",
   "metadata": {},
   "outputs": [
    {
     "name": "stdout",
     "output_type": "stream",
     "text": [
      "energy: -18.64174467908203\n",
      "tsp objective: 1.239536799345224\n",
      "feasible: True\n",
      "solution: [2, 0, 1]\n",
      "solution objective: 0.9127273476410219\n"
     ]
    }
   ],
   "source": [
    "print('energy:', exact_result.eigenvalue.real)\n",
    "print('tsp objective:', exact_result.eigenvalue.real + offset)\n",
    "x = sample_most_likely(exact_result.eigenstate)\n",
    "print('feasible:', tsp.tsp_feasible(x))\n",
    "z = tsp.get_tsp_solution(x)\n",
    "print('solution:', z)\n",
    "print('solution objective:', tsp.tsp_value(z, cost_mat))"
   ]
  },
  {
   "cell_type": "markdown",
   "id": "779cd685",
   "metadata": {},
   "source": [
    "## Running it on quantum computer\n",
    "We run the optimization routine using a feedback loop with a quantum computer that uses trial functions built with Y single-qubit rotations, $U_\\mathrm{single}(\\theta) = \\prod_{i=1}^n Y(\\theta_{i})$, and entangler steps $U_{entangler}$."
   ]
  },
  {
   "cell_type": "markdown",
   "id": "02b534dc",
   "metadata": {},
   "source": [
    "We will show the callback usage below over a set of optimizers for comparison. Let's ensure we're giving each algorithm a fair shot.\n",
    "\n",
    "- `SLSQP`\n",
    "- `COBYLA`\n",
    "- `NELDER_MEAD`\n",
    "- `SPSA`\n",
    "- `L_BFGS_B`"
   ]
  },
  {
   "cell_type": "code",
   "execution_count": 66,
   "id": "3088e981",
   "metadata": {},
   "outputs": [],
   "source": [
    "budget=500"
   ]
  },
  {
   "cell_type": "code",
   "execution_count": 67,
   "id": "14e8a690",
   "metadata": {},
   "outputs": [],
   "source": [
    "optimizers = [\n",
    "    SLSQP(maxiter=200, disp=True, eps=0.001),\n",
    "    COBYLA(maxiter=200, disp=True), \n",
    "    NELDER_MEAD(maxiter=200),\n",
    "    SPSA(maxiter=200),\n",
    "    L_BFGS_B(maxiter=200, eps=0.001)\n",
    "]\n",
    "converge_cnts = np.empty([len(optimizers)], dtype=object)\n",
    "converge_vals = np.empty([len(optimizers)], dtype=object)\n",
    "backend = Aer.get_backend('aer_simulator_matrix_product_state')"
   ]
  },
  {
   "cell_type": "markdown",
   "id": "f37d2092",
   "metadata": {},
   "source": [
    "$$p = 1$$"
   ]
  },
  {
   "cell_type": "code",
   "execution_count": 68,
   "id": "80e8839b",
   "metadata": {},
   "outputs": [
    {
     "name": "stdout",
     "output_type": "stream",
     "text": [
      "Optimizer: SLSQP        \n",
      "Optimization terminated successfully    (Exit mode 0)\n",
      "            Current function value: -5.38872948129647\n",
      "            Iterations: 6\n",
      "            Function evaluations: 46\n",
      "            Gradient evaluations: 6\n",
      "Optimization terminated successfully    (Exit mode 0)\n",
      "            Current function value: -0.7300763315509712\n",
      "            Iterations: 7\n",
      "            Function evaluations: 64\n",
      "            Gradient evaluations: 7\n",
      "Optimization terminated successfully    (Exit mode 0)\n",
      "            Current function value: -0.2593270790260189\n",
      "            Iterations: 2\n",
      "            Function evaluations: 23\n",
      "            Gradient evaluations: 2\n",
      "Optimization terminated successfully    (Exit mode 0)\n",
      "            Current function value: -7.502938287574455\n",
      "            Iterations: 6\n",
      "            Function evaluations: 64\n",
      "            Gradient evaluations: 6\n",
      "Optimization terminated successfully    (Exit mode 0)\n",
      "            Current function value: -0.1000442304913636\n",
      "            Iterations: 2\n",
      "            Function evaluations: 27\n",
      "            Gradient evaluations: 2\n",
      "Optimization terminated successfully    (Exit mode 0)\n",
      "            Current function value: -8.602066619908818\n",
      "            Iterations: 15\n",
      "            Function evaluations: 130\n",
      "            Gradient evaluations: 15\n",
      "Optimization terminated successfully    (Exit mode 0)\n",
      "            Current function value: -4.701854562787336\n",
      "            Iterations: 5\n",
      "            Function evaluations: 55\n",
      "            Gradient evaluations: 5\n",
      "Optimization terminated successfully    (Exit mode 0)\n",
      "            Current function value: -10.132860218789652\n",
      "            Iterations: 7\n",
      "            Function evaluations: 61\n",
      "            Gradient evaluations: 7\n",
      "Optimization terminated successfully    (Exit mode 0)\n",
      "            Current function value: -1.4833338180150666\n",
      "            Iterations: 6\n",
      "            Function evaluations: 53\n",
      "            Gradient evaluations: 6\n",
      "Optimizer: COBYLA        \n",
      "\n",
      "   Normal return from subroutine COBYLA\n",
      "\n",
      "   NFVALS =   33   F =-9.296148E+00    MAXCV = 0.000000E+00\n",
      "   X = 1.988818E+00  -1.023447E+00\n",
      "\n",
      "   Normal return from subroutine COBYLA\n",
      "\n",
      "   NFVALS =   26   F =-1.216734E+00    MAXCV = 0.000000E+00\n",
      "   X = 2.270228E-02   1.983706E+00\n",
      "\n",
      "   Normal return from subroutine COBYLA\n",
      "\n",
      "   NFVALS =   36   F =-9.395696E+00    MAXCV = 0.000000E+00\n",
      "   X = 9.850920E-01   2.065536E+00\n",
      "\n",
      "   Normal return from subroutine COBYLA\n",
      "\n",
      "   NFVALS =   34   F =-3.536685E+00    MAXCV = 0.000000E+00\n",
      "   X = 2.440049E-01   1.762647E+00\n",
      "\n",
      "   Normal return from subroutine COBYLA\n",
      "\n",
      "   NFVALS =   33   F =-4.349450E+00    MAXCV = 0.000000E+00\n",
      "   X = 2.810658E-01   1.929960E+00\n",
      "\n",
      "   Normal return from subroutine COBYLA\n",
      "\n",
      "   NFVALS =   34   F =-5.587779E+00    MAXCV = 0.000000E+00\n",
      "   X = 1.858749E+00   4.602086E-01\n",
      "\n",
      "   Normal return from subroutine COBYLA\n",
      "\n",
      "   NFVALS =   33   F =-1.778019E+00    MAXCV = 0.000000E+00\n",
      "   X = 1.378669E+00   1.772780E-01\n",
      "\n",
      "   Normal return from subroutine COBYLA\n",
      "\n",
      "   NFVALS =   36   F =-8.352743E+00    MAXCV = 0.000000E+00\n",
      "   X = 9.805964E-01  -1.217090E+00\n",
      "\n",
      "   Normal return from subroutine COBYLA\n",
      "\n",
      "   NFVALS =   31   F =-9.175874E+00    MAXCV = 0.000000E+00\n",
      "   X = 9.997687E-01   2.130602E+00\n",
      "\n",
      "   Normal return from subroutine COBYLA\n",
      "\n",
      "   NFVALS =   34   F =-1.151887E+01    MAXCV = 0.000000E+00\n",
      "   X = 9.128155E-02   2.680783E+00\n",
      "\n",
      "   Normal return from subroutine COBYLA\n",
      "\n",
      "   NFVALS =   29   F =-4.535257E+00    MAXCV = 0.000000E+00\n",
      "   X = 2.785458E-01   2.025009E+00\n",
      "\n",
      "   Normal return from subroutine COBYLA\n",
      "\n",
      "   NFVALS =   37   F =-8.751433E+00    MAXCV = 0.000000E+00\n",
      "   X =-9.840824E-01  -1.932485E+00\n",
      "\n",
      "   Normal return from subroutine COBYLA\n",
      "\n",
      "   NFVALS =   36   F =-9.123734E+00    MAXCV = 0.000000E+00\n",
      "   X =-8.680422E-01   2.563876E+00\n",
      "\n",
      "   Normal return from subroutine COBYLA\n",
      "\n",
      "   NFVALS =   32   F =-1.130379E+01    MAXCV = 0.000000E+00\n",
      "   X = 9.696428E-02  -3.398649E-01\n",
      "\n",
      "   Normal return from subroutine COBYLA\n",
      "\n",
      "   NFVALS =   39   F =-1.041137E+01    MAXCV = 0.000000E+00\n",
      "   X = 8.741173E-02   2.579790E+00\n",
      "Optimizer: NELDER_MEAD        \n",
      "Optimizer: SPSA        \n",
      "Optimizer: L_BFGS_B        \n",
      "Optimization complete\n"
     ]
    }
   ],
   "source": [
    "p = 1\n",
    "for i, optimizer in enumerate(optimizers):\n",
    "    print('\\rOptimizer: {}        '.format(type(optimizer).__name__))\n",
    "    counts = []\n",
    "    values = []\n",
    "    global_count = 0\n",
    "    n_restart = 0\n",
    "    \n",
    "    def store_intermediate_result(eval_count, parameters, mean, std):\n",
    "        global global_count\n",
    "        global_count += 1\n",
    "        counts.append(eval_count)\n",
    "        values.append(mean)\n",
    "        \n",
    "    while global_count < budget:\n",
    "        # Increment n_restarts\n",
    "        n_restart += 1\n",
    "        # Initiate a random point uniformly from [0,1]\n",
    "        initial_point = [np.random.uniform(0,1) for i in range(2*p)]         \n",
    "        # Set random seed\n",
    "        aqua_globals.random_seed = np.random.default_rng(123)\n",
    "        seed = 10598\n",
    "        # Initate quantum instance\n",
    "        quantum_instance = QuantumInstance(backend, seed_simulator=seed, seed_transpiler=seed)\n",
    "        # Initate QALA\n",
    "        qaoa = QAOA(\n",
    "            operator=op,\n",
    "            optimizer=optimizer,\n",
    "            callback=store_intermediate_result,\n",
    "            p=p,\n",
    "            initial_point = initial_point,\n",
    "            quantum_instance=quantum_instance\n",
    "        )\n",
    "        result = qaoa.compute_minimum_eigenvalue(operator=op)\n",
    "        converge_cnts[i] = np.asarray(counts)\n",
    "        converge_vals[i] = np.asarray(values)        \n",
    "    \n",
    "print('\\rOptimization complete');    "
   ]
  },
  {
   "cell_type": "code",
   "execution_count": 70,
   "id": "51779345",
   "metadata": {},
   "outputs": [],
   "source": [
    "results_dict = {\n",
    "    \"optimizer\":None,\n",
    "    \"n_eval\": None,\n",
    "    \"value\": None\n",
    "}\n",
    "\n",
    "optimizer_dict = {\n",
    "    0: \"SLSQP\",\n",
    "    1: \"COBYLA\",\n",
    "    2: \"NELDER_MEAD\",\n",
    "    3: \"SPSA\",\n",
    "    4: \"L_BFGS_B\"\n",
    "}\n",
    "\n",
    "d_results = []\n",
    "\n",
    "for i,(evals, values) in enumerate(zip(converge_cnts, converge_vals)):\n",
    "    for cnt, val in zip(evals, values):\n",
    "        results_dict_temp = results_dict.copy()\n",
    "        results_dict_temp[\"n_eval\"] = cnt\n",
    "        results_dict_temp[\"value\"] = val\n",
    "        results_dict_temp[\"optimizer\"] = optimizer_dict[i]\n",
    "        d_results.append(results_dict_temp)\n",
    "\n",
    "d_results = pd.DataFrame.from_records(d_results)\n",
    "# Add counter for num_evals\n",
    "d_results['total_evals']=d_results.groupby('optimizer').cumcount()"
   ]
  },
  {
   "cell_type": "code",
   "execution_count": 71,
   "id": "0db15921",
   "metadata": {},
   "outputs": [],
   "source": [
    "d_results.to_csv(\"../data/results.csv\")"
   ]
  },
  {
   "cell_type": "code",
   "execution_count": 81,
   "id": "572276d4",
   "metadata": {},
   "outputs": [
    {
     "data": {
      "image/png": "[encoded data removed]",
      "text/plain": [
       "<Figure size 1910.62x360 with 5 Axes>"
      ]
     },
     "metadata": {
      "needs_background": "light"
     },
     "output_type": "display_data"
    }
   ],
   "source": [
    "g = sns.relplot(\n",
    "    data=d_results, x=\"total_evals\", y=\"value\",\n",
    "    col=\"optimizer\", hue=\"optimizer\",\n",
    "    kind=\"line\"\n",
    ")\n",
    "\n",
    "(g.map(plt.axhline, y=-18.6, color=\".7\", dashes=(2, 1), zorder=0)\n",
    "  .tight_layout(w_pad=0))\n",
    "\n",
    "plt.show()"
   ]
  },
  {
   "cell_type": "code",
   "execution_count": 79,
   "id": "96ba2cda",
   "metadata": {},
   "outputs": [
    {
     "data": {
      "text/plain": [
       "<matplotlib.lines.Line2D at 0x14e2134c0>"
      ]
     },
     "execution_count": 79,
     "metadata": {},
     "output_type": "execute_result"
    },
    {
     "data": {
      "image/png": "[encoded data removed]",
      "text/plain": [
       "<Figure size 432x288 with 1 Axes>"
      ]
     },
     "metadata": {
      "needs_background": "light"
     },
     "output_type": "display_data"
    }
   ],
   "source": [
    "palette = sns.color_palette(\"mako_r\", 5)\n",
    "sns.lineplot(\n",
    "    data=d_results, x=\"total_evals\", y=\"value\",\n",
    "    hue=\"optimizer\",\n",
    "    palette=palette,\n",
    "    alpha=0.5\n",
    ")\n",
    "plt.axhline(y=-18.6, color=\".7\", dashes=(2, 1), zorder=0)"
   ]
  },
  {
   "cell_type": "code",
   "execution_count": 74,
   "id": "4df97d3d",
   "metadata": {},
   "outputs": [
    {
     "data": {
      "text/plain": [
       "[2, 0, 1]"
      ]
     },
     "execution_count": 74,
     "metadata": {},
     "output_type": "execute_result"
    }
   ],
   "source": [
    "x = sample_most_likely(result.eigenstate)\n",
    "tsp.get_tsp_solution(x)"
   ]
  },
  {
   "cell_type": "code",
   "execution_count": 75,
   "id": "aa9bdc14",
   "metadata": {},
   "outputs": [
    {
     "name": "stdout",
     "output_type": "stream",
     "text": [
      "energy: -18.64174467908203\n"
     ]
    }
   ],
   "source": [
    "print('energy:', result.eigenvalue.real)"
   ]
  },
  {
   "cell_type": "code",
   "execution_count": null,
   "id": "e2b075cd",
   "metadata": {},
   "outputs": [],
   "source": [
    "resa"
   ]
  }
 ],
 "metadata": {
  "kernelspec": {
   "display_name": "Python 3 (ipykernel)",
   "language": "python",
   "name": "python3"
  },
  "language_info": {
   "codemirror_mode": {
    "name": "ipython",
    "version": 3
   },
   "file_extension": ".py",
   "mimetype": "text/x-python",
   "name": "python",
   "nbconvert_exporter": "python",
   "pygments_lexer": "ipython3",
   "version": "3.9.4"
  }
 },
 "nbformat": 4,
 "nbformat_minor": 5
}
