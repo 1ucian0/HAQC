{
 "cells": [
  {
   "cell_type": "markdown",
   "id": "56178e3d",
   "metadata": {},
   "source": [
    "# General Travelling Sales Person with Zero Cost\n",
    "\n"
   ]
  },
  {
   "cell_type": "code",
   "execution_count": 12,
   "id": "184f4671",
   "metadata": {},
   "outputs": [],
   "source": [
    "# Hide warnings\n",
    "import warnings\n",
    "warnings.filterwarnings('ignore')\n",
    "\n",
    "# Standard Libraries\n",
    "import argparse\n",
    "import json\n",
    "import time\n",
    "import networkx as nx\n",
    "import numpy as np\n",
    "from joblib import Parallel, delayed\n",
    "import mlflow\n",
    "import os\n",
    "import numpy as np\n",
    "import matplotlib.pyplot as plt\n",
    "import seaborn as sns\n",
    "import pandas as pd\n",
    "import pylab\n",
    "\n",
    "# Custom Libraries\n",
    "import qaoa_vrp.build_graph\n",
    "import qaoa_vrp.features.graph_features\n",
    "import qaoa_vrp.features.tsp_features\n",
    "import qaoa_vrp.build_circuit\n",
    "import qaoa_vrp.clustering\n",
    "import qaoa_vrp.utils\n",
    "from qaoa_vrp.exp_utils import str2bool, make_temp_directory\n",
    "from qaoa_vrp.quantum_burden import compute_quantum_burden\n",
    "from qaoa_vrp.classical.greedy_tsp import greedy_tsp\n",
    "from qaoa_vrp.plot.draw_euclidean_graphs import draw_euclidean_graph\n",
    "\n",
    "# QISKIT stuff\n",
    "from qiskit import Aer, execute\n",
    "from qiskit.providers.aer import QasmSimulator\n",
    "from qiskit.aqua import QuantumInstance, aqua_globals\n",
    "from qiskit.aqua.algorithms import QAOA, NumPyMinimumEigensolver,VQE\n",
    "from qiskit.circuit.library import TwoLocal\n",
    "from qiskit.algorithms.optimizers import COBYLA, L_BFGS_B, SLSQP, NELDER_MEAD, SPSA\n",
    "from qiskit.circuit import Parameter\n",
    "from qiskit.finance.applications.ising import portfolio\n",
    "from qiskit.optimization import QuadraticProgram\n",
    "from qiskit.optimization.converters import QuadraticProgramToQubo\n",
    "from qiskit.optimization.algorithms import (\n",
    "    MinimumEigenOptimizer,\n",
    "    RecursiveMinimumEigenOptimizer,\n",
    ")\n",
    "from qiskit.optimization.applications.ising.common import sample_most_likely\n",
    "from qiskit.optimization.applications.ising import max_cut, tsp\n",
    "\n",
    "# import logging\n",
    "# logging.basicConfig(level=logging.INFO)\n",
    "# logging.getLogger('qiskit.algorithms.minimum_eigen_solvers.vqe').setLevel(logging.INFO)"
   ]
  },
  {
   "cell_type": "code",
   "execution_count": 13,
   "id": "f734c749",
   "metadata": {},
   "outputs": [],
   "source": [
    "filename=\"instanceType_euclidean_tsp_numNodes_4_numVehicles_1_87a170c748e240d0b71d5fb7fe7de707.json\"\n",
    "instance_path = \"../data/{}\".format(filename)\n",
    "with open(instance_path) as f:\n",
    "        data = json.load(f)"
   ]
  },
  {
   "cell_type": "code",
   "execution_count": 14,
   "id": "c476abaa",
   "metadata": {},
   "outputs": [],
   "source": [
    "# Build Graph\n",
    "G, depot_info = qaoa_vrp.build_graph.build_json_graph(data[\"graph\"])\n",
    "num_vehicles = int(data[\"numVehicles\"])\n",
    "threshold = float(data[\"threshold\"])\n",
    "n_max = int(data[\"n_max\"])\n",
    "instance_type = data[\"instance_type\"]\n",
    "p_max = data[\"p_max\"]\n"
   ]
  },
  {
   "cell_type": "code",
   "execution_count": 15,
   "id": "f7b4f9af",
   "metadata": {},
   "outputs": [
    {
     "data": {
      "image/png": "[encoded data removed]",
      "text/plain": [
       "<Figure size 432x288 with 1 Axes>"
      ]
     },
     "metadata": {},
     "output_type": "display_data"
    }
   ],
   "source": [
    "nx.draw_networkx(G)"
   ]
  },
  {
   "cell_type": "code",
   "execution_count": 16,
   "id": "1e4e6d7e",
   "metadata": {},
   "outputs": [],
   "source": [
    "# Create QAOA parameter dictionary\n",
    "qaoa_dict = qaoa_vrp.utils.create_qaoa_params(threshold, n_max, p_max)"
   ]
  },
  {
   "cell_type": "code",
   "execution_count": 17,
   "id": "54ab6872",
   "metadata": {},
   "outputs": [],
   "source": [
    "# Build Graph Feature Vector\n",
    "feature_vector = qaoa_vrp.features.graph_features.get_graph_features(G)\n",
    "# Build TSP Feature Vector\n",
    "tsp_feature_vector = qaoa_vrp.features.tsp_features.get_tsp_features(G)\n",
    "# Add num vehicles\n",
    "feature_vector[\"num_vehicles\"] = num_vehicles"
   ]
  },
  {
   "cell_type": "code",
   "execution_count": 18,
   "id": "01cef72a",
   "metadata": {},
   "outputs": [],
   "source": [
    "depot_edges = list(G.edges(depot_info[\"id\"], data=True))\n",
    "depot_node = depot_info[\"id\"]"
   ]
  },
  {
   "cell_type": "code",
   "execution_count": 19,
   "id": "4cf22dfc",
   "metadata": {},
   "outputs": [],
   "source": [
    "edge_mat = nx.linalg.graphmatrix.adjacency_matrix(G).toarray()\n",
    "cost_mat = np.array(nx.attr_matrix(G, edge_attr=\"cost\", rc_order=list(G.nodes())))\n",
    "for edge in G.edges():\n",
    "    G[edge[0]][edge[1]]['cost'] = 0\n",
    "edge_mat = nx.linalg.graphmatrix.adjacency_matrix(G).toarray()\n",
    "cost_mat = np.array(nx.attr_matrix(G, edge_attr=\"cost\", rc_order=list(G.nodes())))"
   ]
  },
  {
   "cell_type": "code",
   "execution_count": 20,
   "id": "789c29f5",
   "metadata": {},
   "outputs": [],
   "source": [
    "G, cluster_mapping = qaoa_vrp.clustering.create_clusters(\n",
    "    G, num_vehicles, \"spectral-clustering\", edge_mat\n",
    ")\n",
    "\n",
    "subgraphs = qaoa_vrp.clustering.build_sub_graphs(G, depot_node, depot_edges)\n",
    "\n",
    "# big_offset = sum(sum(cost_mat))/2 + 1\n",
    "big_offset=30\n",
    "qubos = qaoa_vrp.build_circuit.build_qubos(subgraphs, depot_info,A=big_offset)\n",
    "\n",
    "qubos_solution_data = []\n",
    "\n",
    "cluster_mapping = [i + 1 for i in cluster_mapping]\n",
    "cluster_mapping.insert(0, 0)"
   ]
  },
  {
   "cell_type": "code",
   "execution_count": 21,
   "id": "5e5620e2",
   "metadata": {},
   "outputs": [
    {
     "data": {
      "text/plain": [
       "\\ This file has been generated by DOcplex\n",
       "\\ ENCODING=ISO-8859-1\n",
       "\\Problem name: CPLEX\n",
       "\n",
       "Minimize\n",
       " obj: - 120 X11 - 120 X12 - 120 X13 - 120 X21 - 120 X22 - 120 X23 - 120 X31\n",
       "      - 120 X32 - 120 X33 + [ 120 X11^2 + 120 X11*X12 + 120 X11*X13\n",
       "      + 120 X11*X21 + 120 X11*X31 + 120 X12^2 + 120 X12*X13 + 120 X12*X22\n",
       "      + 120 X12*X32 + 120 X13^2 + 120 X13*X23 + 120 X13*X33 + 120 X21^2\n",
       "      + 120 X21*X22 + 120 X21*X23 + 120 X21*X31 + 120 X22^2 + 120 X22*X23\n",
       "      + 120 X22*X32 + 120 X23^2 + 120 X23*X33 + 120 X31^2 + 120 X31*X32\n",
       "      + 120 X31*X33 + 120 X32^2 + 120 X32*X33 + 120 X33^2 ]/2 + 180\n",
       "Subject To\n",
       "\n",
       "Bounds\n",
       " 0 <= X11 <= 1\n",
       " 0 <= X12 <= 1\n",
       " 0 <= X13 <= 1\n",
       " 0 <= X21 <= 1\n",
       " 0 <= X22 <= 1\n",
       " 0 <= X23 <= 1\n",
       " 0 <= X31 <= 1\n",
       " 0 <= X32 <= 1\n",
       " 0 <= X33 <= 1\n",
       "\n",
       "Binaries\n",
       " X11 X12 X13 X21 X22 X23 X31 X32 X33\n",
       "End"
      ]
     },
     "execution_count": 21,
     "metadata": {},
     "output_type": "execute_result"
    }
   ],
   "source": [
    "qubo = qubos[0]\n",
    "qubo"
   ]
  },
  {
   "cell_type": "code",
   "execution_count": 22,
   "id": "ab9caffe",
   "metadata": {},
   "outputs": [],
   "source": [
    "single_qubo_solution_data = {}\n",
    "single_qubo_solution_data[\"qubo_id\"] = 0\n",
    "single_qubo_solution_data[\"cluster\"] = [\n",
    "    index\n",
    "    for index, node in enumerate(cluster_mapping)\n",
    "    if node == 1 or node == 0\n",
    "]\n",
    "num_nodes=len(single_qubo_solution_data['cluster'])"
   ]
  },
  {
   "cell_type": "markdown",
   "id": "2d11ca24",
   "metadata": {},
   "source": [
    "# Solving the QAOA"
   ]
  },
  {
   "cell_type": "markdown",
   "id": "a3c570d7",
   "metadata": {},
   "source": [
    "Lets write some basic functions to find the solution from the result and also one to compute the cost based on our original graph"
   ]
  },
  {
   "cell_type": "code",
   "execution_count": 23,
   "id": "9ce14d12",
   "metadata": {},
   "outputs": [],
   "source": [
    "op, offset = qubo.to_ising()\n",
    "num_qubits = qubo.get_num_vars()"
   ]
  },
  {
   "cell_type": "code",
   "execution_count": 24,
   "id": "f16d1194",
   "metadata": {},
   "outputs": [
    {
     "name": "stdout",
     "output_type": "stream",
     "text": [
      "Offset: 180.0\n",
      "Ising Hamiltonian:\n",
      "IIIIIIIIZ\t(-30+0j)\n",
      "IIIIIIIZI\t(-30+0j)\n",
      "IIIIIIZII\t(-30+0j)\n",
      "IIIIIZIII\t(-30+0j)\n",
      "IIIIZIIII\t(-30+0j)\n",
      "IIIZIIIII\t(-30+0j)\n",
      "IIZIIIIII\t(-30+0j)\n",
      "IZIIIIIII\t(-30+0j)\n",
      "ZIIIIIIII\t(-30+0j)\n",
      "IIIIIIIZZ\t(15+0j)\n",
      "IIIIIIZIZ\t(15+0j)\n",
      "IIIIIIZZI\t(15+0j)\n",
      "IIIIIZIIZ\t(15+0j)\n",
      "IIIIZIIZI\t(15+0j)\n",
      "IIIIZZIII\t(15+0j)\n",
      "IIIZIIZII\t(15+0j)\n",
      "IIIZIZIII\t(15+0j)\n",
      "IIIZZIIII\t(15+0j)\n",
      "IIZIIIIIZ\t(15+0j)\n",
      "IIZIIZIII\t(15+0j)\n",
      "IZIIIIIZI\t(15+0j)\n",
      "IZIIZIIII\t(15+0j)\n",
      "IZZIIIIII\t(15+0j)\n",
      "ZIIIIIZII\t(15+0j)\n",
      "ZIIZIIIII\t(15+0j)\n",
      "ZIZIIIIII\t(15+0j)\n",
      "ZZIIIIIII\t(15+0j)\n",
      "\n"
     ]
    }
   ],
   "source": [
    "print('Offset:', offset)\n",
    "print('Ising Hamiltonian:')\n",
    "print(op.print_details())"
   ]
  },
  {
   "cell_type": "code",
   "execution_count": 25,
   "id": "bc0de139",
   "metadata": {},
   "outputs": [
    {
     "name": "stdout",
     "output_type": "stream",
     "text": [
      "// This file has been generated by DOcplex\n",
      "// model name is: AnonymousModel\n",
      "// single vars section\n",
      "dvar bool x_0;\n",
      "dvar bool x_1;\n",
      "dvar bool x_2;\n",
      "dvar bool x_3;\n",
      "dvar bool x_4;\n",
      "dvar bool x_5;\n",
      "dvar bool x_6;\n",
      "dvar bool x_7;\n",
      "dvar bool x_8;\n",
      "\n",
      "minimize\n",
      " - 60 x_0 - 60 x_1 - 60 x_2 - 60 x_3 - 60 x_4 - 60 x_5 - 60 x_6 - 60 x_7\n",
      " - 60 x_8 [ 60 x_0*x_1 + 60 x_0*x_2 + 60 x_0*x_3 + 60 x_0*x_6 + 60 x_1*x_2\n",
      " + 60 x_1*x_4 + 60 x_1*x_7 + 60 x_2*x_5 + 60 x_2*x_8 + 60 x_3*x_4 + 60 x_3*x_5\n",
      " + 60 x_3*x_6 + 60 x_4*x_5 + 60 x_4*x_7 + 60 x_5*x_8 + 60 x_6*x_7 + 60 x_6*x_8\n",
      " + 60 x_7*x_8 ] + 180;\n",
      " \n",
      "subject to {\n",
      "\n",
      "}\n"
     ]
    }
   ],
   "source": [
    "qp = QuadraticProgram()\n",
    "qp.from_ising(op, offset, linear=True)\n",
    "qp.to_docplex().prettyprint()"
   ]
  },
  {
   "cell_type": "code",
   "execution_count": 26,
   "id": "5d61865b",
   "metadata": {},
   "outputs": [
    {
     "name": "stdout",
     "output_type": "stream",
     "text": [
      "optimal function value: 0.0\n",
      "optimal value: [0. 0. 1. 1. 0. 0. 0. 1. 0.]\n",
      "status: SUCCESS\n"
     ]
    }
   ],
   "source": [
    "exact = MinimumEigenOptimizer(NumPyMinimumEigensolver())\n",
    "exact_result = exact.solve(qp)\n",
    "print(exact_result)"
   ]
  },
  {
   "cell_type": "code",
   "execution_count": 29,
   "id": "39f812d8",
   "metadata": {},
   "outputs": [],
   "source": [
    "ee = NumPyMinimumEigensolver(op)\n",
    "exact_result = ee.run()"
   ]
  },
  {
   "cell_type": "code",
   "execution_count": 22,
   "id": "cebfdd94",
   "metadata": {},
   "outputs": [
    {
     "name": "stdout",
     "output_type": "stream",
     "text": [
      "energy: -180.0\n",
      "tsp objective: 0.0\n",
      "feasible: True\n",
      "solution: [1, 2, 0]\n",
      "solution objective: 0.0\n"
     ]
    },
    {
     "name": "stderr",
     "output_type": "stream",
     "text": [
      "/Users/vivekkatial/.local/share/virtualenvs/HAQC-azaY3fAi/lib/python3.9/site-packages/qiskit/aqua/operators/state_fns/vector_state_fn.py:215: DeprecationWarning: The variable qiskit.aqua.aqua_globals is deprecated. It was moved/refactored to qiskit.utils.algorithm_globals (pip install qiskit-terra). For more information see <https://github.com/Qiskit/qiskit-aqua/blob/main/README.md#migration-guide>\n",
      "  unique, counts = np.unique(aqua_globals.random.choice(list(deterministic_counts.keys()),\n"
     ]
    }
   ],
   "source": [
    "print('energy:', exact_result.eigenvalue.real)\n",
    "print('tsp objective:', exact_result.eigenvalue.real + offset)\n",
    "x = sample_most_likely(exact_result.eigenstate)\n",
    "print('feasible:', tsp.tsp_feasible(x))\n",
    "z = tsp.get_tsp_solution(x)\n",
    "print('solution:', z)\n",
    "print('solution objective:', tsp.tsp_value(z, cost_mat))"
   ]
  },
  {
   "cell_type": "markdown",
   "id": "ebaf7c8f",
   "metadata": {},
   "source": [
    "## Running it on quantum computer\n",
    "We run the optimization routine using a feedback loop with a quantum computer that uses trial functions built with Y single-qubit rotations, $U_\\mathrm{single}(\\theta) = \\prod_{i=1}^n Y(\\theta_{i})$, and entangler steps $U_{entangler}$."
   ]
  },
  {
   "cell_type": "markdown",
   "id": "b111b74a",
   "metadata": {},
   "source": [
    "We will show the callback usage below over a set of optimizers for comparison. Let's ensure we're giving each algorithm a fair shot.\n",
    "\n",
    "- `SLSQP`\n",
    "- `COBYLA`\n",
    "- `NELDER_MEAD`\n",
    "- `SPSA`\n",
    "- `L_BFGS_B`\n",
    "\n",
    "## Different Optimsiation Algorithms\n",
    "\n",
    "### SLSQP\n",
    "Sequential Least Squares Quadratic Programming. It essentially fits sequential parabolas to then minimize. The parameters we can tune include:\n",
    "\n",
    "- `ftol`: Precision goal for the value of f in the stopping criterion. Default is 1e-06 *kept*\n",
    "- `eps`: Step size used for numerical approximation of the Jacobian. Default for this is 1.5e-08, I set it to be 0.001\n",
    "- `maxiter`: Maximum number of iterations (set to be 1000)\n",
    "- `finite_diff_rel_step`: Default is `None`. \n",
    "\n",
    "SLSQP is ideal for mathematical problems for which the objective function and the constraints are twice continuously differentiable. In our case since, we're working with quadratic terms we suspect it should be good?\n",
    "\n",
    "\n",
    "### COBYLA\n",
    "Constrained Optimization BY Linear Approximation (COBYLA) algorithm. It is a numerical optimization method for constrained problems where the derivative of the objective function is not known.\n",
    "\n",
    "The parameters we can play with are:\n",
    "- `maxiter`: Maximum number of iterations (set to be 1000)\n",
    "- `rhobeg`: Reasonable initial changes to the variables. Default is currently 1.0, I have set it to be 0.01.\n",
    "- `tol`: None (default is 1e4).\n",
    "\n",
    "### Nelder Mead\n",
    "The Nelder–Mead method is a commonly applied numerical method used to find the minimum or maximum of an objective function in a multidimensional space.\n",
    "\n",
    "- `maxfev` Maximum allowed number of function evaluations. If both maxiter and maxfev are set, minimization will stop at the first reached. Set to the budget of $b=1000$\n",
    "- `tol` Tolerance for termination (set to 1e-04)\n",
    "- `adaptive` Adapt algorithm parameters to dimensionality of problem. Set to `True`\n",
    "\n",
    "### SPSA\n",
    "Simultaneous perturbation stochastic approximation (SPSA). SPSA is an gradient descent method for optimizing systems with multiple unknown parameters. As an optimization method, it is appropriately suited to large-scale population models, adaptive modeling, and simulation optimization\n",
    "\n",
    "### L-BFGS-B\n",
    "Limited-memory BFGS (L-BFGS or LM-BFGS) is an optimization algorithm in the family of quasi-Newton methods that approximates the Broyden–Fletcher–Goldfarb–Shanno algorithm (BFGS) using a limited amount of computer memory.\n",
    "\n",
    "It assumes the objective function is a differentiable scalar function $f$. It does not require a hessian matrix. It is a method that uses limited memory, the derivatives are used to find the direction for the steepest descent.\n",
    "\n",
    "Parameters we can tune include:\n",
    "\n",
    "- `maxfun`: Maximum number of function evaluations.\n",
    "- `factr`: The iteration stops when $\\frac{(f^k - f^{k+1})}{\\max{(|f^k|, |f^{k+1}|,1)}} \\leq \\text{factor} \\times \\epsilon$\n",
    "- `epsilon`: Step size used (set this to be 0.001)"
   ]
  },
  {
   "cell_type": "code",
   "execution_count": 28,
   "id": "719659a4",
   "metadata": {},
   "outputs": [
    {
     "name": "stderr",
     "output_type": "stream",
     "text": [
      "/Users/vivekkatial/.local/share/virtualenvs/HAQC-azaY3fAi/lib/python3.9/site-packages/qiskit/utils/deprecation.py:62: DeprecationWarning: L_BFGS_B.__init__() keyword argument factr is deprecated and replaced with ftol. The relationship between the two is ftol = factr * numpy.finfo(float).eps. See https://docs.scipy.org/doc/scipy/reference/optimize.minimize-lbfgsb.html.\n",
      "  return func(*args, **kwargs)\n"
     ]
    }
   ],
   "source": [
    "budget=100\n",
    "optimizers = [\n",
    "#     SLSQP(maxiter=budget, disp=True, eps=0.001),\n",
    "#     COBYLA(maxiter=budget, disp=True, rhobeg=0.1), \n",
    "    NELDER_MEAD(maxfev=budget,disp=True,adaptive=True),\n",
    "#     SPSA(maxiter=budget,learning_rate=0.01,perturbation=0.01),\n",
    "     L_BFGS_B(maxfun=budget,factr=10, epsilon=0.001,iprint=100)\n",
    "]\n",
    "converge_cnts = np.empty([len(optimizers)], dtype=object)\n",
    "converge_vals = np.empty([len(optimizers)], dtype=object)\n",
    "backend = Aer.get_backend('aer_simulator_matrix_product_state')\n",
    "\n"
   ]
  },
  {
   "cell_type": "markdown",
   "id": "dae4a981",
   "metadata": {},
   "source": [
    "$$p = 1$$"
   ]
  },
  {
   "cell_type": "code",
   "execution_count": 29,
   "id": "8bd6577d",
   "metadata": {},
   "outputs": [
    {
     "name": "stdout",
     "output_type": "stream",
     "text": [
      "Optimizer: NELDER_MEAD        \n",
      "Optimization terminated successfully.\n",
      "         Current function value: -1.699219\n",
      "         Iterations: 22\n",
      "         Function evaluations: 59\n",
      "Optimization terminated successfully.\n",
      "         Current function value: -109.980469\n",
      "         Iterations: 39\n",
      "         Function evaluations: 87\n",
      "Optimizer: L_BFGS_B        \n",
      "RUNNING THE L-BFGS-B CODE\n",
      "\n",
      "           * * *\n",
      "\n",
      "Machine precision = 2.220D-16\n",
      " N =            2     M =           10\n",
      "\n",
      "At X0         0 variables are exactly at the bounds\n",
      "\n",
      "At iterate    0    f=  1.02129D+02    |proj g|=  2.10937D+03\n",
      "\n",
      "\n",
      "ITERATION     1\n",
      "\n",
      "---------------- CAUCHY entered-------------------\n",
      " There are            1   breakpoints \n",
      "\n",
      "Piece      1 --f1, f2 at start point  -4.6692D+06  4.6692D+06\n",
      "Distance to the next break point =   4.2637D-04\n",
      "Distance to the stationary point =   1.0000D+00\n",
      " Variable             2   is fixed.\n",
      "\n",
      " GCP found in this segment\n",
      "Piece      2 --f1, f2 at start point  -4.4476D+06  4.4495D+06\n",
      "Distance to the stationary point =   9.9957D-01\n",
      "\n",
      "---------------- exit CAUCHY----------------------\n",
      "\n",
      "           1  variables are free at GCP            1\n",
      " LINE SEARCH           0  times; norm of step =    1.0000000000000000     \n",
      "\n",
      "At iterate    1    f= -2.51953D+00    |proj g|=  1.52344D+03\n",
      "\n",
      "\n",
      "ITERATION     2\n",
      "\n",
      "---------------- CAUCHY entered-------------------\n",
      " There are            1   breakpoints \n",
      "\n",
      "Piece      1 --f1, f2 at start point  -2.4067D+06  1.5760D+09\n",
      "Distance to the next break point =   6.8187D-04\n",
      "Distance to the stationary point =   1.5271D-03\n",
      " Variable             2   is fixed.\n",
      "\n",
      " GCP found in this segment\n",
      "Piece      2 --f1, f2 at start point  -1.3402D+06  1.3598D+09\n",
      "Distance to the stationary point =   9.8552D-04\n",
      "\n",
      "---------------- exit CAUCHY----------------------\n",
      "\n",
      "           0  variables leave;            0  variables enter\n",
      "           1  variables are free at GCP            2\n",
      "\n",
      "----------------SUBSM entered-----------------\n",
      "\n",
      "\n",
      "----------------exit SUBSM --------------------\n",
      "\n",
      " LINE SEARCH           9  times; norm of step =   0.18088741760915075     \n",
      "\n",
      "At iterate    2    f= -6.08203D+01    |proj g|=  3.69141D+03\n",
      "\n",
      "\n",
      "ITERATION     3\n",
      "\n",
      "---------------- CAUCHY entered-------------------\n",
      " There are            1   breakpoints \n",
      "\n",
      "Piece      1 --f1, f2 at start point  -1.4207D+07  4.3567D+11\n",
      "Distance to the next break point =   2.4364D-04\n",
      "Distance to the stationary point =   3.2609D-05\n",
      "\n",
      " GCP found in this segment\n",
      "Piece      1 --f1, f2 at start point  -1.4207D+07  4.3567D+11\n",
      "Distance to the stationary point =   3.2609D-05\n",
      "\n",
      "---------------- exit CAUCHY----------------------\n",
      "\n",
      " Variable            2  enters the set of free variables\n",
      "           0  variables leave;            1  variables enter\n",
      "           2  variables are free at GCP            3\n",
      "\n",
      "----------------SUBSM entered-----------------\n",
      "\n",
      "\n",
      "----------------exit SUBSM --------------------\n",
      "\n",
      " LINE SEARCH           4  times; norm of step =    6.3345290743174690E-003\n",
      "\n",
      "At iterate    3    f= -7.50000D+01    |proj g|=  1.11328D+03\n",
      "\n",
      "\n",
      "ITERATION     4\n",
      "\n",
      "---------------- CAUCHY entered-------------------\n",
      " There are            1   breakpoints \n",
      "\n",
      "Piece      1 --f1, f2 at start point  -2.3518D+06  1.1606D+12\n",
      "Distance to the next break point =   1.7547D-04\n",
      "Distance to the stationary point =   2.0264D-06\n",
      "\n",
      " GCP found in this segment\n",
      "Piece      1 --f1, f2 at start point  -2.3518D+06  1.1606D+12\n",
      "Distance to the stationary point =   2.0264D-06\n",
      "\n",
      "---------------- exit CAUCHY----------------------\n",
      "\n",
      "           0  variables leave;            0  variables enter\n",
      "           2  variables are free at GCP            4\n",
      "\n",
      "----------------SUBSM entered-----------------\n",
      "\n",
      "\n",
      "----------------exit SUBSM --------------------\n",
      "\n",
      " LINE SEARCH           2  times; norm of step =    3.2814454935464407E-003\n",
      "\n",
      "At iterate    4    f= -7.70508D+01    |proj g|=  4.45312D+03\n",
      "\n",
      "\n",
      "ITERATION     5\n",
      "\n",
      "---------------- CAUCHY entered-------------------\n",
      " There are            1   breakpoints \n",
      "\n",
      "Piece      1 --f1, f2 at start point  -1.9861D+07  7.7503D+13\n",
      "Distance to the next break point =   3.4710D-02\n",
      "Distance to the stationary point =   2.5626D-07\n",
      "\n",
      " GCP found in this segment\n",
      "Piece      1 --f1, f2 at start point  -1.9861D+07  7.7503D+13\n",
      "Distance to the stationary point =   2.5626D-07\n",
      "\n",
      "---------------- exit CAUCHY----------------------\n",
      "\n",
      "           0  variables leave;            0  variables enter\n",
      "           2  variables are free at GCP            5\n",
      "\n",
      "----------------SUBSM entered-----------------\n",
      "\n",
      "\n",
      "----------------exit SUBSM --------------------\n",
      "\n",
      " LINE SEARCH          17  times; norm of step =    2.1033799959994626E-005\n",
      "\n",
      "At iterate    5    f= -7.72266D+01    |proj g|=  4.74609D+03\n",
      "\n",
      "           * * *\n",
      "\n",
      "Tit   = total number of iterations\n",
      "Tnf   = total number of function evaluations\n",
      "Tnint = total number of segments explored during Cauchy searches\n",
      "Skip  = number of BFGS updates skipped\n",
      "Nact  = number of active bounds at final generalized Cauchy point\n",
      "Projg = norm of the final projected gradient\n",
      "F     = final function value\n",
      "\n",
      "           * * *\n",
      "\n",
      "   N    Tit     Tnf  Tnint  Skip  Nact     Projg        F\n",
      "    2      5     38      7     0     0   4.746D+03  -7.723D+01\n",
      "\n",
      " X = -9.5419D-01  1.8177D-01\n",
      "  F =  -77.226562500000000     \n",
      "\n",
      "STOP: TOTAL NO. of f AND g EVALUATIONS EXCEEDS LIMIT        \n",
      "Optimization complete\n"
     ]
    }
   ],
   "source": [
    "p = 1\n",
    "for i, optimizer in enumerate(optimizers):\n",
    "    print('\\rOptimizer: {}        '.format(type(optimizer).__name__))\n",
    "    counts = []\n",
    "    values = []\n",
    "    global_count = 0\n",
    "    n_restart = 0\n",
    "    \n",
    "    def store_intermediate_result(eval_count, parameters, mean, std):\n",
    "        global global_count\n",
    "        global_count += 1\n",
    "        counts.append(eval_count)\n",
    "        values.append(mean)\n",
    "        \n",
    "    while global_count < budget:\n",
    "        # Increment n_restarts\n",
    "        n_restart += 1\n",
    "        # Initiate a random point uniformly from [0,1]\n",
    "        initial_point = [np.random.uniform(0,1) for i in range(2*p)]         \n",
    "        # Set random seed\n",
    "        aqua_globals.random_seed = np.random.default_rng(123)\n",
    "        seed = 10598\n",
    "        # Initate quantum instance\n",
    "        quantum_instance = QuantumInstance(backend, seed_simulator=seed, seed_transpiler=seed)\n",
    "        # Initate QALA\n",
    "        qaoa = QAOA(\n",
    "            operator=op,\n",
    "            optimizer=optimizer,\n",
    "            callback=store_intermediate_result,\n",
    "            p=p,\n",
    "            initial_point = initial_point,\n",
    "            quantum_instance=quantum_instance\n",
    "        )\n",
    "        result = qaoa.compute_minimum_eigenvalue(operator=op)\n",
    "        converge_cnts[i] = np.asarray(counts)\n",
    "        converge_vals[i] = np.asarray(values)        \n",
    "    \n",
    "print('\\rOptimization complete');    "
   ]
  },
  {
   "cell_type": "code",
   "execution_count": 30,
   "id": "27e511b7",
   "metadata": {},
   "outputs": [],
   "source": [
    "results_dict = {\n",
    "    \"optimizer\":None,\n",
    "    \"n_eval\": None,\n",
    "    \"value\": None\n",
    "}\n",
    "\n",
    "optimizer_dict = {\n",
    "    0: \"NELDER_MEAD\",\n",
    "    1: \"COBYLA\",\n",
    "    2: \"NELDER_MEAD\",\n",
    "    3: \"SPSA\",\n",
    "    4: \"L_BFGS_B\"\n",
    "}\n",
    "\n",
    "d_results = []\n",
    "\n",
    "for i,(evals, values) in enumerate(zip(converge_cnts, converge_vals)):\n",
    "    for cnt, val in zip(evals, values):\n",
    "        results_dict_temp = results_dict.copy()\n",
    "        results_dict_temp[\"n_eval\"] = cnt\n",
    "        results_dict_temp[\"value\"] = val\n",
    "        results_dict_temp[\"optimizer\"] = optimizer_dict[i]\n",
    "        d_results.append(results_dict_temp)\n",
    "\n",
    "d_results = pd.DataFrame.from_records(d_results)\n",
    "# Add counter for num_evals\n",
    "d_results['total_evals']=d_results.groupby('optimizer').cumcount()"
   ]
  },
  {
   "cell_type": "code",
   "execution_count": 31,
   "id": "dc4ffa64",
   "metadata": {},
   "outputs": [],
   "source": [
    "d_results.to_csv(\"../data/results_large_offset.csv\")"
   ]
  },
  {
   "cell_type": "code",
   "execution_count": 32,
   "id": "0eb287bc",
   "metadata": {},
   "outputs": [
    {
     "data": {
      "image/png": "[encoded data removed]",
      "text/plain": [
       "<Figure size 830.625x360 with 2 Axes>"
      ]
     },
     "metadata": {
      "needs_background": "light"
     },
     "output_type": "display_data"
    }
   ],
   "source": [
    "g = sns.relplot(\n",
    "    data=d_results, x=\"total_evals\", y=\"value\",\n",
    "    col=\"optimizer\", hue=\"optimizer\",\n",
    "    kind=\"line\"\n",
    ")\n",
    "\n",
    "(g.map(plt.axhline, y=-180, color=\".7\", dashes=(2, 1), zorder=0)\n",
    "  .tight_layout(w_pad=0))\n",
    "\n",
    "plt.show()"
   ]
  },
  {
   "cell_type": "code",
   "execution_count": 34,
   "id": "8087d3e4",
   "metadata": {},
   "outputs": [
    {
     "data": {
      "text/plain": [
       "<matplotlib.lines.Line2D at 0x14a26b550>"
      ]
     },
     "execution_count": 34,
     "metadata": {},
     "output_type": "execute_result"
    },
    {
     "data": {
      "image/png": "[encoded data removed]",
      "text/plain": [
       "<Figure size 432x288 with 1 Axes>"
      ]
     },
     "metadata": {
      "needs_background": "light"
     },
     "output_type": "display_data"
    }
   ],
   "source": [
    "palette = sns.color_palette(\"mako_r\", 2)\n",
    "sns.lineplot(\n",
    "    data=d_results, x=\"total_evals\", y=\"value\",\n",
    "    hue=\"optimizer\",\n",
    "    palette=palette,\n",
    "    alpha=0.5\n",
    ")\n",
    "plt.axhline(y=-180, color=\".7\", dashes=(2, 1), zorder=0)"
   ]
  },
  {
   "cell_type": "code",
   "execution_count": 35,
   "id": "67db44ec",
   "metadata": {},
   "outputs": [
    {
     "data": {
      "text/plain": [
       "[1, 0, 2]"
      ]
     },
     "execution_count": 35,
     "metadata": {},
     "output_type": "execute_result"
    }
   ],
   "source": [
    "x = sample_most_likely(result.eigenstate)\n",
    "tsp.get_tsp_solution(x)"
   ]
  },
  {
   "cell_type": "code",
   "execution_count": 36,
   "id": "f39b704b",
   "metadata": {},
   "outputs": [
    {
     "name": "stdout",
     "output_type": "stream",
     "text": [
      "energy: -77.2265625\n"
     ]
    }
   ],
   "source": [
    "print('energy:', result.eigenvalue.real)"
   ]
  },
  {
   "cell_type": "code",
   "execution_count": 37,
   "id": "02b29321",
   "metadata": {},
   "outputs": [
    {
     "data": {
      "image/png": "[encoded data removed]",
      "text/plain": [
       "<Figure size 432x288 with 1 Axes>"
      ]
     },
     "metadata": {
      "needs_background": "light"
     },
     "output_type": "display_data"
    }
   ],
   "source": [
    "plt.clf()\n",
    "feasible_count = 0\n",
    "infeasible_count = 0\n",
    "solution_count = 0\n",
    "feasibility_results = {\n",
    "    \"feasible_count\": None,\n",
    "    \"infeasible_count\": None,\n",
    "    \"solution_count\": None,\n",
    "    \"random_guess\": None\n",
    "}\n",
    "\n",
    "num_feasible = len([x for x in result.eigenstate.keys() if tsp.tsp_feasible(x)])\n",
    "\n",
    "for state in result.eigenstate.keys():\n",
    "    x = sample_most_likely(exact_result.eigenstate)\n",
    "    exact_sol_state = ''.join([str(i) for i in x])\n",
    "    if tsp.tsp_feasible(state):\n",
    "        feasible_count += result.eigenstate[state]\n",
    "    else:\n",
    "        infeasible_count += result.eigenstate[state]\n",
    "    if exact_sol_state == state:\n",
    "        solution_count = result.eigenstate[state]\n",
    "\n",
    "feasibility_results[\"feasible_count\"]=feasible_count\n",
    "feasibility_results[\"infeasible_count\"]=infeasible_count\n",
    "feasibility_results[\"solution_count\"]=solution_count\n",
    "feasibility_results[\"random_guess\"]=(feasible_count+infeasible_count)/2**num_qubits\n",
    "feasibility_results[\"random_feasible_guess\"]=(feasible_count+infeasible_count)/num_feasible\n",
    "keys = list(feasibility_results.keys())\n",
    "# # get values in the same order as keys, and parse percentage values\n",
    "vals = [feasibility_results[k] for k in keys]\n",
    "feasible_plot = sns.barplot(x=keys, y=vals)\n",
    "feasible_plot.set_xticklabels(feasible_plot.get_xticklabels(), \n",
    "                          rotation=90, \n",
    "                          horizontalalignment='right')\n",
    "plt.show()"
   ]
  },
  {
   "cell_type": "markdown",
   "id": "b5a7c8b1",
   "metadata": {},
   "source": [
    "$$ p = 2 $$"
   ]
  },
  {
   "cell_type": "code",
   "execution_count": 27,
   "id": "0989dbb5",
   "metadata": {},
   "outputs": [
    {
     "name": "stdout",
     "output_type": "stream",
     "text": [
      "Optimizer: NELDER_MEAD        \n",
      "Warning: Maximum number of function evaluations has been exceeded.\n",
      "Optimization complete\n"
     ]
    }
   ],
   "source": [
    "p = 2\n",
    "for i, optimizer in enumerate(optimizers):\n",
    "    print('\\rOptimizer: {}        '.format(type(optimizer).__name__))\n",
    "    counts = []\n",
    "    values = []\n",
    "    global_count = 0\n",
    "    n_restart = 0\n",
    "    \n",
    "    def store_intermediate_result(eval_count, parameters, mean, std):\n",
    "        global global_count\n",
    "        global_count += 1\n",
    "        counts.append(eval_count)\n",
    "        values.append(mean)\n",
    "        \n",
    "    while global_count < budget:\n",
    "        # Increment n_restarts\n",
    "        n_restart += 1\n",
    "        # Initiate a random point uniformly from [0,1]\n",
    "        initial_point = [np.random.uniform(0,1) for i in range(2*p)]         \n",
    "        # Set random seed\n",
    "        aqua_globals.random_seed = np.random.default_rng(123)\n",
    "        seed = 10598\n",
    "        # Initate quantum instance\n",
    "        quantum_instance = QuantumInstance(backend, seed_simulator=seed, seed_transpiler=seed)\n",
    "        # Initate QALA\n",
    "        qaoa = QAOA(\n",
    "            operator=op,\n",
    "            optimizer=optimizer,\n",
    "            callback=store_intermediate_result,\n",
    "            p=p,\n",
    "            initial_point = initial_point,\n",
    "            quantum_instance=quantum_instance\n",
    "        )\n",
    "        result = qaoa.compute_minimum_eigenvalue(operator=op)\n",
    "        converge_cnts[i] = np.asarray(counts)\n",
    "        converge_vals[i] = np.asarray(values)        \n",
    "    \n",
    "print('\\rOptimization complete');    "
   ]
  },
  {
   "cell_type": "code",
   "execution_count": 28,
   "id": "2c65ee2f",
   "metadata": {},
   "outputs": [],
   "source": [
    "results_dict = {\n",
    "    \"optimizer\":None,\n",
    "    \"n_eval\": None,\n",
    "    \"value\": None\n",
    "}\n",
    "\n",
    "optimizer_dict = {\n",
    "    0: \"NELDER_MEAD\",\n",
    "    1: \"COBYLA\",\n",
    "    2: \"NELDER_MEAD\",\n",
    "    3: \"SPSA\",\n",
    "    4: \"L_BFGS_B\"\n",
    "}\n",
    "\n",
    "d_results = []\n",
    "\n",
    "for i,(evals, values) in enumerate(zip(converge_cnts, converge_vals)):\n",
    "    for cnt, val in zip(evals, values):\n",
    "        results_dict_temp = results_dict.copy()\n",
    "        results_dict_temp[\"n_eval\"] = cnt\n",
    "        results_dict_temp[\"value\"] = val\n",
    "        results_dict_temp[\"optimizer\"] = optimizer_dict[i]\n",
    "        d_results.append(results_dict_temp)\n",
    "\n",
    "d_results = pd.DataFrame.from_records(d_results)\n",
    "# Add counter for num_evals\n",
    "d_results['total_evals']=d_results.groupby('optimizer').cumcount()"
   ]
  },
  {
   "cell_type": "code",
   "execution_count": 29,
   "id": "f176ce4a",
   "metadata": {},
   "outputs": [],
   "source": [
    "d_results.to_csv(\"../data/results_large_offset.csv\")"
   ]
  },
  {
   "cell_type": "code",
   "execution_count": 30,
   "id": "7f826a18",
   "metadata": {},
   "outputs": [
    {
     "data": {
      "image/png": "[encoded data removed]",
      "text/plain": [
       "<Figure size 470.625x360 with 1 Axes>"
      ]
     },
     "metadata": {
      "needs_background": "light"
     },
     "output_type": "display_data"
    }
   ],
   "source": [
    "g = sns.relplot(\n",
    "    data=d_results, x=\"total_evals\", y=\"value\",\n",
    "    col=\"optimizer\", hue=\"optimizer\",\n",
    "    kind=\"line\"\n",
    ")\n",
    "\n",
    "(g.map(plt.axhline, y=-180, color=\".7\", dashes=(2, 1), zorder=0)\n",
    "  .tight_layout(w_pad=0))\n",
    "\n",
    "plt.show()"
   ]
  },
  {
   "cell_type": "code",
   "execution_count": 31,
   "id": "9ea8fff8",
   "metadata": {},
   "outputs": [
    {
     "name": "stdout",
     "output_type": "stream",
     "text": [
      "energy: -113.3203125\n"
     ]
    }
   ],
   "source": [
    "print('energy:', result.eigenvalue.real)"
   ]
  },
  {
   "cell_type": "code",
   "execution_count": 39,
   "id": "0db820c7",
   "metadata": {},
   "outputs": [
    {
     "data": {
      "image/png": "[encoded data removed]",
      "text/plain": [
       "<Figure size 432x288 with 1 Axes>"
      ]
     },
     "metadata": {
      "needs_background": "light"
     },
     "output_type": "display_data"
    }
   ],
   "source": [
    "plt.clf()\n",
    "feasible_count = 0\n",
    "infeasible_count = 0\n",
    "solution_count = 0\n",
    "feasibility_results = {\n",
    "    \"feasible_count\": None,\n",
    "    \"infeasible_count\": None,\n",
    "    \"solution_count\": None,\n",
    "    \"random_guess\": None\n",
    "}\n",
    "\n",
    "num_feasible = len([x for x in result.eigenstate.keys() if tsp.tsp_feasible(x)])\n",
    "\n",
    "for state in result.eigenstate.keys():\n",
    "    x = sample_most_likely(exact_result.eigenstate)\n",
    "    exact_sol_state = ''.join([str(i) for i in x])\n",
    "    if tsp.tsp_feasible(state):\n",
    "        feasible_count += result.eigenstate[state]\n",
    "    else:\n",
    "        infeasible_count += result.eigenstate[state]\n",
    "    if exact_sol_state == state:\n",
    "        solution_count = result.eigenstate[state]\n",
    "\n",
    "feasibility_results[\"feasible_count\"]=feasible_count\n",
    "feasibility_results[\"infeasible_count\"]=infeasible_count\n",
    "feasibility_results[\"solution_count\"]=solution_count\n",
    "feasibility_results[\"random_guess\"]=(feasible_count+infeasible_count)/2**num_qubits\n",
    "feasibility_results[\"random_feasible_guess\"]=(feasible_count+infeasible_count)/num_feasible\n",
    "keys = list(feasibility_results.keys())\n",
    "# # get values in the same order as keys, and parse percentage values\n",
    "vals = [feasibility_results[k] for k in keys]\n",
    "feasible_plot = sns.barplot(x=keys, y=vals)\n",
    "feasible_plot.set_xticklabels(feasible_plot.get_xticklabels(), \n",
    "                          rotation=90, \n",
    "                          horizontalalignment='right')\n",
    "plt.show()"
   ]
  },
  {
   "cell_type": "markdown",
   "id": "26b98ad0",
   "metadata": {},
   "source": [
    "$$ p = 3 $$"
   ]
  },
  {
   "cell_type": "code",
   "execution_count": 40,
   "id": "02cb752a",
   "metadata": {},
   "outputs": [
    {
     "name": "stdout",
     "output_type": "stream",
     "text": [
      "Optimizer: NELDER_MEAD        \n",
      "Warning: Maximum number of function evaluations has been exceeded.\n",
      "Warning: Maximum number of function evaluations has been exceeded.\n",
      "Optimization complete\n"
     ]
    }
   ],
   "source": [
    "p = 3\n",
    "budget=200\n",
    "for i, optimizer in enumerate(optimizers):\n",
    "    print('\\rOptimizer: {}        '.format(type(optimizer).__name__))\n",
    "    counts = []\n",
    "    values = []\n",
    "    global_count = 0\n",
    "    n_restart = 0\n",
    "    \n",
    "    def store_intermediate_result(eval_count, parameters, mean, std):\n",
    "        global global_count\n",
    "        global_count += 1\n",
    "        counts.append(eval_count)\n",
    "        values.append(mean)\n",
    "        \n",
    "    while global_count < budget:\n",
    "        # Increment n_restarts\n",
    "        n_restart += 1\n",
    "        # Initiate a random point uniformly from [0,1]\n",
    "        initial_point = [np.random.uniform(0,1) for i in range(2*p)]         \n",
    "        # Set random seed\n",
    "        aqua_globals.random_seed = np.random.default_rng(123)\n",
    "        seed = 10598\n",
    "        # Initate quantum instance\n",
    "        quantum_instance = QuantumInstance(backend, seed_simulator=seed, seed_transpiler=seed)\n",
    "        # Initate QALA\n",
    "        qaoa = QAOA(\n",
    "            operator=op,\n",
    "            optimizer=optimizer,\n",
    "            callback=store_intermediate_result,\n",
    "            p=p,\n",
    "            initial_point = initial_point,\n",
    "            quantum_instance=quantum_instance\n",
    "        )\n",
    "        result = qaoa.compute_minimum_eigenvalue(operator=op)\n",
    "        converge_cnts[i] = np.asarray(counts)\n",
    "        converge_vals[i] = np.asarray(values)        \n",
    "    \n",
    "print('\\rOptimization complete');    "
   ]
  },
  {
   "cell_type": "code",
   "execution_count": 41,
   "id": "fbc0e53b",
   "metadata": {},
   "outputs": [],
   "source": [
    "results_dict = {\n",
    "    \"optimizer\":None,\n",
    "    \"n_eval\": None,\n",
    "    \"value\": None\n",
    "}\n",
    "\n",
    "optimizer_dict = {\n",
    "    0: \"NELDER_MEAD\",\n",
    "    1: \"COBYLA\",\n",
    "    2: \"NELDER_MEAD\",\n",
    "    3: \"SPSA\",\n",
    "    4: \"L_BFGS_B\"\n",
    "}\n",
    "\n",
    "d_results = []\n",
    "\n",
    "for i,(evals, values) in enumerate(zip(converge_cnts, converge_vals)):\n",
    "    for cnt, val in zip(evals, values):\n",
    "        results_dict_temp = results_dict.copy()\n",
    "        results_dict_temp[\"n_eval\"] = cnt\n",
    "        results_dict_temp[\"value\"] = val\n",
    "        results_dict_temp[\"optimizer\"] = optimizer_dict[i]\n",
    "        d_results.append(results_dict_temp)\n",
    "\n",
    "d_results = pd.DataFrame.from_records(d_results)\n",
    "# Add counter for num_evals\n",
    "d_results['total_evals']=d_results.groupby('optimizer').cumcount()"
   ]
  },
  {
   "cell_type": "code",
   "execution_count": 42,
   "id": "234b7e0b",
   "metadata": {},
   "outputs": [],
   "source": [
    "d_results.to_csv(\"../data/results_large_offset.csv\")"
   ]
  },
  {
   "cell_type": "code",
   "execution_count": 43,
   "id": "3750b127",
   "metadata": {},
   "outputs": [
    {
     "data": {
      "image/png": "[encoded data removed]",
      "text/plain": [
       "<Figure size 470.625x360 with 1 Axes>"
      ]
     },
     "metadata": {
      "needs_background": "light"
     },
     "output_type": "display_data"
    }
   ],
   "source": [
    "g = sns.relplot(\n",
    "    data=d_results, x=\"total_evals\", y=\"value\",\n",
    "    col=\"optimizer\", hue=\"optimizer\",\n",
    "    kind=\"line\"\n",
    ")\n",
    "\n",
    "(g.map(plt.axhline, y=-180, color=\".7\", dashes=(2, 1), zorder=0)\n",
    "  .tight_layout(w_pad=0))\n",
    "\n",
    "plt.show()"
   ]
  },
  {
   "cell_type": "code",
   "execution_count": 44,
   "id": "1650e68a",
   "metadata": {},
   "outputs": [
    {
     "name": "stdout",
     "output_type": "stream",
     "text": [
      "energy: -91.69921875\n"
     ]
    }
   ],
   "source": [
    "print('energy:', result.eigenvalue.real)"
   ]
  },
  {
   "cell_type": "code",
   "execution_count": 45,
   "id": "cc5f9222",
   "metadata": {},
   "outputs": [
    {
     "data": {
      "image/png": "[encoded data removed]",
      "text/plain": [
       "<Figure size 432x288 with 1 Axes>"
      ]
     },
     "metadata": {
      "needs_background": "light"
     },
     "output_type": "display_data"
    }
   ],
   "source": [
    "plt.clf()\n",
    "feasible_count = 0\n",
    "infeasible_count = 0\n",
    "solution_count = 0\n",
    "feasibility_results = {\n",
    "    \"feasible_count\": None,\n",
    "    \"infeasible_count\": None,\n",
    "    \"solution_count\": None,\n",
    "    \"random_guess\": None\n",
    "}\n",
    "\n",
    "num_feasible = len([x for x in result.eigenstate.keys() if tsp.tsp_feasible(x)])\n",
    "\n",
    "for state in result.eigenstate.keys():\n",
    "    x = sample_most_likely(exact_result.eigenstate)\n",
    "    exact_sol_state = ''.join([str(i) for i in x])\n",
    "    if tsp.tsp_feasible(state):\n",
    "        feasible_count += result.eigenstate[state]\n",
    "    else:\n",
    "        infeasible_count += result.eigenstate[state]\n",
    "    if exact_sol_state == state:\n",
    "        solution_count = result.eigenstate[state]\n",
    "\n",
    "feasibility_results[\"feasible_count\"]=feasible_count\n",
    "feasibility_results[\"infeasible_count\"]=infeasible_count\n",
    "feasibility_results[\"solution_count\"]=solution_count\n",
    "feasibility_results[\"random_guess\"]=(feasible_count+infeasible_count)/2**num_qubits\n",
    "feasibility_results[\"random_feasible_guess\"]=(feasible_count+infeasible_count)/num_feasible\n",
    "keys = list(feasibility_results.keys())\n",
    "# # get values in the same order as keys, and parse percentage values\n",
    "vals = [feasibility_results[k] for k in keys]\n",
    "feasible_plot = sns.barplot(x=keys, y=vals)\n",
    "feasible_plot.set_xticklabels(feasible_plot.get_xticklabels(), \n",
    "                          rotation=90, \n",
    "                          horizontalalignment='right')\n",
    "plt.show()"
   ]
  },
  {
   "cell_type": "markdown",
   "id": "60d8c699",
   "metadata": {},
   "source": [
    "## Lift \n",
    "Randomly pick customer x, Prob(Churn)=0.2\n",
    "Using ML identify prob(churn\\x) \n",
    "Rank churning customers\n",
    "\n",
    "1. Sort states based on Prob\n",
    "2. Feasible states should be front-loaded\n",
    "3. Did it bring forward the chance of finding the feasibility\n",
    "4. How do we prioritise feasibility vs optimality\n",
    "5. Y axis represents a measure of how many feasible states have been explored (by the sorted list of probabilties).\n",
    "6. Ideally want to see a front loading in the lift\n",
    "7. What happens when we turn the cost on?\n",
    "8. Identify AREA under the curve\n",
    "9. How much does it care about cost?\n"
   ]
  },
  {
   "cell_type": "code",
   "execution_count": 5,
   "id": "01684aef",
   "metadata": {},
   "outputs": [],
   "source": [
    "d_results = pd.read_csv(\"/Users/vivekkatial/Downloads/results_large_offset_p_1.csv\", index_col=0)"
   ]
  },
  {
   "cell_type": "code",
   "execution_count": 6,
   "id": "6672da26",
   "metadata": {},
   "outputs": [
    {
     "data": {
      "text/html": [
       "<div>\n",
       "<style scoped>\n",
       "    .dataframe tbody tr th:only-of-type {\n",
       "        vertical-align: middle;\n",
       "    }\n",
       "\n",
       "    .dataframe tbody tr th {\n",
       "        vertical-align: top;\n",
       "    }\n",
       "\n",
       "    .dataframe thead th {\n",
       "        text-align: right;\n",
       "    }\n",
       "</style>\n",
       "<table border=\"1\" class=\"dataframe\">\n",
       "  <thead>\n",
       "    <tr style=\"text-align: right;\">\n",
       "      <th></th>\n",
       "      <th>n_eval</th>\n",
       "      <th>value</th>\n",
       "      <th>optimizer</th>\n",
       "      <th>total_evals</th>\n",
       "    </tr>\n",
       "  </thead>\n",
       "  <tbody>\n",
       "    <tr>\n",
       "      <th>0</th>\n",
       "      <td>1</td>\n",
       "      <td>-0.761719</td>\n",
       "      <td>SLSQP</td>\n",
       "      <td>1</td>\n",
       "    </tr>\n",
       "    <tr>\n",
       "      <th>1</th>\n",
       "      <td>2</td>\n",
       "      <td>0.234375</td>\n",
       "      <td>SLSQP</td>\n",
       "      <td>2</td>\n",
       "    </tr>\n",
       "    <tr>\n",
       "      <th>2</th>\n",
       "      <td>3</td>\n",
       "      <td>-0.878906</td>\n",
       "      <td>SLSQP</td>\n",
       "      <td>3</td>\n",
       "    </tr>\n",
       "    <tr>\n",
       "      <th>3</th>\n",
       "      <td>4</td>\n",
       "      <td>0.351562</td>\n",
       "      <td>SLSQP</td>\n",
       "      <td>4</td>\n",
       "    </tr>\n",
       "    <tr>\n",
       "      <th>4</th>\n",
       "      <td>5</td>\n",
       "      <td>-3.222656</td>\n",
       "      <td>SLSQP</td>\n",
       "      <td>5</td>\n",
       "    </tr>\n",
       "    <tr>\n",
       "      <th>...</th>\n",
       "      <td>...</td>\n",
       "      <td>...</td>\n",
       "      <td>...</td>\n",
       "      <td>...</td>\n",
       "    </tr>\n",
       "    <tr>\n",
       "      <th>13</th>\n",
       "      <td>14</td>\n",
       "      <td>3.574219</td>\n",
       "      <td>L_BFGS_B</td>\n",
       "      <td>14</td>\n",
       "    </tr>\n",
       "    <tr>\n",
       "      <th>14</th>\n",
       "      <td>15</td>\n",
       "      <td>1.933594</td>\n",
       "      <td>L_BFGS_B</td>\n",
       "      <td>15</td>\n",
       "    </tr>\n",
       "    <tr>\n",
       "      <th>15</th>\n",
       "      <td>16</td>\n",
       "      <td>-94.101562</td>\n",
       "      <td>L_BFGS_B</td>\n",
       "      <td>16</td>\n",
       "    </tr>\n",
       "    <tr>\n",
       "      <th>16</th>\n",
       "      <td>17</td>\n",
       "      <td>-98.085938</td>\n",
       "      <td>L_BFGS_B</td>\n",
       "      <td>17</td>\n",
       "    </tr>\n",
       "    <tr>\n",
       "      <th>17</th>\n",
       "      <td>18</td>\n",
       "      <td>-94.042969</td>\n",
       "      <td>L_BFGS_B</td>\n",
       "      <td>18</td>\n",
       "    </tr>\n",
       "  </tbody>\n",
       "</table>\n",
       "<p>74 rows × 4 columns</p>\n",
       "</div>"
      ],
      "text/plain": [
       "    n_eval      value optimizer  total_evals\n",
       "0        1  -0.761719     SLSQP            1\n",
       "1        2   0.234375     SLSQP            2\n",
       "2        3  -0.878906     SLSQP            3\n",
       "3        4   0.351562     SLSQP            4\n",
       "4        5  -3.222656     SLSQP            5\n",
       "..     ...        ...       ...          ...\n",
       "13      14   3.574219  L_BFGS_B           14\n",
       "14      15   1.933594  L_BFGS_B           15\n",
       "15      16 -94.101562  L_BFGS_B           16\n",
       "16      17 -98.085938  L_BFGS_B           17\n",
       "17      18 -94.042969  L_BFGS_B           18\n",
       "\n",
       "[74 rows x 4 columns]"
      ]
     },
     "execution_count": 6,
     "metadata": {},
     "output_type": "execute_result"
    }
   ],
   "source": [
    "d_results"
   ]
  },
  {
   "cell_type": "code",
   "execution_count": 42,
   "id": "7749c721",
   "metadata": {},
   "outputs": [
    {
     "data": {
      "image/png": "[encoded data removed]",
      "text/plain": [
       "<Figure size 1550.62x360 with 4 Axes>"
      ]
     },
     "metadata": {},
     "output_type": "display_data"
    }
   ],
   "source": [
    "from matplotlib import pyplot as plt\n",
    "plt.style.use('seaborn')\n",
    "\n",
    "g = sns.relplot(\n",
    "                data=d_results,\n",
    "                x=\"total_evals\",\n",
    "                y=\"value\",\n",
    "                col=\"optimizer\",\n",
    "                hue=\"optimizer\",\n",
    "                kind=\"line\",\n",
    "            )\n",
    "axes = g.axes.flatten()\n",
    "for ax in axes:\n",
    "    ax.axhline(exact_result.eigenvalue.real, ls='--', linewidth=3, color='grey')\n",
    "    ax.set_xlabel(\"Function Evals\")"
   ]
  },
  {
   "cell_type": "code",
   "execution_count": 27,
   "id": "a243483d",
   "metadata": {},
   "outputs": [
    {
     "data": {
      "text/plain": [
       "optimal function value: 0.0\n",
       "optimal value: [0. 0. 1. 1. 0. 0. 0. 1. 0.]\n",
       "status: SUCCESS"
      ]
     },
     "execution_count": 27,
     "metadata": {},
     "output_type": "execute_result"
    }
   ],
   "source": [
    "exact_result"
   ]
  },
  {
   "cell_type": "code",
   "execution_count": null,
   "id": "11366057",
   "metadata": {},
   "outputs": [],
   "source": []
  }
 ],
 "metadata": {
  "interpreter": {
   "hash": "8abdbf521a96cb147675a6ab060689e2f4eb22724cae26eb8b545ba610590832"
  },
  "kernelspec": {
   "display_name": "Python 3 (ipykernel)",
   "language": "python",
   "name": "python3"
  },
  "language_info": {
   "codemirror_mode": {
    "name": "ipython",
    "version": 3
   },
   "file_extension": ".py",
   "mimetype": "text/x-python",
   "name": "python",
   "nbconvert_exporter": "python",
   "pygments_lexer": "ipython3",
   "version": "3.9.4"
  }
 },
 "nbformat": 4,
 "nbformat_minor": 5
}
