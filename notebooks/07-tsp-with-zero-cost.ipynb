{
 "cells": [
  {
   "cell_type": "markdown",
   "id": "d29b1bf2",
   "metadata": {},
   "source": [
    "# General Travelling Sales Person with Zero Cost\n",
    "\n"
   ]
  },
  {
   "cell_type": "code",
   "execution_count": 1,
   "id": "6f96b503",
   "metadata": {},
   "outputs": [
    {
     "name": "stderr",
     "output_type": "stream",
     "text": [
      "/Users/vivekkatial/.local/share/virtualenvs/HAQC-azaY3fAi/lib/python3.9/site-packages/qiskit/aqua/__init__.py:86: DeprecationWarning: The package qiskit.aqua is deprecated. It was moved/refactored to qiskit-terra For more information see <https://github.com/Qiskit/qiskit-aqua/blob/main/README.md#migration-guide>\n",
      "  warn_package('aqua', 'qiskit-terra')\n",
      "/Users/vivekkatial/.local/share/virtualenvs/HAQC-azaY3fAi/lib/python3.9/site-packages/qiskit/finance/__init__.py:50: DeprecationWarning: The package qiskit.finance is deprecated. It was moved/refactored to qiskit_finance (pip install qiskit-finance). For more information see <https://github.com/Qiskit/qiskit-aqua/blob/main/README.md#migration-guide>\n",
      "  warn_package('finance', 'qiskit_finance', 'qiskit-finance')\n",
      "/Users/vivekkatial/.local/share/virtualenvs/HAQC-azaY3fAi/lib/python3.9/site-packages/qiskit/optimization/__init__.py:92: DeprecationWarning: The package qiskit.optimization is deprecated. It was moved/refactored to qiskit_optimization (pip install qiskit-optimization). For more information see <https://github.com/Qiskit/qiskit-aqua/blob/main/README.md#migration-guide>\n",
      "  warn_package('optimization', 'qiskit_optimization', 'qiskit-optimization')\n"
     ]
    }
   ],
   "source": [
    "# Hide warnings\n",
    "import warnings\n",
    "warnings.filterwarnings('ignore')\n",
    "\n",
    "# Standard Libraries\n",
    "import argparse\n",
    "import json\n",
    "import time\n",
    "import networkx as nx\n",
    "import numpy as np\n",
    "from joblib import Parallel, delayed\n",
    "import mlflow\n",
    "import os\n",
    "import numpy as np\n",
    "import matplotlib.pyplot as plt\n",
    "import seaborn as sns\n",
    "import pandas as pd\n",
    "import pylab\n",
    "\n",
    "# Custom Libraries\n",
    "import qaoa_vrp.build_graph\n",
    "import qaoa_vrp.features.graph_features\n",
    "import qaoa_vrp.features.tsp_features\n",
    "import qaoa_vrp.build_circuit\n",
    "import qaoa_vrp.clustering\n",
    "import qaoa_vrp.utils\n",
    "from qaoa_vrp.exp_utils import str2bool, make_temp_directory\n",
    "from qaoa_vrp.quantum_burden import compute_quantum_burden\n",
    "from qaoa_vrp.classical.greedy_tsp import greedy_tsp\n",
    "from qaoa_vrp.plot.draw_euclidean_graphs import draw_euclidean_graph\n",
    "\n",
    "# QISKIT stuff\n",
    "from qiskit import Aer, execute\n",
    "from qiskit.providers.aer import QasmSimulator\n",
    "from qiskit.aqua import QuantumInstance, aqua_globals\n",
    "from qiskit.aqua.algorithms import QAOA, NumPyMinimumEigensolver,VQE\n",
    "from qiskit.circuit.library import TwoLocal\n",
    "from qiskit.algorithms.optimizers import COBYLA, L_BFGS_B, SLSQP, NELDER_MEAD, SPSA\n",
    "from qiskit.circuit import Parameter\n",
    "from qiskit.finance.applications.ising import portfolio\n",
    "from qiskit.optimization import QuadraticProgram\n",
    "from qiskit.optimization.converters import QuadraticProgramToQubo\n",
    "from qiskit.optimization.algorithms import (\n",
    "    MinimumEigenOptimizer,\n",
    "    RecursiveMinimumEigenOptimizer,\n",
    ")\n",
    "from qiskit.optimization.applications.ising.common import sample_most_likely\n",
    "from qiskit.optimization.applications.ising import max_cut, tsp\n",
    "\n",
    "# import logging\n",
    "# logging.basicConfig(level=logging.INFO)\n",
    "# logging.getLogger('qiskit.algorithms.minimum_eigen_solvers.vqe').setLevel(logging.INFO)"
   ]
  },
  {
   "cell_type": "code",
   "execution_count": 2,
   "id": "1f4cd3a6",
   "metadata": {},
   "outputs": [],
   "source": [
    "filename=\"instanceType_euclidean_tsp_numNodes_4_numVehicles_1_87a170c748e240d0b71d5fb7fe7de707.json\"\n",
    "instance_path = \"../data/{}\".format(filename)\n",
    "with open(instance_path) as f:\n",
    "        data = json.load(f)"
   ]
  },
  {
   "cell_type": "code",
   "execution_count": 3,
   "id": "cfce83b6",
   "metadata": {},
   "outputs": [],
   "source": [
    "# Build Graph\n",
    "G, depot_info = qaoa_vrp.build_graph.build_json_graph(data[\"graph\"])\n",
    "num_vehicles = int(data[\"numVehicles\"])\n",
    "threshold = float(data[\"threshold\"])\n",
    "n_max = int(data[\"n_max\"])\n",
    "instance_type = data[\"instance_type\"]\n",
    "p_max = data[\"p_max\"]\n"
   ]
  },
  {
   "cell_type": "code",
   "execution_count": 4,
   "id": "fca5ff78",
   "metadata": {},
   "outputs": [
    {
     "data": {
      "image/png": "[encoded data removed]",
      "text/plain": [
       "<Figure size 432x288 with 1 Axes>"
      ]
     },
     "metadata": {},
     "output_type": "display_data"
    }
   ],
   "source": [
    "nx.draw_networkx(G)"
   ]
  },
  {
   "cell_type": "code",
   "execution_count": 5,
   "id": "44828c46",
   "metadata": {},
   "outputs": [],
   "source": [
    "# Create QAOA parameter dictionary\n",
    "qaoa_dict = qaoa_vrp.utils.create_qaoa_params(threshold, n_max, p_max)"
   ]
  },
  {
   "cell_type": "code",
   "execution_count": 6,
   "id": "6dd8486d",
   "metadata": {},
   "outputs": [],
   "source": [
    "# Build Graph Feature Vector\n",
    "feature_vector = qaoa_vrp.features.graph_features.get_graph_features(G)\n",
    "# Build TSP Feature Vector\n",
    "tsp_feature_vector = qaoa_vrp.features.tsp_features.get_tsp_features(G)\n",
    "# Add num vehicles\n",
    "feature_vector[\"num_vehicles\"] = num_vehicles"
   ]
  },
  {
   "cell_type": "code",
   "execution_count": 7,
   "id": "87975cb9",
   "metadata": {},
   "outputs": [],
   "source": [
    "depot_edges = list(G.edges(depot_info[\"id\"], data=True))\n",
    "depot_node = depot_info[\"id\"]"
   ]
  },
  {
   "cell_type": "code",
   "execution_count": 17,
   "id": "7f10fdba",
   "metadata": {},
   "outputs": [],
   "source": [
    "edge_mat = nx.linalg.graphmatrix.adjacency_matrix(G).toarray()\n",
    "cost_mat = np.array(nx.attr_matrix(G, edge_attr=\"cost\", rc_order=list(G.nodes())))\n",
    "for edge in G.edges():\n",
    "    G[edge[0]][edge[1]]['cost'] = 0\n",
    "edge_mat = nx.linalg.graphmatrix.adjacency_matrix(G).toarray()\n",
    "cost_mat = np.array(nx.attr_matrix(G, edge_attr=\"cost\", rc_order=list(G.nodes())))"
   ]
  },
  {
   "cell_type": "code",
   "execution_count": 18,
   "id": "978b23e8",
   "metadata": {},
   "outputs": [],
   "source": [
    "G, cluster_mapping = qaoa_vrp.clustering.create_clusters(\n",
    "    G, num_vehicles, \"spectral-clustering\", edge_mat\n",
    ")\n",
    "\n",
    "subgraphs = qaoa_vrp.clustering.build_sub_graphs(G, depot_node, depot_edges)\n",
    "\n",
    "# big_offset = sum(sum(cost_mat))/2 + 1\n",
    "big_offset=30\n",
    "qubos = qaoa_vrp.build_circuit.build_qubos(subgraphs, depot_info,A=big_offset)\n",
    "\n",
    "qubos_solution_data = []\n",
    "\n",
    "cluster_mapping = [i + 1 for i in cluster_mapping]\n",
    "cluster_mapping.insert(0, 0)"
   ]
  },
  {
   "cell_type": "code",
   "execution_count": 19,
   "id": "a1e2303f",
   "metadata": {},
   "outputs": [
    {
     "data": {
      "text/plain": [
       "\\ This file has been generated by DOcplex\n",
       "\\ ENCODING=ISO-8859-1\n",
       "\\Problem name: CPLEX\n",
       "\n",
       "Minimize\n",
       " obj: - 120 X11 - 120 X12 - 120 X13 - 120 X21 - 120 X22 - 120 X23 - 120 X31\n",
       "      - 120 X32 - 120 X33 + [ 120 X11^2 + 120 X11*X12 + 120 X11*X13\n",
       "      + 120 X11*X21 + 120 X11*X31 + 120 X12^2 + 120 X12*X13 + 120 X12*X22\n",
       "      + 120 X12*X32 + 120 X13^2 + 120 X13*X23 + 120 X13*X33 + 120 X21^2\n",
       "      + 120 X21*X22 + 120 X21*X23 + 120 X21*X31 + 120 X22^2 + 120 X22*X23\n",
       "      + 120 X22*X32 + 120 X23^2 + 120 X23*X33 + 120 X31^2 + 120 X31*X32\n",
       "      + 120 X31*X33 + 120 X32^2 + 120 X32*X33 + 120 X33^2 ]/2 + 180\n",
       "Subject To\n",
       "\n",
       "Bounds\n",
       " 0 <= X11 <= 1\n",
       " 0 <= X12 <= 1\n",
       " 0 <= X13 <= 1\n",
       " 0 <= X21 <= 1\n",
       " 0 <= X22 <= 1\n",
       " 0 <= X23 <= 1\n",
       " 0 <= X31 <= 1\n",
       " 0 <= X32 <= 1\n",
       " 0 <= X33 <= 1\n",
       "\n",
       "Binaries\n",
       " X11 X12 X13 X21 X22 X23 X31 X32 X33\n",
       "End"
      ]
     },
     "execution_count": 19,
     "metadata": {},
     "output_type": "execute_result"
    }
   ],
   "source": [
    "qubo = qubos[0]\n",
    "qubo"
   ]
  },
  {
   "cell_type": "code",
   "execution_count": 20,
   "id": "a7988928",
   "metadata": {},
   "outputs": [],
   "source": [
    "single_qubo_solution_data = {}\n",
    "single_qubo_solution_data[\"qubo_id\"] = 0\n",
    "single_qubo_solution_data[\"cluster\"] = [\n",
    "    index\n",
    "    for index, node in enumerate(cluster_mapping)\n",
    "    if node == 1 or node == 0\n",
    "]\n",
    "num_nodes=len(single_qubo_solution_data['cluster'])"
   ]
  },
  {
   "cell_type": "markdown",
   "id": "d39cb313",
   "metadata": {},
   "source": [
    "# Solving the QAOA"
   ]
  },
  {
   "cell_type": "markdown",
   "id": "c3222c72",
   "metadata": {},
   "source": [
    "Lets write some basic functions to find the solution from the result and also one to compute the cost based on our original graph"
   ]
  },
  {
   "cell_type": "code",
   "execution_count": 21,
   "id": "a09b13df",
   "metadata": {},
   "outputs": [
    {
     "name": "stderr",
     "output_type": "stream",
     "text": [
      "/Users/vivekkatial/.local/share/virtualenvs/HAQC-azaY3fAi/lib/python3.9/site-packages/qiskit/aqua/operators/operator_base.py:46: DeprecationWarning: The package qiskit.aqua.operators is deprecated. It was moved/refactored to qiskit.opflow (pip install qiskit-terra). For more information see <https://github.com/Qiskit/qiskit-aqua/blob/main/README.md#migration-guide>\n",
      "  warn_package('aqua.operators', 'qiskit.opflow', 'qiskit-terra')\n"
     ]
    }
   ],
   "source": [
    "op, offset = qubo.to_ising()\n",
    "num_qubits = qubo.get_num_vars()"
   ]
  },
  {
   "cell_type": "code",
   "execution_count": 22,
   "id": "4e0ebf92",
   "metadata": {},
   "outputs": [
    {
     "name": "stdout",
     "output_type": "stream",
     "text": [
      "Offset: 180.0\n",
      "Ising Hamiltonian:\n",
      "IIIIIIIIZ\t(-30+0j)\n",
      "IIIIIIIZI\t(-30+0j)\n",
      "IIIIIIZII\t(-30+0j)\n",
      "IIIIIZIII\t(-30+0j)\n",
      "IIIIZIIII\t(-30+0j)\n",
      "IIIZIIIII\t(-30+0j)\n",
      "IIZIIIIII\t(-30+0j)\n",
      "IZIIIIIII\t(-30+0j)\n",
      "ZIIIIIIII\t(-30+0j)\n",
      "IIIIIIIZZ\t(15+0j)\n",
      "IIIIIIZIZ\t(15+0j)\n",
      "IIIIIIZZI\t(15+0j)\n",
      "IIIIIZIIZ\t(15+0j)\n",
      "IIIIZIIZI\t(15+0j)\n",
      "IIIIZZIII\t(15+0j)\n",
      "IIIZIIZII\t(15+0j)\n",
      "IIIZIZIII\t(15+0j)\n",
      "IIIZZIIII\t(15+0j)\n",
      "IIZIIIIIZ\t(15+0j)\n",
      "IIZIIZIII\t(15+0j)\n",
      "IZIIIIIZI\t(15+0j)\n",
      "IZIIZIIII\t(15+0j)\n",
      "IZZIIIIII\t(15+0j)\n",
      "ZIIIIIZII\t(15+0j)\n",
      "ZIIZIIIII\t(15+0j)\n",
      "ZIZIIIIII\t(15+0j)\n",
      "ZZIIIIIII\t(15+0j)\n",
      "\n"
     ]
    },
    {
     "name": "stderr",
     "output_type": "stream",
     "text": [
      "/Users/vivekkatial/.local/share/virtualenvs/HAQC-azaY3fAi/lib/python3.9/site-packages/qiskit/aqua/operators/list_ops/summed_op.py:193: DeprecationWarning: print_details() is deprecated and will be removed in a future release. Instead you can use .to_legacy_op() and call print_details() on it's output\n",
      "  warnings.warn(\"print_details() is deprecated and will be removed in \"\n"
     ]
    }
   ],
   "source": [
    "print('Offset:', offset)\n",
    "print('Ising Hamiltonian:')\n",
    "print(op.print_details())"
   ]
  },
  {
   "cell_type": "code",
   "execution_count": 23,
   "id": "6c3b4a32",
   "metadata": {},
   "outputs": [
    {
     "name": "stdout",
     "output_type": "stream",
     "text": [
      "// This file has been generated by DOcplex\n",
      "// model name is: AnonymousModel\n",
      "// single vars section\n",
      "dvar bool x_0;\n",
      "dvar bool x_1;\n",
      "dvar bool x_2;\n",
      "dvar bool x_3;\n",
      "dvar bool x_4;\n",
      "dvar bool x_5;\n",
      "dvar bool x_6;\n",
      "dvar bool x_7;\n",
      "dvar bool x_8;\n",
      "\n",
      "minimize\n",
      " - 60 x_0 - 60 x_1 - 60 x_2 - 60 x_3 - 60 x_4 - 60 x_5 - 60 x_6 - 60 x_7\n",
      " - 60 x_8 [ 60 x_0*x_1 + 60 x_0*x_2 + 60 x_0*x_3 + 60 x_0*x_6 + 60 x_1*x_2\n",
      " + 60 x_1*x_4 + 60 x_1*x_7 + 60 x_2*x_5 + 60 x_2*x_8 + 60 x_3*x_4 + 60 x_3*x_5\n",
      " + 60 x_3*x_6 + 60 x_4*x_5 + 60 x_4*x_7 + 60 x_5*x_8 + 60 x_6*x_7 + 60 x_6*x_8\n",
      " + 60 x_7*x_8 ] + 180;\n",
      " \n",
      "subject to {\n",
      "\n",
      "}\n"
     ]
    }
   ],
   "source": [
    "qp = QuadraticProgram()\n",
    "qp.from_ising(op, offset, linear=True)\n",
    "qp.to_docplex().prettyprint()"
   ]
  },
  {
   "cell_type": "code",
   "execution_count": 24,
   "id": "af128ceb",
   "metadata": {},
   "outputs": [
    {
     "name": "stdout",
     "output_type": "stream",
     "text": [
      "optimal function value: 0.0\n",
      "optimal value: [0. 0. 1. 1. 0. 0. 0. 1. 0.]\n",
      "status: SUCCESS\n"
     ]
    },
    {
     "name": "stderr",
     "output_type": "stream",
     "text": [
      "/Users/vivekkatial/.local/share/virtualenvs/HAQC-azaY3fAi/lib/python3.9/site-packages/qiskit/aqua/algorithms/minimum_eigen_solvers/minimum_eigen_solver.py:36: DeprecationWarning: The package qiskit.aqua.algorithms.minimum_eigen_solvers is deprecated. It was moved/refactored to qiskit.algorithms.minimum_eigen_solvers (pip install qiskit-terra). For more information see <https://github.com/Qiskit/qiskit-aqua/blob/main/README.md#migration-guide>\n",
      "  warn_package('aqua.algorithms.minimum_eigen_solvers',\n",
      "/Users/vivekkatial/.local/share/virtualenvs/HAQC-azaY3fAi/lib/python3.9/site-packages/qiskit/aqua/algorithms/eigen_solvers/eigen_solver.py:36: DeprecationWarning: The package qiskit.aqua.algorithms.eigen_solvers is deprecated. It was moved/refactored to qiskit.algorithms.eigen_solvers (pip install qiskit-terra). For more information see <https://github.com/Qiskit/qiskit-aqua/blob/main/README.md#migration-guide>\n",
      "  warn_package('aqua.algorithms.eigen_solvers',\n"
     ]
    }
   ],
   "source": [
    "exact = MinimumEigenOptimizer(NumPyMinimumEigensolver())\n",
    "exact_result = exact.solve(qp)\n",
    "print(exact_result)"
   ]
  },
  {
   "cell_type": "code",
   "execution_count": 25,
   "id": "9b20f18a",
   "metadata": {},
   "outputs": [],
   "source": [
    "ee = NumPyMinimumEigensolver(op)\n",
    "exact_result = ee.run()"
   ]
  },
  {
   "cell_type": "code",
   "execution_count": 26,
   "id": "a01c633a",
   "metadata": {},
   "outputs": [
    {
     "name": "stdout",
     "output_type": "stream",
     "text": [
      "energy: -180.0\n",
      "tsp objective: 0.0\n",
      "feasible: True\n",
      "solution: [1, 2, 0]\n",
      "solution objective: 0.0\n"
     ]
    },
    {
     "name": "stderr",
     "output_type": "stream",
     "text": [
      "/Users/vivekkatial/.local/share/virtualenvs/HAQC-azaY3fAi/lib/python3.9/site-packages/qiskit/aqua/operators/state_fns/vector_state_fn.py:215: DeprecationWarning: The variable qiskit.aqua.aqua_globals is deprecated. It was moved/refactored to qiskit.utils.algorithm_globals (pip install qiskit-terra). For more information see <https://github.com/Qiskit/qiskit-aqua/blob/main/README.md#migration-guide>\n",
      "  unique, counts = np.unique(aqua_globals.random.choice(list(deterministic_counts.keys()),\n"
     ]
    }
   ],
   "source": [
    "print('energy:', exact_result.eigenvalue.real)\n",
    "print('tsp objective:', exact_result.eigenvalue.real + offset)\n",
    "x = sample_most_likely(exact_result.eigenstate)\n",
    "print('feasible:', tsp.tsp_feasible(x))\n",
    "z = tsp.get_tsp_solution(x)\n",
    "print('solution:', z)\n",
    "print('solution objective:', tsp.tsp_value(z, cost_mat))"
   ]
  },
  {
   "cell_type": "markdown",
   "id": "779cd685",
   "metadata": {},
   "source": [
    "## Running it on quantum computer\n",
    "We run the optimization routine using a feedback loop with a quantum computer that uses trial functions built with Y single-qubit rotations, $U_\\mathrm{single}(\\theta) = \\prod_{i=1}^n Y(\\theta_{i})$, and entangler steps $U_{entangler}$."
   ]
  },
  {
   "cell_type": "markdown",
   "id": "02b534dc",
   "metadata": {},
   "source": [
    "We will show the callback usage below over a set of optimizers for comparison. Let's ensure we're giving each algorithm a fair shot.\n",
    "\n",
    "- `SLSQP`\n",
    "- `COBYLA`\n",
    "- `NELDER_MEAD`\n",
    "- `SPSA`\n",
    "- `L_BFGS_B`\n",
    "\n",
    "## Different Optimsiation Algorithms\n",
    "\n",
    "### SLSQP\n",
    "Sequential Least Squares Quadratic Programming. It essentially fits sequential parabolas to then minimize. The parameters we can tune include:\n",
    "\n",
    "- `ftol`: Precision goal for the value of f in the stopping criterion. Default is 1e-06 *kept*\n",
    "- `eps`: Step size used for numerical approximation of the Jacobian. Default for this is 1.5e-08, I set it to be 0.001\n",
    "- `maxiter`: Maximum number of iterations (set to be 1000)\n",
    "- `finite_diff_rel_step`: Default is `None`. \n",
    "\n",
    "SLSQP is ideal for mathematical problems for which the objective function and the constraints are twice continuously differentiable. In our case since, we're working with quadratic terms we suspect it should be good?\n",
    "\n",
    "\n",
    "### COBYLA\n",
    "Constrained Optimization BY Linear Approximation (COBYLA) algorithm. It is a numerical optimization method for constrained problems where the derivative of the objective function is not known.\n",
    "\n",
    "The parameters we can play with are:\n",
    "- `maxiter`: Maximum number of iterations (set to be 1000)\n",
    "- `rhobeg`: Reasonable initial changes to the variables. Default is currently 1.0, I have set it to be 0.01.\n",
    "- `tol`: None (default is 1e4).\n",
    "\n",
    "### Nelder Mead\n",
    "The Nelder–Mead method is a commonly applied numerical method used to find the minimum or maximum of an objective function in a multidimensional space.\n",
    "\n",
    "- `maxfev` Maximum allowed number of function evaluations. If both maxiter and maxfev are set, minimization will stop at the first reached. Set to the budget of $b=1000$\n",
    "- `tol` Tolerance for termination (set to 1e-04)\n",
    "- `adaptive` Adapt algorithm parameters to dimensionality of problem. Set to `True`\n",
    "\n",
    "### SPSA\n",
    "Simultaneous perturbation stochastic approximation (SPSA). SPSA is an gradient descent method for optimizing systems with multiple unknown parameters. As an optimization method, it is appropriately suited to large-scale population models, adaptive modeling, and simulation optimization\n",
    "\n",
    "### L-BFGS-B\n",
    "Limited-memory BFGS (L-BFGS or LM-BFGS) is an optimization algorithm in the family of quasi-Newton methods that approximates the Broyden–Fletcher–Goldfarb–Shanno algorithm (BFGS) using a limited amount of computer memory.\n",
    "\n",
    "It assumes the objective function is a differentiable scalar function $f$. It does not require a hessian matrix. It is a method that uses limited memory, the derivatives are used to find the direction for the steepest descent.\n",
    "\n",
    "Parameters we can tune include:\n",
    "\n",
    "- `maxfun`: Maximum number of function evaluations.\n",
    "- `factr`: The iteration stops when $\\frac{(f^k - f^{k+1})}{\\max{(|f^k|, |f^{k+1}|,1)}} \\leq \\text{factor} \\times \\epsilon$\n",
    "- `epsilon`: Step size used (set this to be 0.001)"
   ]
  },
  {
   "cell_type": "code",
   "execution_count": 28,
   "id": "14e8a690",
   "metadata": {},
   "outputs": [],
   "source": [
    "budget=70\n",
    "optimizers = [\n",
    "#     SLSQP(maxiter=budget, disp=True, eps=0.001),\n",
    "#     COBYLA(maxiter=budget, disp=True, rhobeg=0.1), \n",
    "    NELDER_MEAD(maxfev=budget,disp=True,adaptive=True),\n",
    "#     SPSA(maxiter=budget,learning_rate=0.01,perturbation=0.01),\n",
    "#     L_BFGS_B(maxfun=budget,factr=10, epsilon=0.001,iprint=100)\n",
    "]\n",
    "converge_cnts = np.empty([len(optimizers)], dtype=object)\n",
    "converge_vals = np.empty([len(optimizers)], dtype=object)\n",
    "backend = Aer.get_backend('aer_simulator_matrix_product_state')\n",
    "\n"
   ]
  },
  {
   "cell_type": "markdown",
   "id": "f37d2092",
   "metadata": {},
   "source": [
    "$$p = 1$$"
   ]
  },
  {
   "cell_type": "code",
   "execution_count": 29,
   "id": "80e8839b",
   "metadata": {},
   "outputs": [
    {
     "name": "stdout",
     "output_type": "stream",
     "text": [
      "\r",
      "Optimizer: NELDER_MEAD        \n"
     ]
    },
    {
     "name": "stderr",
     "output_type": "stream",
     "text": [
      "/Users/vivekkatial/.local/share/virtualenvs/HAQC-azaY3fAi/lib/python3.9/site-packages/qiskit/aqua/quantum_instance.py:135: DeprecationWarning: The class qiskit.aqua.QuantumInstance is deprecated. It was moved/refactored to qiskit.utils.QuantumInstance (pip install qiskit-terra). For more information see <https://github.com/Qiskit/qiskit-aqua/blob/main/README.md#migration-guide>\n",
      "  warn_class('aqua.QuantumInstance',\n",
      "/Users/vivekkatial/.local/share/virtualenvs/HAQC-azaY3fAi/lib/python3.9/site-packages/qiskit/aqua/algorithms/vq_algorithm.py:70: DeprecationWarning: The class qiskit.aqua.algorithms.VQAlgorithm is deprecated. It was moved/refactored to qiskit.algorithms.VariationalAlgorithm (pip install qiskit-terra). For more information see <https://github.com/Qiskit/qiskit-aqua/blob/main/README.md#migration-guide>\n",
      "  warn_class('aqua.algorithms.VQAlgorithm',\n",
      "/Users/vivekkatial/.local/share/virtualenvs/HAQC-azaY3fAi/lib/python3.9/site-packages/qiskit/aqua/components/variational_forms/variational_form.py:48: DeprecationWarning: The package qiskit.aqua.components.variational_forms is deprecated. For more information see <https://github.com/Qiskit/qiskit-aqua/blob/main/README.md#migration-guide>\n",
      "  warn_package('aqua.components.variational_forms')\n"
     ]
    },
    {
     "name": "stdout",
     "output_type": "stream",
     "text": [
      "Warning: Maximum number of function evaluations has been exceeded.\n",
      "Optimization complete\n"
     ]
    }
   ],
   "source": [
    "p = 1\n",
    "for i, optimizer in enumerate(optimizers):\n",
    "    print('\\rOptimizer: {}        '.format(type(optimizer).__name__))\n",
    "    counts = []\n",
    "    values = []\n",
    "    global_count = 0\n",
    "    n_restart = 0\n",
    "    \n",
    "    def store_intermediate_result(eval_count, parameters, mean, std):\n",
    "        global global_count\n",
    "        global_count += 1\n",
    "        counts.append(eval_count)\n",
    "        values.append(mean)\n",
    "        \n",
    "    while global_count < budget:\n",
    "        # Increment n_restarts\n",
    "        n_restart += 1\n",
    "        # Initiate a random point uniformly from [0,1]\n",
    "        initial_point = [np.random.uniform(0,1) for i in range(2*p)]         \n",
    "        # Set random seed\n",
    "        aqua_globals.random_seed = np.random.default_rng(123)\n",
    "        seed = 10598\n",
    "        # Initate quantum instance\n",
    "        quantum_instance = QuantumInstance(backend, seed_simulator=seed, seed_transpiler=seed)\n",
    "        # Initate QALA\n",
    "        qaoa = QAOA(\n",
    "            operator=op,\n",
    "            optimizer=optimizer,\n",
    "            callback=store_intermediate_result,\n",
    "            p=p,\n",
    "            initial_point = initial_point,\n",
    "            quantum_instance=quantum_instance\n",
    "        )\n",
    "        result = qaoa.compute_minimum_eigenvalue(operator=op)\n",
    "        converge_cnts[i] = np.asarray(counts)\n",
    "        converge_vals[i] = np.asarray(values)        \n",
    "    \n",
    "print('\\rOptimization complete');    "
   ]
  },
  {
   "cell_type": "code",
   "execution_count": 30,
   "id": "51779345",
   "metadata": {},
   "outputs": [],
   "source": [
    "results_dict = {\n",
    "    \"optimizer\":None,\n",
    "    \"n_eval\": None,\n",
    "    \"value\": None\n",
    "}\n",
    "\n",
    "optimizer_dict = {\n",
    "    0: \"SLSQP\",\n",
    "    1: \"COBYLA\",\n",
    "    2: \"NELDER_MEAD\",\n",
    "    3: \"SPSA\",\n",
    "    4: \"L_BFGS_B\"\n",
    "}\n",
    "\n",
    "d_results = []\n",
    "\n",
    "for i,(evals, values) in enumerate(zip(converge_cnts, converge_vals)):\n",
    "    for cnt, val in zip(evals, values):\n",
    "        results_dict_temp = results_dict.copy()\n",
    "        results_dict_temp[\"n_eval\"] = cnt\n",
    "        results_dict_temp[\"value\"] = val\n",
    "        results_dict_temp[\"optimizer\"] = optimizer_dict[i]\n",
    "        d_results.append(results_dict_temp)\n",
    "\n",
    "d_results = pd.DataFrame.from_records(d_results)\n",
    "# Add counter for num_evals\n",
    "d_results['total_evals']=d_results.groupby('optimizer').cumcount()"
   ]
  },
  {
   "cell_type": "code",
   "execution_count": 31,
   "id": "0db15921",
   "metadata": {},
   "outputs": [],
   "source": [
    "d_results.to_csv(\"../data/results_large_offset.csv\")"
   ]
  },
  {
   "cell_type": "code",
   "execution_count": 32,
   "id": "572276d4",
   "metadata": {},
   "outputs": [
    {
     "data": {
      "image/png": "[encoded data removed]",
      "text/plain": [
       "<Figure size 427.75x360 with 1 Axes>"
      ]
     },
     "metadata": {
      "needs_background": "light"
     },
     "output_type": "display_data"
    }
   ],
   "source": [
    "g = sns.relplot(\n",
    "    data=d_results, x=\"total_evals\", y=\"value\",\n",
    "    col=\"optimizer\", hue=\"optimizer\",\n",
    "    kind=\"line\"\n",
    ")\n",
    "\n",
    "(g.map(plt.axhline, y=-18.6, color=\".7\", dashes=(2, 1), zorder=0)\n",
    "  .tight_layout(w_pad=0))\n",
    "\n",
    "plt.show()"
   ]
  },
  {
   "cell_type": "code",
   "execution_count": 33,
   "id": "96ba2cda",
   "metadata": {},
   "outputs": [
    {
     "data": {
      "text/plain": [
       "<matplotlib.lines.Line2D at 0x150ca0be0>"
      ]
     },
     "execution_count": 33,
     "metadata": {},
     "output_type": "execute_result"
    },
    {
     "data": {
      "image/png": "[encoded data removed]",
      "text/plain": [
       "<Figure size 432x288 with 1 Axes>"
      ]
     },
     "metadata": {
      "needs_background": "light"
     },
     "output_type": "display_data"
    }
   ],
   "source": [
    "palette = sns.color_palette(\"mako_r\", 1)\n",
    "sns.lineplot(\n",
    "    data=d_results, x=\"total_evals\", y=\"value\",\n",
    "    hue=\"optimizer\",\n",
    "    palette=palette,\n",
    "    alpha=0.5\n",
    ")\n",
    "plt.axhline(y=-18.6, color=\".7\", dashes=(2, 1), zorder=0)"
   ]
  },
  {
   "cell_type": "code",
   "execution_count": 34,
   "id": "4df97d3d",
   "metadata": {},
   "outputs": [
    {
     "data": {
      "text/plain": [
       "[2, 1, 0]"
      ]
     },
     "execution_count": 34,
     "metadata": {},
     "output_type": "execute_result"
    }
   ],
   "source": [
    "x = sample_most_likely(result.eigenstate)\n",
    "tsp.get_tsp_solution(x)"
   ]
  },
  {
   "cell_type": "code",
   "execution_count": 35,
   "id": "aa9bdc14",
   "metadata": {},
   "outputs": [
    {
     "name": "stdout",
     "output_type": "stream",
     "text": [
      "energy: -109.8046875\n"
     ]
    }
   ],
   "source": [
    "print('energy:', result.eigenvalue.real)"
   ]
  },
  {
   "cell_type": "code",
   "execution_count": 36,
   "id": "1ae36af9",
   "metadata": {},
   "outputs": [
    {
     "data": {
      "image/png": "[encoded data removed]",
      "text/plain": [
       "<Figure size 432x288 with 1 Axes>"
      ]
     },
     "metadata": {
      "needs_background": "light"
     },
     "output_type": "display_data"
    }
   ],
   "source": [
    "plt.clf()\n",
    "feasible_count = 0\n",
    "infeasible_count = 0\n",
    "solution_count = 0\n",
    "feasibility_results = {\n",
    "    \"feasible_count\": None,\n",
    "    \"infeasible_count\": None,\n",
    "    \"solution_count\": None,\n",
    "    \"random_guess\": None\n",
    "}\n",
    "\n",
    "num_feasible = len([x for x in result.eigenstate.keys() if tsp.tsp_feasible(x)])\n",
    "\n",
    "for state in result.eigenstate.keys():\n",
    "    x = sample_most_likely(exact_result.eigenstate)\n",
    "    exact_sol_state = ''.join([str(i) for i in x])\n",
    "    if tsp.tsp_feasible(state):\n",
    "        feasible_count += result.eigenstate[state]\n",
    "    else:\n",
    "        infeasible_count += result.eigenstate[state]\n",
    "    if exact_sol_state == state:\n",
    "        solution_count = result.eigenstate[state]\n",
    "\n",
    "feasibility_results[\"feasible_count\"]=feasible_count\n",
    "feasibility_results[\"infeasible_count\"]=infeasible_count\n",
    "feasibility_results[\"solution_count\"]=solution_count\n",
    "feasibility_results[\"random_guess\"]=(feasible_count+infeasible_count)/2**num_qubits\n",
    "feasibility_results[\"random_feasible_guess\"]=(feasible_count+infeasible_count)/num_feasible\n",
    "keys = list(feasibility_results.keys())\n",
    "# # get values in the same order as keys, and parse percentage values\n",
    "vals = [feasibility_results[k] for k in keys]\n",
    "feasible_plot = sns.barplot(x=keys, y=vals)\n",
    "feasible_plot.set_xticklabels(feasible_plot.get_xticklabels(), \n",
    "                          rotation=90, \n",
    "                          horizontalalignment='right')\n",
    "plt.show()"
   ]
  },
  {
   "cell_type": "code",
   "execution_count": 41,
   "id": "2023e95c",
   "metadata": {},
   "outputs": [],
   "source": []
  },
  {
   "cell_type": "code",
   "execution_count": null,
   "id": "c30f21b9",
   "metadata": {},
   "outputs": [],
   "source": []
  }
 ],
 "metadata": {
  "kernelspec": {
   "display_name": "Python 3 (ipykernel)",
   "language": "python",
   "name": "python3"
  },
  "language_info": {
   "codemirror_mode": {
    "name": "ipython",
    "version": 3
   },
   "file_extension": ".py",
   "mimetype": "text/x-python",
   "name": "python",
   "nbconvert_exporter": "python",
   "pygments_lexer": "ipython3",
   "version": "3.9.4"
  }
 },
 "nbformat": 4,
 "nbformat_minor": 5
}
