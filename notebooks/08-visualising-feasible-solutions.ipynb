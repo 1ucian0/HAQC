{
 "cells": [
  {
   "cell_type": "markdown",
   "id": "eaadde83",
   "metadata": {},
   "source": [
    "## Visualising Different Types of Solutions"
   ]
  },
  {
   "cell_type": "code",
   "execution_count": 1,
   "id": "76edfcf9",
   "metadata": {},
   "outputs": [
    {
     "name": "stderr",
     "output_type": "stream",
     "text": [
      "/Users/vivekkatial/.local/share/virtualenvs/HAQC-azaY3fAi/lib/python3.9/site-packages/qiskit/aqua/__init__.py:86: DeprecationWarning: The package qiskit.aqua is deprecated. It was moved/refactored to qiskit-terra For more information see <https://github.com/Qiskit/qiskit-aqua/blob/main/README.md#migration-guide>\n",
      "  warn_package('aqua', 'qiskit-terra')\n",
      "/Users/vivekkatial/.local/share/virtualenvs/HAQC-azaY3fAi/lib/python3.9/site-packages/qiskit/finance/__init__.py:50: DeprecationWarning: The package qiskit.finance is deprecated. It was moved/refactored to qiskit_finance (pip install qiskit-finance). For more information see <https://github.com/Qiskit/qiskit-aqua/blob/main/README.md#migration-guide>\n",
      "  warn_package('finance', 'qiskit_finance', 'qiskit-finance')\n",
      "/Users/vivekkatial/.local/share/virtualenvs/HAQC-azaY3fAi/lib/python3.9/site-packages/qiskit/optimization/__init__.py:92: DeprecationWarning: The package qiskit.optimization is deprecated. It was moved/refactored to qiskit_optimization (pip install qiskit-optimization). For more information see <https://github.com/Qiskit/qiskit-aqua/blob/main/README.md#migration-guide>\n",
      "  warn_package('optimization', 'qiskit_optimization', 'qiskit-optimization')\n"
     ]
    }
   ],
   "source": [
    "# Hide warnings\n",
    "import warnings\n",
    "warnings.filterwarnings('ignore')\n",
    "\n",
    "# Standard Libraries\n",
    "import argparse\n",
    "import json\n",
    "import time\n",
    "import networkx as nx\n",
    "import numpy as np\n",
    "from joblib import Parallel, delayed\n",
    "import mlflow\n",
    "import os\n",
    "import numpy as np\n",
    "import matplotlib.pyplot as plt\n",
    "import seaborn as sns\n",
    "import pandas as pd\n",
    "import pylab\n",
    "\n",
    "# Custom Libraries\n",
    "import qaoa_vrp.build_graph\n",
    "import qaoa_vrp.features.graph_features\n",
    "import qaoa_vrp.features.tsp_features\n",
    "import qaoa_vrp.build_circuit\n",
    "import qaoa_vrp.clustering\n",
    "import qaoa_vrp.utils\n",
    "from qaoa_vrp.exp_utils import str2bool, make_temp_directory\n",
    "from qaoa_vrp.quantum_burden import compute_quantum_burden\n",
    "from qaoa_vrp.classical.greedy_tsp import greedy_tsp\n",
    "from qaoa_vrp.plot.draw_euclidean_graphs import draw_euclidean_graph\n",
    "\n",
    "# QISKIT stuff\n",
    "from qiskit import Aer, execute\n",
    "from qiskit.providers.aer import QasmSimulator\n",
    "from qiskit.aqua import QuantumInstance, aqua_globals\n",
    "from qiskit.aqua.algorithms import QAOA, NumPyMinimumEigensolver,VQE\n",
    "from qiskit.circuit.library import TwoLocal\n",
    "from qiskit.algorithms.optimizers import COBYLA, L_BFGS_B, SLSQP, NELDER_MEAD, SPSA\n",
    "from qiskit.circuit import Parameter\n",
    "from qiskit.finance.applications.ising import portfolio\n",
    "from qiskit.optimization import QuadraticProgram\n",
    "from qiskit.optimization.converters import QuadraticProgramToQubo\n",
    "from qiskit.optimization.algorithms import (\n",
    "    MinimumEigenOptimizer,\n",
    "    RecursiveMinimumEigenOptimizer,\n",
    ")\n",
    "from qiskit.optimization.applications.ising.common import sample_most_likely\n",
    "from qiskit.optimization.applications.ising import max_cut, tsp\n",
    "\n",
    "# import logging\n",
    "# logging.basicConfig(level=logging.INFO)\n",
    "# logging.getLogger('qiskit.algorithms.minimum_eigen_solvers.vqe').setLevel(logging.INFO)G = # Hide warnings\n",
    "import warnings\n",
    "warnings.filterwarnings('ignore')\n",
    "\n",
    "# Standard Libraries\n",
    "import argparse\n",
    "import json\n",
    "import time\n",
    "import networkx as nx\n",
    "import numpy as np\n",
    "from joblib import Parallel, delayed\n",
    "import mlflow\n",
    "import os\n",
    "import numpy as np\n",
    "import matplotlib.pyplot as plt\n",
    "import seaborn as sns\n",
    "import pandas as pd\n",
    "import pylab\n",
    "\n",
    "# Custom Libraries\n",
    "import qaoa_vrp.build_graph\n",
    "import qaoa_vrp.features.graph_features\n",
    "import qaoa_vrp.features.tsp_features\n",
    "import qaoa_vrp.build_circuit\n",
    "import qaoa_vrp.clustering\n",
    "import qaoa_vrp.utils\n",
    "from qaoa_vrp.exp_utils import str2bool, make_temp_directory\n",
    "from qaoa_vrp.quantum_burden import compute_quantum_burden\n",
    "from qaoa_vrp.classical.greedy_tsp import greedy_tsp\n",
    "from qaoa_vrp.plot.draw_euclidean_graphs import draw_euclidean_graph\n",
    "from qaoa_vrp.parallel.optimize_qaoa import run_qaoa_parallel\n",
    "\n",
    "# QISKIT stuff\n",
    "from qiskit import Aer, execute\n",
    "from qiskit.providers.aer import QasmSimulator\n",
    "from qiskit.aqua import QuantumInstance, aqua_globals\n",
    "from qiskit.aqua.algorithms import QAOA, NumPyMinimumEigensolver,VQE\n",
    "from qiskit.circuit.library import TwoLocal\n",
    "from qiskit.algorithms.optimizers import COBYLA, L_BFGS_B, SLSQP, NELDER_MEAD, SPSA\n",
    "from qiskit.circuit import Parameter\n",
    "from qiskit.finance.applications.ising import portfolio\n",
    "from qiskit.optimization import QuadraticProgram\n",
    "from qiskit.optimization.converters import QuadraticProgramToQubo\n",
    "from qiskit.optimization.algorithms import (\n",
    "    MinimumEigenOptimizer,\n",
    "    RecursiveMinimumEigenOptimizer,\n",
    ")\n",
    "from qiskit.optimization.applications.ising.common import sample_most_likely\n",
    "from qiskit.optimization.applications.ising import max_cut, tsp\n",
    "\n",
    "# import logging\n",
    "# logging.basicConfig(level=logging.INFO)\n",
    "# logging.getLogger('qiskit.algorithms.minimum_eigen_solvers.vqe').setLevel(logging.INFO)"
   ]
  },
  {
   "cell_type": "code",
   "execution_count": 2,
   "id": "07a6a635",
   "metadata": {},
   "outputs": [],
   "source": [
    "filename=\"instanceType_euclidean_tsp_numNodes_4_numVehicles_1_87a170c748e240d0b71d5fb7fe7de707.json\"\n",
    "instance_path = \"../data/{}\".format(filename)\n",
    "with open(instance_path) as f:\n",
    "        data = json.load(f)"
   ]
  },
  {
   "cell_type": "code",
   "execution_count": 3,
   "id": "0b76695b",
   "metadata": {},
   "outputs": [],
   "source": [
    "# Build Graph\n",
    "G, depot_info = qaoa_vrp.build_graph.build_json_graph(data[\"graph\"])\n",
    "num_vehicles = int(data[\"numVehicles\"])\n",
    "threshold = float(data[\"threshold\"])\n",
    "n_max = int(data[\"n_max\"])\n",
    "instance_type = data[\"instance_type\"]\n",
    "p_max = data[\"p_max\"]\n",
    "depot_edges = list(G.edges(depot_info[\"id\"], data=True))\n",
    "depot_node = depot_info[\"id\"]\n",
    "edge_mat = nx.linalg.graphmatrix.adjacency_matrix(G).toarray()\n",
    "cost_mat = np.array(nx.attr_matrix(G, edge_attr=\"cost\", rc_order=list(G.nodes())))\n",
    "for edge in G.edges():\n",
    "    G[edge[0]][edge[1]]['cost'] = 0\n",
    "edge_mat = nx.linalg.graphmatrix.adjacency_matrix(G).toarray()\n",
    "cost_mat = np.array(nx.attr_matrix(G, edge_attr=\"cost\", rc_order=list(G.nodes())))"
   ]
  },
  {
   "cell_type": "code",
   "execution_count": 4,
   "id": "e909b528",
   "metadata": {},
   "outputs": [],
   "source": [
    "G, cluster_mapping = qaoa_vrp.clustering.create_clusters(\n",
    "    G, num_vehicles, \"spectral-clustering\", edge_mat\n",
    ")\n",
    "\n",
    "subgraphs = qaoa_vrp.clustering.build_sub_graphs(G, depot_node, depot_edges)\n",
    "\n",
    "# big_offset = sum(sum(cost_mat))/2 + 1\n",
    "big_offset=30\n",
    "qubos = qaoa_vrp.build_circuit.build_qubos(subgraphs, depot_info,A=big_offset)\n",
    "cluster_mapping = [i + 1 for i in cluster_mapping]\n",
    "cluster_mapping.insert(0, 0)"
   ]
  },
  {
   "cell_type": "code",
   "execution_count": 5,
   "id": "ba2b264e",
   "metadata": {},
   "outputs": [
    {
     "data": {
      "text/plain": [
       "\\ This file has been generated by DOcplex\n",
       "\\ ENCODING=ISO-8859-1\n",
       "\\Problem name: CPLEX\n",
       "\n",
       "Minimize\n",
       " obj: - 120 X11 - 120 X12 - 120 X13 - 120 X21 - 120 X22 - 120 X23 - 120 X31\n",
       "      - 120 X32 - 120 X33 + [ 120 X11^2 + 120 X11*X12 + 120 X11*X13\n",
       "      + 120 X11*X21 + 120 X11*X31 + 120 X12^2 + 120 X12*X13 + 120 X12*X22\n",
       "      + 120 X12*X32 + 120 X13^2 + 120 X13*X23 + 120 X13*X33 + 120 X21^2\n",
       "      + 120 X21*X22 + 120 X21*X23 + 120 X21*X31 + 120 X22^2 + 120 X22*X23\n",
       "      + 120 X22*X32 + 120 X23^2 + 120 X23*X33 + 120 X31^2 + 120 X31*X32\n",
       "      + 120 X31*X33 + 120 X32^2 + 120 X32*X33 + 120 X33^2 ]/2 + 180\n",
       "Subject To\n",
       "\n",
       "Bounds\n",
       " 0 <= X11 <= 1\n",
       " 0 <= X12 <= 1\n",
       " 0 <= X13 <= 1\n",
       " 0 <= X21 <= 1\n",
       " 0 <= X22 <= 1\n",
       " 0 <= X23 <= 1\n",
       " 0 <= X31 <= 1\n",
       " 0 <= X32 <= 1\n",
       " 0 <= X33 <= 1\n",
       "\n",
       "Binaries\n",
       " X11 X12 X13 X21 X22 X23 X31 X32 X33\n",
       "End"
      ]
     },
     "execution_count": 5,
     "metadata": {},
     "output_type": "execute_result"
    }
   ],
   "source": [
    "qubo = qubos[0]\n",
    "qubo"
   ]
  },
  {
   "cell_type": "code",
   "execution_count": 6,
   "id": "32595696",
   "metadata": {},
   "outputs": [
    {
     "data": {
      "text/plain": [
       "5"
      ]
     },
     "execution_count": 6,
     "metadata": {},
     "output_type": "execute_result"
    }
   ],
   "source": [
    "single_qubo_solution_data = {}\n",
    "single_qubo_solution_data[\"qubo_id\"] = 0\n",
    "single_qubo_solution_data[\"cluster\"] = [\n",
    "    index\n",
    "    for index, node in enumerate(cluster_mapping)\n",
    "    if node == 1 or node == 0\n",
    "]\n",
    "num_nodes=len(single_qubo_solution_data['cluster'])\n",
    "num_nodes"
   ]
  },
  {
   "cell_type": "code",
   "execution_count": 7,
   "id": "7007db20",
   "metadata": {},
   "outputs": [
    {
     "name": "stdout",
     "output_type": "stream",
     "text": [
      "Offset: 180.0\n",
      "Ising Hamiltonian:\n",
      "IIIIIIIIZ\t(-30+0j)\n",
      "IIIIIIIZI\t(-30+0j)\n",
      "IIIIIIZII\t(-30+0j)\n",
      "IIIIIZIII\t(-30+0j)\n",
      "IIIIZIIII\t(-30+0j)\n",
      "IIIZIIIII\t(-30+0j)\n",
      "IIZIIIIII\t(-30+0j)\n",
      "IZIIIIIII\t(-30+0j)\n",
      "ZIIIIIIII\t(-30+0j)\n",
      "IIIIIIIZZ\t(15+0j)\n",
      "IIIIIIZIZ\t(15+0j)\n",
      "IIIIIIZZI\t(15+0j)\n",
      "IIIIIZIIZ\t(15+0j)\n",
      "IIIIZIIZI\t(15+0j)\n",
      "IIIIZZIII\t(15+0j)\n",
      "IIIZIIZII\t(15+0j)\n",
      "IIIZIZIII\t(15+0j)\n",
      "IIIZZIIII\t(15+0j)\n",
      "IIZIIIIIZ\t(15+0j)\n",
      "IIZIIZIII\t(15+0j)\n",
      "IZIIIIIZI\t(15+0j)\n",
      "IZIIZIIII\t(15+0j)\n",
      "IZZIIIIII\t(15+0j)\n",
      "ZIIIIIZII\t(15+0j)\n",
      "ZIIZIIIII\t(15+0j)\n",
      "ZIZIIIIII\t(15+0j)\n",
      "ZZIIIIIII\t(15+0j)\n",
      "\n"
     ]
    }
   ],
   "source": [
    "op, offset = qubo.to_ising()\n",
    "num_qubits = qubo.get_num_vars()\n",
    "print('Offset:', offset)\n",
    "print('Ising Hamiltonian:')\n",
    "print(op.print_details())"
   ]
  },
  {
   "cell_type": "code",
   "execution_count": 8,
   "id": "83d1b314",
   "metadata": {},
   "outputs": [
    {
     "name": "stdout",
     "output_type": "stream",
     "text": [
      "// This file has been generated by DOcplex\n",
      "// model name is: AnonymousModel\n",
      "// single vars section\n",
      "dvar bool x_0;\n",
      "dvar bool x_1;\n",
      "dvar bool x_2;\n",
      "dvar bool x_3;\n",
      "dvar bool x_4;\n",
      "dvar bool x_5;\n",
      "dvar bool x_6;\n",
      "dvar bool x_7;\n",
      "dvar bool x_8;\n",
      "\n",
      "minimize\n",
      " - 60 x_0 - 60 x_1 - 60 x_2 - 60 x_3 - 60 x_4 - 60 x_5 - 60 x_6 - 60 x_7\n",
      " - 60 x_8 [ 60 x_0*x_1 + 60 x_0*x_2 + 60 x_0*x_3 + 60 x_0*x_6 + 60 x_1*x_2\n",
      " + 60 x_1*x_4 + 60 x_1*x_7 + 60 x_2*x_5 + 60 x_2*x_8 + 60 x_3*x_4 + 60 x_3*x_5\n",
      " + 60 x_3*x_6 + 60 x_4*x_5 + 60 x_4*x_7 + 60 x_5*x_8 + 60 x_6*x_7 + 60 x_6*x_8\n",
      " + 60 x_7*x_8 ] + 180;\n",
      " \n",
      "subject to {\n",
      "\n",
      "}\n"
     ]
    }
   ],
   "source": [
    "qp = QuadraticProgram()\n",
    "qp.from_ising(op, offset, linear=True)\n",
    "qp.to_docplex().prettyprint()"
   ]
  },
  {
   "cell_type": "code",
   "execution_count": 9,
   "id": "9197de52",
   "metadata": {},
   "outputs": [
    {
     "name": "stdout",
     "output_type": "stream",
     "text": [
      "optimal function value: 0.0\n",
      "optimal value: [0. 0. 1. 1. 0. 0. 0. 1. 0.]\n",
      "status: SUCCESS\n"
     ]
    }
   ],
   "source": [
    "exact = MinimumEigenOptimizer(NumPyMinimumEigensolver())\n",
    "exact_result = exact.solve(qp)\n",
    "print(exact_result)"
   ]
  },
  {
   "cell_type": "code",
   "execution_count": 10,
   "id": "2cc36bf5",
   "metadata": {},
   "outputs": [],
   "source": [
    "ee = NumPyMinimumEigensolver(op)\n",
    "exact_result = ee.run()"
   ]
  },
  {
   "cell_type": "code",
   "execution_count": 11,
   "id": "d6185649",
   "metadata": {},
   "outputs": [
    {
     "name": "stdout",
     "output_type": "stream",
     "text": [
      "energy: -180.0\n",
      "tsp objective: 0.0\n",
      "feasible: True\n",
      "solution: [1, 2, 0]\n",
      "solution objective: 0.0\n"
     ]
    }
   ],
   "source": [
    "print('energy:', exact_result.eigenvalue.real)\n",
    "print('tsp objective:', exact_result.eigenvalue.real + offset)\n",
    "x = sample_most_likely(exact_result.eigenstate)\n",
    "print('feasible:', tsp.tsp_feasible(x))\n",
    "z = tsp.get_tsp_solution(x)\n",
    "print('solution:', z)\n",
    "print('solution objective:', tsp.tsp_value(z, cost_mat))"
   ]
  },
  {
   "cell_type": "code",
   "execution_count": 41,
   "id": "f84b5c63",
   "metadata": {},
   "outputs": [
    {
     "name": "stdout",
     "output_type": "stream",
     "text": [
      "-30.0 * IIIIIIIIZ\n",
      "-30.0 * IIIIIIIZI\n",
      "-30.0 * IIIIIIZII\n",
      "-30.0 * IIIIIZIII\n",
      "-30.0 * IIIIZIIII\n",
      "-30.0 * IIIZIIIII\n",
      "-30.0 * IIZIIIIII\n",
      "-30.0 * IZIIIIIII\n",
      "-30.0 * ZIIIIIIII\n",
      "15.0 * IIIIIIIZZ\n",
      "15.0 * IIIIIIZIZ\n",
      "15.0 * IIIIIIZZI\n",
      "15.0 * IIIIIZIIZ\n",
      "15.0 * IIIIZIIZI\n",
      "15.0 * IIIIZZIII\n",
      "15.0 * IIIZIIZII\n",
      "15.0 * IIIZIZIII\n",
      "15.0 * IIIZZIIII\n",
      "15.0 * IIZIIIIIZ\n",
      "15.0 * IIZIIZIII\n",
      "15.0 * IZIIIIIZI\n",
      "15.0 * IZIIZIIII\n",
      "15.0 * IZZIIIIII\n",
      "15.0 * ZIIIIIZII\n",
      "15.0 * ZIIZIIIII\n",
      "15.0 * ZIZIIIIII\n",
      "15.0 * ZZIIIIIII\n"
     ]
    }
   ],
   "source": [
    "budget=100\n",
    "optimizers = [\n",
    "    COBYLA(maxiter=budget, disp=True, rhobeg=0.1),\n",
    "]\n",
    "converge_cnts = np.empty([len(optimizers)], dtype=object)\n",
    "converge_vals = np.empty([len(optimizers)], dtype=object)\n",
    "for pauli in op:\n",
    "    print(pauli)"
   ]
  },
  {
   "cell_type": "code",
   "execution_count": 44,
   "id": "5497e71c",
   "metadata": {},
   "outputs": [
    {
     "name": "stdout",
     "output_type": "stream",
     "text": [
      " Running Optimizer: NELDER_MEAD in parallel\n",
      "Warning: Maximum number of function evaluations has been exceeded.\n",
      "Warning: Maximum number of function evaluations has been exceeded.\n",
      "Warning: Maximum number of function evaluations has been exceeded.\n",
      "Warning: Maximum number of function evaluations has been exceeded.\n",
      "Warning: Maximum number of function evaluations has been exceeded.\n",
      "Warning: Maximum number of function evaluations has been exceeded.\n",
      "Warning: Maximum number of function evaluations has been exceeded.\n",
      "Warning: Maximum number of function evaluations has been exceeded.\n",
      "Warning: Maximum number of function evaluations has been exceeded.\n",
      "Warning: Maximum number of function evaluations has been exceeded.\n",
      "Warning: Maximum number of function evaluations has been exceeded.\n",
      "Warning: Maximum number of function evaluations has been exceeded.\n",
      "Warning: Maximum number of function evaluations has been exceeded.\n",
      "Warning: Maximum number of function evaluations has been exceeded.\n",
      "Warning: Maximum number of function evaluations has been exceeded.\n",
      "Warning: Maximum number of function evaluations has been exceeded.\n",
      "Warning: Maximum number of function evaluations has been exceeded.\n",
      "Warning: Maximum number of function evaluations has been exceeded.\n",
      "Warning: Maximum number of function evaluations has been exceeded.\n",
      "Warning: Maximum number of function evaluations has been exceeded.\n",
      "Warning: Maximum number of function evaluations has been exceeded.\n",
      "Warning: Maximum number of function evaluations has been exceeded.\n",
      "Warning: Maximum number of function evaluations has been exceeded.\n",
      "Warning: Maximum number of function evaluations has been exceeded.\n",
      "Warning: Maximum number of function evaluations has been exceeded.\n",
      " Ending run for  Optimizer: NELDER_MEAD in parallel\n"
     ]
    }
   ],
   "source": [
    "result = run_qaoa_parallel(args=[\n",
    "                NELDER_MEAD(maxfev=budget, disp=True, adaptive=True, tol=0.1),\n",
    "                2500,\n",
    "                op,\n",
    "                5,\n",
    "                False,\n",
    "            ])"
   ]
  },
  {
   "cell_type": "markdown",
   "id": "f8fc9196",
   "metadata": {},
   "source": [
    "## Construct Functions for investigating feasibility\n",
    "\n",
    "We first build a function `conver_bitstr_to_state` which takes a `str` representation of a state e.g. `100010001` and represents it as a `numpy.Array`.\n",
    "\n",
    "Then we implement a `check_constraint` function. This validates whether time and/or city constraints are validated."
   ]
  },
  {
   "cell_type": "code",
   "execution_count": 21,
   "id": "a66153f7",
   "metadata": {},
   "outputs": [],
   "source": [
    "def conver_bitstr_to_state(bitstr):\n",
    "    return np.array([float(i) for i in bitstr])"
   ]
  },
  {
   "cell_type": "code",
   "execution_count": 22,
   "id": "d6601139",
   "metadata": {},
   "outputs": [],
   "source": [
    "def check_constraint(state_vec, cns_type=\"city\"):\n",
    "    if cns_type not in [\"city\", \"time\"]:\n",
    "        raise ValueError(\"Can only handle 'city' or 'time' constraints\")\n",
    "    state_vec = conver_bitstr_to_state(state_vec)\n",
    "    # Find num nodes\n",
    "    dim = int(np.sqrt(len(state_vec)))\n",
    "    # Matrix Representation\n",
    "    matrix_rep = state_vec.reshape(dim, dim)    \n",
    "    # All row sums must equal to 1. for time constraints    \n",
    "    time_sum = np.sum(matrix_rep, axis=1)\n",
    "    # All column sums must equal to 1. for city constraints\n",
    "    city_sum = np.sum(matrix_rep, axis=0)\n",
    "    \n",
    "    if cns_type==\"city\":\n",
    "        return np.array_equal(city_sum, np.ones(dim))\n",
    "    else:\n",
    "        return np.array_equal(time_sum, np.ones(dim))"
   ]
  },
  {
   "cell_type": "markdown",
   "id": "bd8018aa",
   "metadata": {},
   "source": [
    "Let's try some feasible and infeasible solutions to assert that are function is actually working for different states"
   ]
  },
  {
   "cell_type": "code",
   "execution_count": 23,
   "id": "55ec1da8",
   "metadata": {},
   "outputs": [],
   "source": [
    "# Test it works for feasible solution\n",
    "test_state='010100001'\n",
    "expected_city_cns=True\n",
    "expected_time_cns=True\n",
    "assert expected_city_cns==check_constraint(test_state, 'city')\n",
    "assert expected_time_cns==check_constraint(test_state, 'time')\n",
    "\n",
    "# Test it works for a invalid city constraint BUT valid time constraint\n",
    "test_state='010001001'\n",
    "expected_city_cns=False\n",
    "expected_time_cns=True\n",
    "assert expected_city_cns==check_constraint(test_state, 'city')\n",
    "assert expected_time_cns==check_constraint(test_state, 'time')\n",
    "\n",
    "# Test it works for a invalid time constraint BUT valid city constraint\n",
    "test_state='111000000'\n",
    "expected_city_cns=True\n",
    "expected_time_cns=False\n",
    "assert expected_city_cns==check_constraint(test_state, 'city')\n",
    "assert expected_time_cns==check_constraint(test_state, 'time')\n",
    "\n",
    "# Test it works for both invalid time constraint AND valid city constraint\n",
    "test_state='000000000'\n",
    "expected_city_cns=False\n",
    "expected_time_cns=False\n",
    "assert expected_city_cns==check_constraint(test_state, 'city')\n",
    "assert expected_time_cns==check_constraint(test_state, 'time')"
   ]
  },
  {
   "cell_type": "markdown",
   "id": "74a33fd5",
   "metadata": {},
   "source": [
    "Now its working; fantastic let's look at our results as we break them down by the type of constraints being violated"
   ]
  },
  {
   "cell_type": "code",
   "execution_count": 24,
   "id": "22bcf02e",
   "metadata": {},
   "outputs": [],
   "source": [
    "def generate_feasibility_results(eigenstate, exact_result):\n",
    "    \"\"\"Plotting function for a graph of feasibility\n",
    "\n",
    "    Args:\n",
    "        eigenstate (np.Array): [description]\n",
    "        exact_result (np.Array): [description]\n",
    "    \"\"\"\n",
    "    feasible_count =0\n",
    "    infeasible_count=0\n",
    "    solution_count=0\n",
    "    vio_city_cnts=0\n",
    "    vio_time_cnts=0\n",
    "    vio_both_cnts=0\n",
    "    \n",
    "    feasibility_results = {\n",
    "        \"feasible_count\": None,\n",
    "        \"infeasible_count\": None,\n",
    "        \"vio_city_cnts\": None,\n",
    "        \"vio_time_cnts\": None,\n",
    "        \"vio_both_cnts\": None,\n",
    "        \"solution_count\": None,\n",
    "        \"random_guess\": None,\n",
    "    }\n",
    "\n",
    "    num_feasible = len([x for x in eigenstate.keys() if tsp.tsp_feasible(x)])\n",
    "    x = sample_most_likely(exact_result.eigenstate)\n",
    "    exact_sol_state = ''.join([str(i) for i in x])\n",
    "    for state in eigenstate.keys():\n",
    "        if check_constraint(state, cns_type=\"city\") and check_constraint(state, cns_type=\"time\") and tsp.tsp_feasible(state):\n",
    "            feasible_count += eigenstate[state]\n",
    "        if check_constraint(state, cns_type=\"time\") and not check_constraint(state, cns_type=\"city\"):\n",
    "            vio_city_cnts += eigenstate[state]\n",
    "            infeasible_count += eigenstate[state]\n",
    "        if check_constraint(state, cns_type=\"city\") and not check_constraint(state, cns_type=\"time\"):\n",
    "            vio_time_cnts += eigenstate[state]\n",
    "            infeasible_count += eigenstate[state]\n",
    "        if not check_constraint(state, cns_type=\"city\") and not check_constraint(state, cns_type=\"time\"):\n",
    "            vio_both_cnts += eigenstate[state]\n",
    "            infeasible_count += eigenstate[state]\n",
    "        if exact_sol_state == state:\n",
    "            solution_count = eigenstate[state]\n",
    "            \n",
    "\n",
    "    feasibility_results[\"feasible_count\"] = feasible_count\n",
    "    feasibility_results[\"infeasible_count\"] = infeasible_count\n",
    "    feasibility_results[\"solution_count\"] = solution_count\n",
    "    feasibility_results[\"vio_city_cnts\"] = vio_city_cnts\n",
    "    feasibility_results[\"vio_time_cnts\"] = vio_time_cnts\n",
    "    feasibility_results[\"vio_both_cnts\"] = vio_both_cnts\n",
    "    feasibility_results[\"random_guess\"] = (\n",
    "        feasible_count + infeasible_count\n",
    "    ) / 2**len(state)\n",
    "    feasibility_results[\"random_feasible_guess\"] = (\n",
    "        feasible_count + infeasible_count\n",
    "    ) / num_feasible\n",
    "    \n",
    "    return feasibility_results\n",
    "    \n",
    "def plot_feasibility_results(feasibility_results):\n",
    "    keys = list(feasibility_results.keys())\n",
    "    # # get values in the same order as keys, and parse percentage values\n",
    "    vals = [feasibility_results[k] for k in keys]\n",
    "    \n",
    "    sns.set_color_codes(\"muted\")\n",
    "    feasible_plot = sns.barplot(x=keys, y=vals)\n",
    "    feasible_plot.set_xticklabels(\n",
    "        feasible_plot.get_xticklabels(), rotation=90, horizontalalignment='right'\n",
    "    )\n",
    "\n",
    "    return feasible_plot\n"
   ]
  },
  {
   "cell_type": "code",
   "execution_count": 25,
   "id": "ffeb8060",
   "metadata": {},
   "outputs": [
    {
     "data": {
      "text/plain": [
       "<AxesSubplot:>"
      ]
     },
     "execution_count": 25,
     "metadata": {},
     "output_type": "execute_result"
    },
    {
     "data": {
      "image/png": "[encoded data removed]",
      "text/plain": [
       "<Figure size 432x288 with 1 Axes>"
      ]
     },
     "metadata": {
      "needs_background": "light"
     },
     "output_type": "display_data"
    }
   ],
   "source": [
    "feasibility_results = generate_feasibility_results(result['min_energy_state'], exact_result)\n",
    "feasibility_results\n",
    "plot_feasibility_results(feasibility_results)"
   ]
  },
  {
   "cell_type": "code",
   "execution_count": null,
   "id": "67701892",
   "metadata": {},
   "outputs": [],
   "source": []
  },
  {
   "cell_type": "code",
   "execution_count": 34,
   "id": "bd34e6d8",
   "metadata": {},
   "outputs": [
    {
     "name": "stdout",
     "output_type": "stream",
     "text": [
      "solution objective: 0.0\n"
     ]
    }
   ],
   "source": [
    "print('solution objective:', tsp.tsp_value(z, cost_mat))"
   ]
  },
  {
   "cell_type": "code",
   "execution_count": 36,
   "id": "41acbad2",
   "metadata": {},
   "outputs": [
    {
     "data": {
      "text/plain": [
       "1024"
      ]
     },
     "execution_count": 36,
     "metadata": {},
     "output_type": "execute_result"
    }
   ],
   "source": [
    "total=0 \n",
    "for key in result['min_energy_state'].keys():\n",
    "    total+= result['min_energy_state'][key]\n",
    "    \n",
    "total"
   ]
  },
  {
   "cell_type": "code",
   "execution_count": 39,
   "id": "b181d2a7",
   "metadata": {},
   "outputs": [
    {
     "data": {
      "text/plain": [
       "{'feasible_count': 211,\n",
       " 'infeasible_count': 813,\n",
       " 'vio_city_cnts': 120,\n",
       " 'vio_time_cnts': 107,\n",
       " 'vio_both_cnts': 586,\n",
       " 'solution_count': 31,\n",
       " 'random_guess': 2.0,\n",
       " 'random_feasible_guess': 170.66666666666666}"
      ]
     },
     "execution_count": 39,
     "metadata": {},
     "output_type": "execute_result"
    }
   ],
   "source": [
    "feasibility_results"
   ]
  },
  {
   "cell_type": "code",
   "execution_count": 40,
   "id": "aabb97f2",
   "metadata": {},
   "outputs": [
    {
     "data": {
      "text/plain": [
       "1024"
      ]
     },
     "execution_count": 40,
     "metadata": {},
     "output_type": "execute_result"
    }
   ],
   "source": [
    "211+813"
   ]
  },
  {
   "cell_type": "code",
   "execution_count": null,
   "id": "9fe848ed",
   "metadata": {},
   "outputs": [],
   "source": []
  }
 ],
 "metadata": {
  "kernelspec": {
   "display_name": "Python 3 (ipykernel)",
   "language": "python",
   "name": "python3"
  },
  "language_info": {
   "codemirror_mode": {
    "name": "ipython",
    "version": 3
   },
   "file_extension": ".py",
   "mimetype": "text/x-python",
   "name": "python",
   "nbconvert_exporter": "python",
   "pygments_lexer": "ipython3",
   "version": "3.9.4"
  }
 },
 "nbformat": 4,
 "nbformat_minor": 5
}
