{
 "cells": [
  {
   "cell_type": "code",
   "execution_count": 7,
   "id": "ff09e581",
   "metadata": {},
   "outputs": [],
   "source": [
    "import numpy as np"
   ]
  },
  {
   "cell_type": "code",
   "execution_count": 29,
   "id": "39575bb3",
   "metadata": {},
   "outputs": [],
   "source": [
    "p = 1\n",
    "restart = 0\n",
    "def perturb_from_last_restart(initial_point: list, restart: int)->list:\n",
    "    \"\"\"Function to make pertubation from previous initial point\n",
    "\n",
    "    Args:\n",
    "        initial_point (list): Initial point from previous restart\n",
    "        restart (int): Restart index\n",
    "\n",
    "    Returns:\n",
    "        list: New initial point\n",
    "    \"\"\"\n",
    "\n",
    "    if restart == 0:\n",
    "        return initial_point\n",
    "    else:\n",
    "        initial_point = [x + np.random.uniform(1e-1, 0) for x in initial_point]\n",
    "        return initial_point"
   ]
  },
  {
   "cell_type": "code",
   "execution_count": 30,
   "id": "846b5915",
   "metadata": {},
   "outputs": [],
   "source": [
    "initial_point = [np.random.uniform(0, 1) for i in range(2 * p)]"
   ]
  },
  {
   "cell_type": "code",
   "execution_count": 34,
   "id": "37799a84",
   "metadata": {},
   "outputs": [
    {
     "name": "stdout",
     "output_type": "stream",
     "text": [
      "Initial point: [0.3232651434095226, 0.5066265152988031]\n",
      "Initial point at restart=0: [0.3275761744875897, 0.5362990343627708]\n"
     ]
    }
   ],
   "source": [
    "print(f\"Initial point: {initial_point}\")\n",
    "print(f\"Initial point at restart={restart}: {perturb_from_last_restart(initial_point,1)}\")"
   ]
  },
  {
   "cell_type": "code",
   "execution_count": null,
   "id": "8bf32ff1",
   "metadata": {},
   "outputs": [],
   "source": [
    "2"
   ]
  },
  {
   "cell_type": "code",
   "execution_count": null,
   "id": "394614a4",
   "metadata": {},
   "outputs": [],
   "source": []
  }
 ],
 "metadata": {
  "kernelspec": {
   "display_name": "Python 3 (ipykernel)",
   "language": "python",
   "name": "python3"
  },
  "language_info": {
   "codemirror_mode": {
    "name": "ipython",
    "version": 3
   },
   "file_extension": ".py",
   "mimetype": "text/x-python",
   "name": "python",
   "nbconvert_exporter": "python",
   "pygments_lexer": "ipython3",
   "version": "3.9.4"
  }
 },
 "nbformat": 4,
 "nbformat_minor": 5
}
