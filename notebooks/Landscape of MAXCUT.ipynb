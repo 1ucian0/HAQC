{
 "cells": [
  {
   "cell_type": "markdown",
   "id": "6770fc3d",
   "metadata": {},
   "source": [
    "# MAXCUT Landscape Analysis"
   ]
  },
  {
   "cell_type": "markdown",
   "id": "43f78a36",
   "metadata": {},
   "source": [
    "### Initial Setup\n",
    "In this notebook, we start by importing necessary libraries. We use `numpy` for numerical operations, `matplotlib.pyplot` for plotting, and various components from `qiskit` to build and simulate quantum circuits. The `QAOA` from `qiskit.algorithms` is specifically used for implementing the Quantum Approximate Optimization Algorithm.\n"
   ]
  },
  {
   "cell_type": "code",
   "execution_count": 47,
   "id": "e38e42bb",
   "metadata": {},
   "outputs": [],
   "source": [
    "import numpy as np\n",
    "import networkx as nx\n",
    "import matplotlib.pyplot as plt\n",
    "\n",
    "from qiskit import QuantumCircuit, Aer, execute\n",
    "from qiskit.algorithms.optimizers import COBYLA\n",
    "from qiskit.algorithms import QAOA\n",
    "from qiskit.utils import QuantumInstance\n",
    "from qiskit_optimization.applications import Maxcut\n",
    "from qiskit.opflow import AerPauliExpectation, PauliSumOp\n",
    "from qiskit.quantum_info import Statevector\n",
    "from qiskit.circuit import Parameter\n",
    "\n",
    "# Set a global style\n",
    "plt.style.use('ggplot')"
   ]
  },
  {
   "cell_type": "markdown",
   "id": "9ec2f952",
   "metadata": {},
   "source": [
    "### Defining the Adjacency Matrix\n",
    "The Max-Cut problem is represented using an adjacency matrix \\$A\\$. This matrix represents the graph where each element \\$A_{ij}\\$ is 1 if there is an edge between nodes \\$i\\$ and \\$j\\$, and 0 otherwise. Our sample graph has 5 nodes.\n"
   ]
  },
  {
   "cell_type": "code",
   "execution_count": 48,
   "id": "70631eac",
   "metadata": {},
   "outputs": [
    {
     "name": "stdout",
     "output_type": "stream",
     "text": [
      "[[0 1 1 0 1]\n",
      " [1 0 1 0 0]\n",
      " [1 1 0 1 0]\n",
      " [0 0 1 0 1]\n",
      " [1 0 0 1 0]]\n"
     ]
    }
   ],
   "source": [
    "adjacency_matrix = np.array([\n",
    "    [0, 1, 1, 0, 1],\n",
    "    [1, 0, 1, 0, 0],\n",
    "    [1, 1, 0, 1, 0],\n",
    "    [0, 0, 1, 0, 1],\n",
    "    [1, 0, 0, 1, 0]\n",
    "])\n",
    "print(adjacency_matrix)\n"
   ]
  },
  {
   "cell_type": "markdown",
   "id": "dd6524dd",
   "metadata": {},
   "source": [
    "### Visualizing the Graph\n",
    "To better understand the structure of the graph we are working with, let's visualize it. Each node represents a qubit, and each edge represents a connection (problem constraint) between the qubits.\n",
    "`"
   ]
  },
  {
   "cell_type": "code",
   "execution_count": 51,
   "id": "6554e992",
   "metadata": {},
   "outputs": [
    {
     "data": {
      "image/png": "[encoded data removed]",
      "text/plain": [
       "<Figure size 432x288 with 1 Axes>"
      ]
     },
     "metadata": {},
     "output_type": "display_data"
    }
   ],
   "source": [
    "# Create a graph from the adjacency matrix\n",
    "G = nx.from_numpy_matrix(adjacency_matrix)\n",
    "\n",
    "# Draw the graph\n",
    "pos = nx.spring_layout(G)  # Define a layout for consistent node positioning\n",
    "nx.draw(G, pos, with_labels=True, node_color='lightblue', edge_color='gray', node_size=700, font_size=10)\n",
    "plt.show()"
   ]
  },
  {
   "cell_type": "markdown",
   "id": "aaac5f42",
   "metadata": {},
   "source": [
    "### Setting up the Max-Cut Problem\n",
    "Using Qiskit's `Maxcut` class, we convert our graph represented by the adjacency matrix into a problem that can be solved using a quantum algorithm. The `to_ising` method translates this problem into the Ising model, a formulation suitable for quantum optimization algorithms. In the Ising model, the goal is to minimize the Hamiltonian \\$H = -\\sum_{ij} A_{ij} Z_i Z_j\\$, where \\$Z_i\\$ and \\$Z_j\\$ are the Pauli-Z operators on qubits \\$i\\$ and \\$j\\$.\n"
   ]
  },
  {
   "cell_type": "code",
   "execution_count": 52,
   "id": "d34e967b",
   "metadata": {},
   "outputs": [],
   "source": [
    "max_cut = Maxcut(adjacency_matrix)\n",
    "qubitOp, offset = max_cut.to_quadratic_program().to_ising()"
   ]
  },
  {
   "cell_type": "markdown",
   "id": "81c8e95d",
   "metadata": {},
   "source": [
    "### QAOA Circuit Preparation\n",
    "We initialize the QAOA circuit with a single layer (p=1). QAOA uses a combination of problem (cost) and mixer Hamiltonians, controlled by parameters \\$\\gamma\\$ and \\$\\beta\\$. The cost Hamiltonian encodes the problem, and the mixer Hamiltonian provides transitions between states. We use the COBYLA optimizer for the QAOA algorithm to find optimal values of \\$\\gamma\\$ and \\$\\beta\\$.\n"
   ]
  },
  {
   "cell_type": "code",
   "execution_count": 53,
   "id": "d1e16744",
   "metadata": {},
   "outputs": [
    {
     "data": {
      "image/png": "[encoded data removed]",
      "text/plain": [
       "<Figure size 1049.8x325.08 with 1 Axes>"
      ]
     },
     "execution_count": 53,
     "metadata": {},
     "output_type": "execute_result"
    }
   ],
   "source": [
    "# Define the parameters\n",
    "gamma = Parameter('γ')\n",
    "beta = Parameter('β')\n",
    "\n",
    "# Initialize the QAOA circuit with these parameters\n",
    "qaoa = QAOA(optimizer=COBYLA(), reps=p, initial_point=[gamma, beta])\n",
    "# Constructing the circuit with parameter objects\n",
    "example_qc = qaoa.construct_circuit([gamma, beta], operator=qubitOp)[0]\n",
    "# Drawing the circuit with parameter labels\n",
    "example_qc.draw('mpl')"
   ]
  },
  {
   "cell_type": "markdown",
   "id": "b3bb6588",
   "metadata": {},
   "source": [
    "### Computing Objective Function Values\n",
    "For each combination of the gamma and beta parameters, we construct the QAOA circuit and calculate the expectation value of the Hamiltonian \\$\\langle H \\rangle\\$. This step is crucial in evaluating the performance of our QAOA circuit for different parameter values, guiding us towards the optimal solution.\n"
   ]
  },
  {
   "cell_type": "code",
   "execution_count": null,
   "id": "4eac6841",
   "metadata": {},
   "outputs": [],
   "source": [
    "# Initial parameters\n",
    "p = 1\n",
    "qaoa = QAOA(optimizer=COBYLA(), reps=p)\n",
    "gamma = np.linspace(-2*np.pi, 2*np.pi, 100)\n",
    "beta = np.linspace(-2*np.pi, 2*np.pi, 100)\n",
    "\n",
    "# Compute the objective function value for each parameter combination\n",
    "obj_vals = np.zeros((len(gamma), len(beta)))\n",
    "for i, gamma_val in enumerate(gamma):\n",
    "    for j, beta_val in enumerate(beta):\n",
    "        # Bind alpha and beta parameters to the operator\n",
    "        qc = qaoa.construct_circuit([gamma_val, beta_val], operator=qubitOp)[0]\n",
    "        # Evaluate Backend\n",
    "        backend = Aer.get_backend('aer_simulator')\n",
    "        statevector = Statevector.from_instruction(qc)\n",
    "        # Use the Operator class to compute the expectation value of the Hamiltonian\n",
    "        expectation =  statevector.expectation_value(qubitOp).real\n",
    "        obj_vals[i,j] = expectation"
   ]
  },
  {
   "cell_type": "markdown",
   "id": "de0bec86",
   "metadata": {},
   "source": [
    "### Plotting the Parameter Landscape\n",
    "The heatmap below represents the landscape of the objective function across different values of \\$\\gamma\\$ and \\$\\beta\\$. The color intensity indicates the expectation value of the Hamiltonian, helping identify the regions where optimal parameters may lie.\n"
   ]
  },
  {
   "cell_type": "code",
   "execution_count": null,
   "id": "92cfca4b",
   "metadata": {},
   "outputs": [],
   "source": [
    "# Plot the parameter landscape as a heatmap\n",
    "plt.imshow(obj_vals.T, origin='lower', cmap='hot', extent=(-2*np.pi, 2*np.pi, -2*np.pi, 2*np.pi))\n",
    "plt.xlabel(r'$\\gamma$')\n",
    "plt.ylabel(r'$\\beta$')\n",
    "plt.title('Parameter landscape for 1-layer QAOA MAXCUT')\n",
    "plt.colorbar()\n",
    "plt.show()"
   ]
  },
  {
   "cell_type": "code",
   "execution_count": null,
   "id": "7e203ea3",
   "metadata": {},
   "outputs": [],
   "source": [
    "import plotly.graph_objs as go\n",
    "# Create the Plotly figure\n",
    "fig = go.Figure(data=[go.Surface(x=gamma, y=beta, z=obj_vals, colorscale='hot')])\n",
    "\n",
    "# Set the layout and axes labels\n",
    "fig.update_layout(scene=dict(xaxis_title='X', yaxis_title='Y', zaxis_title='Z'),\n",
    "                  width=700, height=700, margin=dict(l=65, r=50, b=65, t=90))\n",
    "\n",
    "# Show the figure\n",
    "fig.show()"
   ]
  },
  {
   "cell_type": "markdown",
   "id": "894e02f0",
   "metadata": {},
   "source": [
    "### Brute Force Solution for the Max-Cut Problem\n",
    "A brute-force solution to the Max-Cut problem involves evaluating every possible partition of the graph's nodes into two sets. We calculate the 'cut' for each partition, which is the number of edges between the two sets. The goal is to maximize this cut. This method is computationally intensive and not practical for large graphs, but it gives an exact solution for smaller ones."
   ]
  },
  {
   "cell_type": "code",
   "execution_count": null,
   "id": "917c9d0c",
   "metadata": {},
   "outputs": [],
   "source": [
    "from itertools import combinations\n",
    "\n",
    "def compute_max_cut_brute_force(G):\n",
    "    nodes = G.nodes()\n",
    "    n = len(nodes)\n",
    "    max_cut_value = 0\n",
    "    max_cut_partition = None\n",
    "\n",
    "    # Iterate over all possible ways to split the nodes into two sets\n",
    "    for size in range(1, n // 2 + 1):\n",
    "        for subset in combinations(nodes, size):\n",
    "            cut_value = sum((G.has_edge(i, j) for i in subset for j in G.nodes() if j not in subset))\n",
    "            if cut_value > max_cut_value:\n",
    "                max_cut_value = cut_value\n",
    "                max_cut_partition = subset\n",
    "\n",
    "    return max_cut_partition, max_cut_value\n",
    "\n",
    "# Apply the brute force solution to our graph\n",
    "max_cut_partition, max_cut_value = compute_max_cut_brute_force(G)"
   ]
  },
  {
   "cell_type": "markdown",
   "id": "d28e4e05",
   "metadata": {},
   "source": [
    "### Visualizing the Brute Force Solution\n",
    "The solution obtained from the brute force method is visualized on the graph. Nodes are colored based on the partition they belong to in the solution that maximizes the Max-Cut. This visualization gives a clear picture of the optimal partitioning of the graph.\n"
   ]
  },
  {
   "cell_type": "code",
   "execution_count": null,
   "id": "b1e494d2",
   "metadata": {},
   "outputs": [],
   "source": [
    "# Define the colors for each node based on the brute force solution partition\n",
    "node_colors = ['red' if node in max_cut_partition else 'blue' for node in G.nodes()]\n",
    "\n",
    "# Draw the graph with nodes colored based on the solution\n",
    "nx.draw(G, with_labels=True, node_color=node_colors, edge_color='gray', node_size=700, font_size=10)\n",
    "plt.show()"
   ]
  },
  {
   "cell_type": "code",
   "execution_count": null,
   "id": "962e2747",
   "metadata": {},
   "outputs": [],
   "source": []
  }
 ],
 "metadata": {
  "kernelspec": {
   "display_name": "Python 3",
   "language": "python",
   "name": "python3"
  },
  "language_info": {
   "codemirror_mode": {
    "name": "ipython",
    "version": 3
   },
   "file_extension": ".py",
   "mimetype": "text/x-python",
   "name": "python",
   "nbconvert_exporter": "python",
   "pygments_lexer": "ipython3",
   "version": "3.9.12"
  }
 },
 "nbformat": 4,
 "nbformat_minor": 5
}
