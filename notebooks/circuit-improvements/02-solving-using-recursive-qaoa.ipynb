{
 "cells": [
  {
   "cell_type": "code",
   "execution_count": 1,
   "id": "151472e1",
   "metadata": {},
   "outputs": [],
   "source": [
    "# Hide warnings\n",
    "from logging import FATAL\n",
    "import warnings\n",
    "\n",
    "warnings.filterwarnings('ignore')\n",
    "\n",
    "# General dependencies\n",
    "import json\n",
    "import networkx as nx\n",
    "import numpy as np\n",
    "import os\n",
    "import matplotlib.pyplot as plt\n",
    "import seaborn as sns\n",
    "import pandas as pd\n",
    "from typing import List, Tuple\n",
    "\n",
    "# Qiskit global\n",
    "from qiskit.utils import algorithm_globals, QuantumInstance\n",
    "from qiskit import Aer, QuantumCircuit\n",
    "\n",
    "# Qiskit Algorithms\n",
    "from qiskit.algorithms import QAOA, NumPyMinimumEigensolver\n",
    "from qiskit_optimization.algorithms import (\n",
    "    MinimumEigenOptimizer,\n",
    "    RecursiveMinimumEigenOptimizer,\n",
    "    SolutionSample,\n",
    "    OptimizationResultStatus,\n",
    ")\n",
    "from qiskit_optimization import QuadraticProgram\n",
    "\n",
    "from qiskit.quantum_info import PauliTable\n",
    "from qiskit.opflow.primitive_ops.primitive_op import PrimitiveOp\n",
    "from qiskit.opflow.primitive_ops.pauli_sum_op import PauliSumOp\n",
    "from qiskit.quantum_info.operators.symplectic.sparse_pauli_op import SparsePauliOp\n",
    "\n",
    "# Qiskit Visuals\n",
    "from qiskit.visualization import plot_histogram\n",
    "\n",
    "# Custom libraries\n",
    "import qaoa_vrp.build_graph\n",
    "import qaoa_vrp.features.graph_features\n",
    "import qaoa_vrp.features.tsp_features\n",
    "import qaoa_vrp.build_circuit\n",
    "import qaoa_vrp.clustering\n",
    "import qaoa_vrp.utils\n",
    "from qaoa_vrp.plot.feasibility_graph import (\n",
    "    plot_feasibility_results,\n",
    "    generate_feasibility_results,\n",
    ")\n",
    "from qaoa_vrp.initialisation.initialisation import Initialisation\n",
    "from qaoa_vrp.features.graph_features import get_graph_features\n",
    "from qaoa_vrp.features.tsp_features import get_tsp_features\n",
    "from qaoa_vrp.parallel.optimize_qaoa import run_qaoa_parallel_control_max_restarts\n",
    "\n",
    "plt.style.use('seaborn')\n",
    "warnings.filterwarnings(\"ignore\", category=DeprecationWarning)"
   ]
  },
  {
   "cell_type": "code",
   "execution_count": 71,
   "id": "913481e9",
   "metadata": {},
   "outputs": [],
   "source": [
    "# SET GLOBAL VARIABLES\n",
    "NUM_LAYERS = 1\n",
    "INITIAL_POINT = Initialisation().trotterized_quantum_annealing(p = NUM_LAYERS)\n",
    "\n",
    "RQAOA_MIN_NUM_VARS = 3\n",
    "RQAOA_N_RESTARTS = 15\n",
    "RQAOA_MIN_NUM_VARS = [1, 3, 5]"
   ]
  },
  {
   "cell_type": "code",
   "execution_count": 2,
   "id": "7f2bf89c",
   "metadata": {},
   "outputs": [],
   "source": [
    "filename = \"instanceType_asymmetric_tsp_numNodes_4_numVehicles_1_0083a1d22a6447f69091ac552ceb8ee2.json\"\n",
    "instance_path = \"../../data/{}\".format(filename)"
   ]
  },
  {
   "cell_type": "code",
   "execution_count": 3,
   "id": "2355480e",
   "metadata": {},
   "outputs": [],
   "source": [
    "with open(instance_path) as f:\n",
    "    data = json.load(f)\n",
    "    G, depot_info = qaoa_vrp.build_graph.build_json_graph(data[\"graph\"])\n",
    "    num_vehicles = int(data[\"numVehicles\"])\n",
    "    threshold = float(data[\"threshold\"])\n",
    "    n_max = int(data[\"n_max\"])"
   ]
  },
  {
   "cell_type": "code",
   "execution_count": 4,
   "id": "80b09a4e",
   "metadata": {},
   "outputs": [],
   "source": [
    "edge_mat = nx.linalg.graphmatrix.adjacency_matrix(G).toarray()\n",
    "cost_mat = np.array(nx.attr_matrix(G, edge_attr=\"cost\", rc_order=list(G.nodes())))\n",
    "for edge in G.edges():\n",
    "    G[edge[0]][edge[1]]['cost'] = 0\n",
    "\n",
    "edge_mat = nx.linalg.graphmatrix.adjacency_matrix(G).toarray()\n",
    "cost_mat = np.array(nx.attr_matrix(G, edge_attr=\"cost\", rc_order=list(G.nodes())))\n",
    "\n",
    "G, cluster_mapping = qaoa_vrp.clustering.create_clusters(\n",
    "    G, num_vehicles, \"spectral-clustering\", edge_mat\n",
    ")\n",
    "\n",
    "depot_edges = list(G.edges(depot_info[\"id\"], data=True))\n",
    "depot_node = depot_info[\"id\"]\n",
    "\n",
    "subgraphs = qaoa_vrp.clustering.build_sub_graphs(G, depot_node, depot_edges)\n",
    "\n",
    "# big_offset = sum(sum(cost_mat))/2 + 1\n",
    "big_offset = 30\n",
    "qubos = qaoa_vrp.build_circuit.build_qubos(subgraphs, depot_info, A=big_offset)\n",
    "\n",
    "cluster_mapping = [i + 1 for i in cluster_mapping]\n",
    "cluster_mapping.insert(0, 0)\n",
    "\n",
    "qubo = qubos[0]"
   ]
  },
  {
   "cell_type": "code",
   "execution_count": 5,
   "id": "861aeec2",
   "metadata": {
    "scrolled": true
   },
   "outputs": [
    {
     "name": "stdout",
     "output_type": "stream",
     "text": [
      "offset: 180.0\n",
      "operator: SummedOp([\n",
      "  -30.0 * IIIIIIIIZ,\n",
      "  -30.0 * IIIIIIIZI,\n",
      "  -30.0 * IIIIIIZII,\n",
      "  -30.0 * IIIIIZIII,\n",
      "  -30.0 * IIIIZIIII,\n",
      "  -30.0 * IIIZIIIII,\n",
      "  -30.0 * IIZIIIIII,\n",
      "  -30.0 * IZIIIIIII,\n",
      "  -30.0 * ZIIIIIIII,\n",
      "  15.0 * IIIIIIIZZ,\n",
      "  15.0 * IIIIIIZIZ,\n",
      "  15.0 * IIIIIIZZI,\n",
      "  15.0 * IIIIIZIIZ,\n",
      "  15.0 * IIIIZIIZI,\n",
      "  15.0 * IIIIZZIII,\n",
      "  15.0 * IIIZIIZII,\n",
      "  15.0 * IIIZIZIII,\n",
      "  15.0 * IIIZZIIII,\n",
      "  15.0 * IIZIIIIIZ,\n",
      "  15.0 * IIZIIZIII,\n",
      "  15.0 * IZIIIIIZI,\n",
      "  15.0 * IZIIZIIII,\n",
      "  15.0 * IZZIIIIII,\n",
      "  15.0 * ZIIIIIZII,\n",
      "  15.0 * ZIIZIIIII,\n",
      "  15.0 * ZIZIIIIII,\n",
      "  15.0 * ZZIIIIIII\n",
      "])\n"
     ]
    }
   ],
   "source": [
    "op_tsp, offset = qubo.to_ising()\n",
    "print(\"offset: {}\".format(offset))\n",
    "print(\"operator: {}\".format(op_tsp))"
   ]
  },
  {
   "cell_type": "code",
   "execution_count": 6,
   "id": "6654b207",
   "metadata": {},
   "outputs": [],
   "source": [
    "list_of_paulis = []\n",
    "list_of_coeffs = []\n",
    "for i in list(op_tsp):\n",
    "    list_of_paulis.append(str(i.primitive))\n",
    "    list_of_coeffs.append(i.coeff)\n",
    "\n",
    "for i, pauli in enumerate(list_of_paulis):\n",
    "    if i == 0:\n",
    "        pauli_table = PauliTable(list_of_paulis[0])\n",
    "    else:\n",
    "        pauli_table += PauliTable(list_of_paulis[i])\n",
    "        \n",
    "op_tsp = PauliSumOp(SparsePauliOp(pauli_table, coeffs=list_of_coeffs))"
   ]
  },
  {
   "cell_type": "code",
   "execution_count": 7,
   "id": "d90702b9",
   "metadata": {},
   "outputs": [
    {
     "name": "stdout",
     "output_type": "stream",
     "text": [
      "\\ This file has been generated by DOcplex\n",
      "\\ ENCODING=ISO-8859-1\n",
      "\\Problem name: CPLEX\n",
      "\n",
      "Minimize\n",
      " obj: - 60 x0 - 60 x1 - 60 x2 - 60 x3 - 60 x4 - 60 x5 - 60 x6 - 60 x7 - 60 x8 +\n",
      "      [ 120 x0*x1 + 120 x0*x2 + 120 x0*x3 + 120 x0*x6 + 120 x1*x2 + 120 x1*x4\n",
      "      + 120 x1*x7 + 120 x2*x5 + 120 x2*x8 + 120 x3*x4 + 120 x3*x5 + 120 x3*x6\n",
      "      + 120 x4*x5 + 120 x4*x7 + 120 x5*x8 + 120 x6*x7 + 120 x6*x8 + 120 x7*x8\n",
      "      ]/2 + 180\n",
      "Subject To\n",
      "\n",
      "Bounds\n",
      " 0 <= x0 <= 1\n",
      " 0 <= x1 <= 1\n",
      " 0 <= x2 <= 1\n",
      " 0 <= x3 <= 1\n",
      " 0 <= x4 <= 1\n",
      " 0 <= x5 <= 1\n",
      " 0 <= x6 <= 1\n",
      " 0 <= x7 <= 1\n",
      " 0 <= x8 <= 1\n",
      "\n",
      "Binaries\n",
      " x0 x1 x2 x3 x4 x5 x6 x7 x8\n",
      "End\n",
      "\n"
     ]
    }
   ],
   "source": [
    "qp = QuadraticProgram()\n",
    "qp.from_ising(op_tsp, offset, linear=True)\n",
    "print(qp.export_as_lp_string())"
   ]
  },
  {
   "cell_type": "code",
   "execution_count": 100,
   "id": "5a0ac553",
   "metadata": {},
   "outputs": [],
   "source": [
    "algorithm_globals.random_seed = 10598\n",
    "quantum_instance = QuantumInstance(\n",
    "    Aer.get_backend(\"aer_simulator_matrix_product_state\"),\n",
    "    seed_simulator=algorithm_globals.random_seed,\n",
    "    seed_transpiler=algorithm_globals.random_seed,\n",
    ")\n",
    "qaoa_mes = QAOA(quantum_instance=quantum_instance, reps=NUM_LAYERS, initial_point=INITIAL_POINT)\n",
    "exact_mes = NumPyMinimumEigensolver()\n"
   ]
  },
  {
   "cell_type": "code",
   "execution_count": 101,
   "id": "f763d027",
   "metadata": {},
   "outputs": [],
   "source": [
    "qaoa = MinimumEigenOptimizer(qaoa_mes)  # using QAOA\n",
    "exact = MinimumEigenOptimizer(exact_mes)  # using the exact classical numpy minimum eigen solver"
   ]
  },
  {
   "cell_type": "code",
   "execution_count": 10,
   "id": "3fde5c7f",
   "metadata": {},
   "outputs": [
    {
     "data": {
      "text/plain": [
       "\\ This file has been generated by DOcplex\n",
       "\\ ENCODING=ISO-8859-1\n",
       "\\Problem name: CPLEX\n",
       "\n",
       "Minimize\n",
       " obj: - 60 x0 - 60 x1 - 60 x2 - 60 x3 - 60 x4 - 60 x5 - 60 x6 - 60 x7 - 60 x8 +\n",
       "      [ 120 x0*x1 + 120 x0*x2 + 120 x0*x3 + 120 x0*x6 + 120 x1*x2 + 120 x1*x4\n",
       "      + 120 x1*x7 + 120 x2*x5 + 120 x2*x8 + 120 x3*x4 + 120 x3*x5 + 120 x3*x6\n",
       "      + 120 x4*x5 + 120 x4*x7 + 120 x5*x8 + 120 x6*x7 + 120 x6*x8 + 120 x7*x8\n",
       "      ]/2 + 180\n",
       "Subject To\n",
       "\n",
       "Bounds\n",
       " 0 <= x0 <= 1\n",
       " 0 <= x1 <= 1\n",
       " 0 <= x2 <= 1\n",
       " 0 <= x3 <= 1\n",
       " 0 <= x4 <= 1\n",
       " 0 <= x5 <= 1\n",
       " 0 <= x6 <= 1\n",
       " 0 <= x7 <= 1\n",
       " 0 <= x8 <= 1\n",
       "\n",
       "Binaries\n",
       " x0 x1 x2 x3 x4 x5 x6 x7 x8\n",
       "End"
      ]
     },
     "execution_count": 10,
     "metadata": {},
     "output_type": "execute_result"
    }
   ],
   "source": [
    "qp"
   ]
  },
  {
   "cell_type": "code",
   "execution_count": 11,
   "id": "c47732e1",
   "metadata": {},
   "outputs": [],
   "source": [
    "ising_qubo = qubos[0].to_ising()"
   ]
  },
  {
   "cell_type": "code",
   "execution_count": null,
   "id": "d32ca9b9",
   "metadata": {},
   "outputs": [],
   "source": []
  },
  {
   "cell_type": "code",
   "execution_count": 12,
   "id": "90b1d017",
   "metadata": {},
   "outputs": [],
   "source": [
    "list_of_paulis = []\n",
    "list_of_coeffs = []\n",
    "for i in list(ising_qubo[0]):\n",
    "    list_of_paulis.append(str(i.primitive))\n",
    "    list_of_coeffs.append(i.coeff)\n"
   ]
  },
  {
   "cell_type": "code",
   "execution_count": 14,
   "id": "c2723e19",
   "metadata": {},
   "outputs": [],
   "source": [
    "for i, pauli in enumerate(list_of_paulis):\n",
    "    if i == 0:\n",
    "        pauli_table = PauliTable(list_of_paulis[0])\n",
    "    else:\n",
    "        pauli_table += PauliTable(list_of_paulis[i])\n"
   ]
  },
  {
   "cell_type": "code",
   "execution_count": 15,
   "id": "44503040",
   "metadata": {},
   "outputs": [],
   "source": [
    "op_tsp = PauliSumOp(SparsePauliOp(pauli_table, coeffs=list_of_coeffs))"
   ]
  },
  {
   "cell_type": "code",
   "execution_count": 16,
   "id": "25788532",
   "metadata": {},
   "outputs": [
    {
     "name": "stdout",
     "output_type": "stream",
     "text": [
      "\\ This file has been generated by DOcplex\n",
      "\\ ENCODING=ISO-8859-1\n",
      "\\Problem name: CPLEX\n",
      "\n",
      "Minimize\n",
      " obj: - 60 x0 - 60 x1 - 60 x2 - 60 x3 - 60 x4 - 60 x5 - 60 x6 - 60 x7 - 60 x8 +\n",
      "      [ 120 x0*x1 + 120 x0*x2 + 120 x0*x3 + 120 x0*x6 + 120 x1*x2 + 120 x1*x4\n",
      "      + 120 x1*x7 + 120 x2*x5 + 120 x2*x8 + 120 x3*x4 + 120 x3*x5 + 120 x3*x6\n",
      "      + 120 x4*x5 + 120 x4*x7 + 120 x5*x8 + 120 x6*x7 + 120 x6*x8 + 120 x7*x8\n",
      "      ]/2 + 180\n",
      "Subject To\n",
      "\n",
      "Bounds\n",
      " 0 <= x0 <= 1\n",
      " 0 <= x1 <= 1\n",
      " 0 <= x2 <= 1\n",
      " 0 <= x3 <= 1\n",
      " 0 <= x4 <= 1\n",
      " 0 <= x5 <= 1\n",
      " 0 <= x6 <= 1\n",
      " 0 <= x7 <= 1\n",
      " 0 <= x8 <= 1\n",
      "\n",
      "Binaries\n",
      " x0 x1 x2 x3 x4 x5 x6 x7 x8\n",
      "End\n",
      "\n"
     ]
    }
   ],
   "source": [
    "qp = QuadraticProgram()\n",
    "qp.from_ising(op_tsp, offset, linear=True)\n",
    "print(qp.export_as_lp_string())"
   ]
  },
  {
   "cell_type": "code",
   "execution_count": 41,
   "id": "e14493a1",
   "metadata": {},
   "outputs": [],
   "source": [
    "qaoa = MinimumEigenOptimizer(qaoa_mes)  # using QAOA\n",
    "exact = MinimumEigenOptimizer(exact_mes)  # using the exact classical numpy minimum eigen solver"
   ]
  },
  {
   "cell_type": "code",
   "execution_count": 46,
   "id": "f77f4ccb",
   "metadata": {},
   "outputs": [
    {
     "name": "stdout",
     "output_type": "stream",
     "text": [
      "optimal function value: 0.0\n",
      "optimal value: [0. 0. 1. 1. 0. 0. 0. 1. 0.]\n",
      "status: SUCCESS\n"
     ]
    }
   ],
   "source": [
    "exact_result = exact.solve(qp)\n",
    "print(exact_result)"
   ]
  },
  {
   "cell_type": "code",
   "execution_count": 29,
   "id": "d1ba40bc",
   "metadata": {},
   "outputs": [
    {
     "name": "stdout",
     "output_type": "stream",
     "text": [
      "optimal function value: 0.0\n",
      "optimal value: [0. 0. 1. 0. 1. 0. 1. 0. 0.]\n",
      "status: SUCCESS\n"
     ]
    }
   ],
   "source": [
    "qaoa_result = qaoa.solve(qp)\n",
    "print(qaoa_result)"
   ]
  },
  {
   "cell_type": "code",
   "execution_count": 66,
   "id": "4989b0d2",
   "metadata": {},
   "outputs": [],
   "source": [
    "# Identify probability of success\n",
    "FEASIBLE_SOLUTIONS = [\n",
    "    [1.,0.,0.,0.,1.,0.,0.,0.,1.], # 1 -> 2 -> 3\n",
    "    [1.,0.,0.,0.,0.,1.,0.,1.,0.], # 1 -> 3 -> 2\n",
    "    [0.,1.,0.,1.,0.,0.,0.,0.,1.], # 2 -> 1 -> 3\n",
    "    [0.,1.,0.,0.,0.,1.,1.,0.,0.], # 2 -> 3 -> 1\n",
    "    [0.,0.,1.,1.,0.,0.,0.,1.,0.], # 3 -> 1 -> 2\n",
    "    [0.,0.,1.,0.,1.,0.,1.,0.,0.], # 3 -> 2 -> 1\n",
    "]\n",
    "\n",
    "\n",
    "# Find results and probabilities where valid\n",
    "qaoa_feas_probs = []\n",
    "for i in range(len(qaoa_result.raw_samples)):\n",
    "    for j in FEASIBLE_SOLUTIONS:\n",
    "        if np.array_equal(qaoa_result.raw_samples[i].x, j):\n",
    "            qaoa_feas_probs.append(qaoa_result.raw_samples[i].probability)\n"
   ]
  },
  {
   "cell_type": "code",
   "execution_count": 69,
   "id": "131036ec",
   "metadata": {},
   "outputs": [
    {
     "name": "stdout",
     "output_type": "stream",
     "text": [
      "optimal function value: 60.0\n",
      "optimal value: [0. 0. 1. 1. 1. 0. 0. 0. 0.]\n",
      "status: SUCCESS\n"
     ]
    }
   ],
   "source": [
    "rqaoa = RecursiveMinimumEigenOptimizer(qaoa, min_num_vars=RQAOA_MIN_NUM_VARS, min_num_vars_optimizer=exact)\n",
    "rqaoa_result = rqaoa.solve(qp)\n",
    "print(rqaoa_result)"
   ]
  },
  {
   "cell_type": "code",
   "execution_count": 96,
   "id": "f2920aa7",
   "metadata": {},
   "outputs": [
    {
     "name": "stdout",
     "output_type": "stream",
     "text": [
      "optimal function value: 120.0\n",
      "optimal value: [1. 1. 0. 0. 1. 0. 0. 0. 0.]\n",
      "status: SUCCESS\n",
      "optimal function value: 120.0\n",
      "optimal value: [1. 0. 0. 0. 0. 0. 1. 0. 0.]\n",
      "status: SUCCESS\n"
     ]
    }
   ],
   "source": [
    "rqaoa_sols=[]\n",
    "for restart in range(RQAOA_N_RESTARTS):\n",
    "    rqaoa = RecursiveMinimumEigenOptimizer(\n",
    "        qaoa, min_num_vars=RQAOA_MIN_NUM_VARS, min_num_vars_optimizer=exact\n",
    "    )\n",
    "    rqaoa_result = rqaoa.solve(qp)\n",
    "    print(rqaoa_result)\n",
    "    rqaoa_sols.append(rqaoa_result.x)"
   ]
  },
  {
   "cell_type": "code",
   "execution_count": 99,
   "id": "96e886bd",
   "metadata": {},
   "outputs": [
    {
     "data": {
      "text/plain": [
       "0.109375"
      ]
     },
     "execution_count": 99,
     "metadata": {},
     "output_type": "execute_result"
    }
   ],
   "source": [
    "np.sum(qaoa_feas_probs)"
   ]
  },
  {
   "cell_type": "code",
   "execution_count": 95,
   "id": "b0b0d80e",
   "metadata": {},
   "outputs": [
    {
     "name": "stdout",
     "output_type": "stream",
     "text": [
      "0.5\n"
     ]
    }
   ],
   "source": [
    "rqaoa_res = []\n",
    "for rqaoa_sol in rqaoa_sols:\n",
    "    check = any(all(np.array_equal(x,y) for x,y  in zip(sol, rqaoa_sol)) for sol in FEASIBLE_SOLUTIONS)\n",
    "    rqaoa_res.append(check)\n",
    "    \n",
    "rqaoa_prob = sum(rqaoa_res)/len(rqaoa_res)\n",
    "print(rqaoa_prob)"
   ]
  }
 ],
 "metadata": {
  "kernelspec": {
   "display_name": "haqc",
   "language": "python",
   "name": "haqc"
  },
  "language_info": {
   "codemirror_mode": {
    "name": "ipython",
    "version": 3
   },
   "file_extension": ".py",
   "mimetype": "text/x-python",
   "name": "python",
   "nbconvert_exporter": "python",
   "pygments_lexer": "ipython3",
   "version": "3.9.9"
  }
 },
 "nbformat": 4,
 "nbformat_minor": 5
}
